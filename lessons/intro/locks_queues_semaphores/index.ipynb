{
 "cells": [
  {
   "cell_type": "markdown",
   "metadata": {},
   "source": [
    "# Řízení paralelních programů — zámky, fronty, semafory"
   ]
  },
  {
   "cell_type": "markdown",
   "metadata": {},
   "source": [
    "Dnes se ponoříme hlouběji do paralelního programování a ukážeme si hned několik způsobů, jak lze souběžně vykonávané úlohy řídit a tím předcházet celkem složitě odhalitelným problémům. "
   ]
  },
  {
   "cell_type": "markdown",
   "metadata": {},
   "source": [
    "## Problémy paralelního programování\n",
    "\n",
    "### Deadlock\n",
    "\n",
    "Deadlock je situace, kdy dokončení jedné akce závisí na dokončení druhé akce, ale druhá akce zase naopak závisí na té první. Takové úlohy na sebe čekají nekonečně dlouho a dojde k tzv. deadlocku.\n",
    "\n",
    "Typickým příkladem deadlocku z reálného světa je situace, kdy v dopravní špičce vjede do křižovatky spousta aut, aniž by ji mohli plynule projet. V takovém případě se celá křižovatka zasekne a pokud někdo nevzal rozum do hrsti a nevycouval na chvíli ven, stojí tam v deadlocku dodnes.\n",
    "\n",
    "### Vyhladovění (starvation)\n",
    "\n",
    "Vyhladovění je situace, kdy vlákno či proces čeká na nějaké prostředky, které potřebuje k úspěšnému splnění úlohy, ale protože tyto prostředky jsou neustále obsazené, nedočká se jich a program nikdy neskončí.\n",
    "\n",
    "Představte si sami sebe stojící na křižovatce se stopkou. Pokud bude opravdu hustý provoz a nikdo vás nepustí, dojde k vyhladovění (a to i doslova :D), protože se nikdy nedostanete na hlavní cestu, která je neustále plně vytížená.\n",
    "\n",
    "### Souběh (race condition)\n",
    "\n",
    "Souběh je situace, kdy více vláken najednou přistoupí ke sdíleným proměnným nebo zdrojům. Jednotlivá vlákna si pak mohou navzájem měnit data, což povede k nekonzistentním výsledkům.\n",
    "\n",
    "Pečete sušenky pro své kamarády a při ukládání do misky je počítáte, aby se dostalo na každého. V nestřeženém okamžiku vám je ale někdo v průběhu počítání začne ujídat. Počet upečených sušenek sice sedí a miska se zdá plná, ale minimálně jeden kamarád bude bez sušenky.\n",
    "\n",
    "Všechny výše zmíněné problémy se velmi těžko odhalují, protože se mimo jiné mohou objevit jen občas a za určitých specifických podmínek. Proto je daleko lepší jejich vzniku předcházet tak, že se naučíme vlákna a procesy řídit.\n",
    "\n",
    "Nejdříve si na velmi jednoduchém příkladu ukážeme, jak to vypadá, když vznikne souběh. Pro přehlednost budeme všechna vlákna implementovat jako vlastní třídu, která dědí ze třídy Thread."
   ]
  },
  {
   "cell_type": "markdown",
   "metadata": {},
   "source": [
    "## Souběh více vláken"
   ]
  },
  {
   "cell_type": "code",
   "execution_count": 1,
   "metadata": {},
   "outputs": [],
   "source": [
    "from threading import Thread\n",
    "\n",
    "class Worker(Thread):\n",
    "    def __init__(self):\n",
    "        super().__init__()\n",
    "    \n",
    "    def run(self):\n",
    "        for _ in range(10):\n",
    "            print('_', end='')\n",
    "            print('|', end='')"
   ]
  },
  {
   "cell_type": "markdown",
   "metadata": {},
   "source": [
    "Implementace vlastního vlákna je velmi jednoduchá a není o moc delší než použití funkce. Hlavní výhodou je přehlednost a možnost funkcionalitu vlákna rozdělit do více metod.\n",
    "\n",
    "Minimální vlákno musí implementovat metodu `__init__`, která nám jej pomůže vytvořit, a metodu `run`, která se zavolá při jeho spuštění.\n",
    "\n",
    "Každé naše vlákno vypíše vedle sebe desetkrát podtržítko a svislítko a pak se ukončí. Představme si pro tentokrát, že je tohle naše kritická část aplikace a my potřebujeme, aby se tyto dvě operace (výpisy) provedly vždy najednou a nestalo se mezi nimi nic jiného.\n",
    "\n",
    "Funguje to?"
   ]
  },
  {
   "cell_type": "code",
   "execution_count": 2,
   "metadata": {},
   "outputs": [
    {
     "name": "stdout",
     "output_type": "stream",
     "text": [
      "_|_|_|__|_|_|_|_|_|_|_|_|_|_|_|_|_|_|_|_|_|_|_||__|_|_|_||_|_|_|_|_|_|_|_|__|_|_|_|_|_|_||_|_|_|_|_|_|_|_|_|_|_|_|_|_|_|_|_|_|_|_|__|_|_|_|_|_|_|_|_|_|_|_|_|_||_|_|_|_|_|_|_|_|_|_|__|_|_|_|_|_|_|_|_|_|_|_|_|_|_|_|_|_|_|_||__|_|_|_|_|_|_|_|_|_|_|_|_||_|_|_|_|_|__|_|_|_|_|_|_|_|_|_||_|_|_|_|_|__|_|_|_|_|_|_|_|_|_|_|_|_|_|_|_|_|_||_|_|_|_|_|_|_|_|_|_|_|_|_|_|_|_|_|_|_|_|_|_|_|_|_|_|__|_|_|_|_|_|_|_|_|_||_|_|_|_|_|_|_|_|_|_|_|_|_|_|_|_|_|_|_|_|_|_|_|_|_|_|_|_|__||_|_|_|_|_|_|_|_|_|__|_||_|_|_|_|_|_|_|_|_|_|__|_|_|_|_|_|_||_|__|_|_|_|_|_|_|_|_|_||_|_|_|_|_|_|_|_|_|_|_|_|_|_|_|_|_|_|_|_|_|_|_|_|_|_|_|_|_|_|_|_|_|_|_|_|_|_|_|_|_|_|_|_|_|_|_|_|__|_|_|_||_|_|_|_|_|_|_|_|_|_|_|_|_|_|_|_|__|_|_|_|__|_|_|_||_|_|_|_|_|_||_|_|_|_|_|_|_|_|_|_|_|_|_|_|_|_|_|_|_|_|_|_|_|_|_|_|_|_|_|_|_|_|_|_|_|_|_|_|_|_|_|__|_|_|_|_|_|_|_|_|_|_|_|_|_|_|_|_|_|_|_|_|_|_|_|_|_|_|_|_|_|_|_|_|_|_|_|_|_|_|_||_|_|_|_|_|_|_|_|_|__|_|__|_|_|_|_|_|_|_|_|_||_|_|_|_|_|_|__|_|_|_|_|_|_|_|_||_|_|_|_|_|_|_|_|_|_|_|_|_|_|_|_|_|_|_|_|_|_||___|_||_|_|_|_|_|_|_|_|_|_|_|_|_|_|_|_|_|_|_|_|_||_|_|_|_|_|_|___||_|_|_|_|_|_|_|_|_||_|_|__|_|_|___|_|_|_|_|_|_|_|_|_||||_|_|_|_|_|_|_|_|_|_|_|_|_|_|_|_|___|_|_|_|_|_|_|_|_|_||_||_|_|_|_|_|_|_|_|__|_|_|_|_|_|_|_|_|_|_|_|_|_|_|_|_|_|_|_|_|_|_|_|_|_|_|_|_|_|_|_|_|_|_|_|_|_|_|_|_|_|_|_|_|_|_|_|_|_|_|_|_|_|_|_|_|_|_|_||_|_|_|_|_|_|_|_|__||_|_|_|_|_|_|_|_|_|_|_|_|_|_|_|_|__||_|_|_|_|_|_|_|__|_|_|_||_|_|_|_|_|_|_|_|_|_|_|_|_|_|_|_|_|_|_|_|_|_|__|_|_|_|_|_|_|_|_|_|_|_|_|_||_|_|_|_|_|__|_|_|_|_|_|_|_|_|_||_|_|_|_|_|_|__|_|_|_|_|_|_|_|_|_||_|_|_|_|_|_|_|_|_|__|_|_||_|___|_|_|_|_|_|_|_||_|_|_|_|_|_|_|_|_|_|_|_|_|_|_|_|_|_|_|_|_|_|_|_|_|_|_|_|_|_||_|_|_|_|_|_|_|_|_|_|_|_|_|_|_|_|_|_|_|_|_|_|_|_|_|_|_|_|_|_|_|_|_|_|_|_|_|_|_|_|_|_|_|_|_|_|_|_|_|_|_|_|_|_|_|_|_|_|_|_|_|_|_|_|_|__|_|_|_|_||__|_|_|_|_||_|_|_|_|_|_|_|_|_|_|_|_|_|_|_|_|_|_|_|_|_|_|_|_|_|_|_|_|_|_|__|_|_|_|_|_|_|_||_|_|_|_|_|_|_|_|_|_|_|_|_|_|_|_|_|_|_|__|__|_|_|_|_|_|_|_|_||_|_|_|_|_|_|_|_|_|_|_|_|_|_|_||_|_|_|_|_|_|_|_|_|_|_|_|_|"
     ]
    }
   ],
   "source": [
    "threads = []\n",
    "\n",
    "for _ in range(100):\n",
    "    t = Worker()\n",
    "    t.start()\n",
    "    threads.append(t)\n",
    "\n",
    "for t in threads:\n",
    "    t.join()"
   ]
  },
  {
   "cell_type": "markdown",
   "metadata": {},
   "source": [
    "Nefunguje. I když pro menší množství vláken by se mohlo zdát, že je vše v naprostém pořádku a problém by nám zůstal skryt. Na výpisu je vidět, že se někdy operace více vláken pomíchají a znaky se vypíšou v jiném než žádaném pořadí. A co kdyby se něco podobného stalo při práci s databází?\n",
    "\n",
    "S řešením přichází zámek."
   ]
  },
  {
   "cell_type": "markdown",
   "metadata": {},
   "source": [
    "## Zámek (Lock)"
   ]
  },
  {
   "cell_type": "markdown",
   "metadata": {},
   "source": [
    "Zámek je speciální objekt, který se určen ke sdílení mezi vlákny a který zajistí, že se pro danou sekci bude vykonávat vždy jen jedno vlákno. Volání `lock.acquire()` nám zajistí zamknutí zámku a `lock.release()` nám jej zase odemkne. Když bude chtít vlákno uzamknout zámek, který už uzamčený je, bude v tu chvíli zablokováno, dokud zámek nebude v jiném vláknu uvolněn.\n",
    "\n",
    "Zámek se používá pro ohraničení nějaké kritické sekce, kterou nesmí v jednu chvíli vykonávat více vláken. Tato sekce by ale měla být co nejmenší, aby ostatní vlákna mohla dělat práci okolo a nemusela čekat na odemknutí zámku."
   ]
  },
  {
   "cell_type": "code",
   "execution_count": 3,
   "metadata": {},
   "outputs": [],
   "source": [
    "from threading import Thread\n",
    "\n",
    "class Worker(Thread):\n",
    "    def __init__(self, lock):\n",
    "        Thread.__init__(self)\n",
    "        self.lock = lock\n",
    "    \n",
    "    def run(self):\n",
    "        for _ in range(10):\n",
    "            self.lock.acquire()\n",
    "            print('_', end='')\n",
    "            print('|', end='')\n",
    "            self.lock.release()"
   ]
  },
  {
   "cell_type": "markdown",
   "metadata": {},
   "source": [
    "Zámek se předává jako proměnná při vytváření vlákna a v rámci jeho běhu se popsaným způsobem použije."
   ]
  },
  {
   "cell_type": "code",
   "execution_count": 4,
   "metadata": {},
   "outputs": [
    {
     "name": "stdout",
     "output_type": "stream",
     "text": [
      "_|_|_|_|_|_|_|_|_|_|_|_|_|_|_|_|_|_|_|_|_|_|_|_|_|_|_|_|_|_|_|_|_|_|_|_|_|_|_|_|_|_|_|_|_|_|_|_|_|_|_|_|_|_|_|_|_|_|_|_|_|_|_|_|_|_|_|_|_|_|_|_|_|_|_|_|_|_|_|_|_|_|_|_|_|_|_|_|_|_|_|_|_|_|_|_|_|_|_|_|_|_|_|_|_|_|_|_|_|_|_|_|_|_|_|_|_|_|_|_|_|_|_|_|_|_|_|_|_|_|_|_|_|_|_|_|_|_|_|_|_|_|_|_|_|_|_|_|_|_|_|_|_|_|_|_|_|_|_|_|_|_|_|_|_|_|_|_|_|_|_|_|_|_|_|_|_|_|_|_|_|_|_|_|_|_|_|_|_|_|_|_|_|_|_|_|_|_|_|_|_|_|_|_|_|_|_|_|_|_|_|_|_|_|_|_|_|_|_|_|_|_|_|_|_|_|_|_|_|_|_|_|_|_|_|_|_|_|_|_|_|_|_|_|_|_|_|_|_|_|_|_|_|_|_|_|_|_|_|_|_|_|_|_|_|_|_|_|_|_|_|_|_|_|_|_|_|_|_|_|_|_|_|_|_|_|_|_|_|_|_|_|_|_|_|_|_|_|_|_|_|_|_|_|_|_|_|_|_|_|_|_|_|_|_|_|_|_|_|_|_|_|_|_|_|_|_|_|_|_|_|_|_|_|_|_|_|_|_|_|_|_|_|_|_|_|_|_|_|_|_|_|_|_|_|_|_|_|_|_|_|_|_|_|_|_|_|_|_|_|_|_|_|_|_|_|_|_|_|_|_|_|_|_|_|_|_|_|_|_|_|_|_|_|_|_|_|_|_|_|_|_|_|_|_|_|_|_|_|_|_|_|_|_|_|_|_|_|_|_|_|_|_|_|_|_|_|_|_|_|_|_|_|_|_|_|_|_|_|_|_|_|_|_|_|_|_|_|_|_|_|_|_|_|_|_|_|_|_|_|_|_|_|_|_|_|_|_|_|_|_|_|_|_|_|_|_|_|_|_|_|_|_|_|_|_|_|_|_|_|_|_|_|_|_|_|_|_|_|_|_|_|_|_|_|_|_|_|_|_|_|_|_|_|_|_|_|_|_|_|_|_|_|_|_|_|_|_|_|_|_|_|_|_|_|_|_|_|_|_|_|_|_|_|_|_|_|_|_|_|_|_|_|_|_|_|_|_|_|_|_|_|_|_|_|_|_|_|_|_|_|_|_|_|_|_|_|_|_|_|_|_|_|_|_|_|_|_|_|_|_|_|_|_|_|_|_|_|_|_|_|_|_|_|_|_|_|_|_|_|_|_|_|_|_|_|_|_|_|_|_|_|_|_|_|_|_|_|_|_|_|_|_|_|_|_|_|_|_|_|_|_|_|_|_|_|_|_|_|_|_|_|_|_|_|_|_|_|_|_|_|_|_|_|_|_|_|_|_|_|_|_|_|_|_|_|_|_|_|_|_|_|_|_|_|_|_|_|_|_|_|_|_|_|_|_|_|_|_|_|_|_|_|_|_|_|_|_|_|_|_|_|_|_|_|_|_|_|_|_|_|_|_|_|_|_|_|_|_|_|_|_|_|_|_|_|_|_|_|_|_|_|_|_|_|_|_|_|_|_|_|_|_|_|_|_|_|_|_|_|_|_|_|_|_|_|_|_|_|_|_|_|_|_|_|_|_|_|_|_|_|_|_|_|_|_|_|_|_|_|_|_|_|_|_|_|_|_|_|_|_|_|_|_|_|_|_|_|_|_|_|_|_|_|_|_|_|_|_|_|_|_|_|_|_|_|_|_|_|_|_|_|_|_|_|_|_|_|_|_|_|_|_|_|_|_|_|_|_|_|_|_|_|_|_|_|_|_|_|_|_|_|_|_|_|_|_|_|_|_|_|_|_|_|_|_|_|_|_|_|_|_|_|_|_|_|_|_|_|_|_|_|_|_|_|_|_|_|_|_|_|_|_|_|_|_|_|_|_|_|_|_|_|_|_|_|_|_|_|_|_|_|_|_|_|_|_|_|_|_|_|_|_|_|_|_|_|_|_|_|_|_|_|_|_|_|_|_|_|_|_|_|_|_|_|_|_|_|_|_|_|_|_|_|_|_|_|_|_|_|_|_|_|_|_|_|_|_|_|_|_|_|_|_|_|_|_|_|_|_|_|_|_|_|_|_|_|_|_|_|"
     ]
    }
   ],
   "source": [
    "from threading import Lock\n",
    "\n",
    "threads = []\n",
    "\n",
    "lock = Lock()\n",
    "\n",
    "for _ in range(100):\n",
    "    t = Worker(lock)\n",
    "    t.start()\n",
    "    threads.append(t)\n",
    "\n",
    "for t in threads:\n",
    "    t.join()"
   ]
  },
  {
   "cell_type": "markdown",
   "metadata": {},
   "source": [
    "Zámek se pro všechna vlákna vytvoří jen jeden a předá se jim jako argument.\n",
    "\n",
    "Na výsledku je vidět, že naše zámkem ohraničená kritická sekce se nyní opravdu vykonala vždy celá, aniž by byla přerušena jiným vláknem."
   ]
  },
  {
   "cell_type": "markdown",
   "metadata": {},
   "source": [
    "## Rlock"
   ]
  },
  {
   "cell_type": "markdown",
   "metadata": {},
   "source": [
    "Co když se stane, že se v rámci jednoho vlákna zavolá vícekrát `lock.acquire()`? Problém je na světě, protože zámek je uzamknut, další volání `lock.acquire()` je tím pádem blokující a najednou je jediné vlákno, které bylo schopno zámek uvolnit zaseknuté v čekání samo na sebe.\n",
    "\n",
    "Tento problém řeší `Rlock`. `Rlock` je speciální případ zámku, který je možné si v rámci jednoho vlákna uzamknout vícekrát. Je si jen třeba dát pozor na to, že jej v rámci toho samého vlákna musíme i odemknout tolikrát, kolikrát byl uzamčen."
   ]
  },
  {
   "cell_type": "markdown",
   "metadata": {},
   "source": [
    "## Fronta (Queue)"
   ]
  },
  {
   "cell_type": "markdown",
   "metadata": {},
   "source": [
    "Zámek je dobrý na ohraničení kritické sekce, ve které se chceme vyhnout souběhu. Dalším palčivým problémem je distribuce práce mezi jednotlivá vlákna tak, aby každý díl práce zpracovalo jen jedno vlákno a nelezly si do zelí. Od toho je tady fronta.\n",
    "\n",
    "Fronta je komunikační prostředek, do kterého je možné dávat objekty ke zpracování a z druhé strany je vybírat. Navíc je vkládání i vybírání automaticky uzamčeno, takže si vlákna nelezou do zelí, a v neposlední řadě obsahuje informaci, zda byl daný záznam ve frontě již zpracován, což umožňuje snadno počkat do chvíle, kdy bude vše hotovo.\n",
    "\n",
    "Pojďme si to ukázat na klasickém příkladu producer/consumer, ve kterém jedna skupina vláken generuje práci a ukládá ji do fronty a druhá skupina ji z fronty vybírá a zpracovává."
   ]
  },
  {
   "cell_type": "code",
   "execution_count": 5,
   "metadata": {},
   "outputs": [],
   "source": [
    "from threading import Thread\n",
    "from random import randint, uniform\n",
    "from time import sleep\n",
    "\n",
    "\n",
    "class Producer(Thread):\n",
    "    def __init__(self, queue):\n",
    "        Thread.__init__(self)\n",
    "        self.queue = queue\n",
    "    \n",
    "    def run(self):\n",
    "        for _ in range(5):\n",
    "            integer = randint(100, 1000)\n",
    "            self.queue.put(integer)\n",
    "            print(f'Producer({self.name}): {integer} → Q')\n",
    "\n",
    "            \n",
    "class Consumer(Thread):\n",
    "    def __init__(self, queue):\n",
    "        Thread.__init__(self)\n",
    "        self.queue = queue\n",
    "    \n",
    "    def run(self):\n",
    "        while True:\n",
    "            integer = self.queue.get()\n",
    "            print(f'Consumer({self.name}): {integer} ← Q')\n",
    "            sleep(uniform(0.2, 1.0))\n",
    "            self.queue.task_done()"
   ]
  },
  {
   "cell_type": "markdown",
   "metadata": {},
   "source": [
    "Obě vlákna dostávají frontu jako prostředek ke komunikaci. Producer do ní vkládá náhodná čísla a Consumer je vybírá ven a přitom o tom obě vlákna informují. Pokud není co z fronty vybrat, je volání metody `get` blokující a vlákno se zastaví a čeká na data ke zpracování. Consumer navíc po zpracování čísla a výpisu informace dá vědět pomocí `task_done()`, že je s danou úlohou hotov."
   ]
  },
  {
   "cell_type": "code",
   "execution_count": 6,
   "metadata": {},
   "outputs": [
    {
     "name": "stdout",
     "output_type": "stream",
     "text": [
      "Producer(Thread-204): 547 → Q\n",
      "Producer(Thread-204): 775 → Q\n",
      "Producer(Thread-204): 791 → Q\n",
      "Producer(Thread-204): 913 → Q\n",
      "Producer(Thread-204): 834 → Q\n",
      "Consumer(Thread-205): 547 ← Q\n",
      "Producer(Thread-206): 657 → Q\n",
      "Producer(Thread-206): 838 → Q\n",
      "Producer(Thread-206): 240 → Q\n",
      "Producer(Thread-206): 140 → Q\n",
      "Producer(Thread-206): 739 → Q\n",
      "Consumer(Thread-207): 775 ← Q\n",
      "Consumer(Thread-205): 791 ← Q\n",
      "Consumer(Thread-207): 913 ← Q\n",
      "Consumer(Thread-205): 834 ← Q\n",
      "Consumer(Thread-207): 657 ← Q\n",
      "Consumer(Thread-205): 838 ← Q\n",
      "Consumer(Thread-207): 240 ← Q\n",
      "Consumer(Thread-207): 140 ← Q\n",
      "Consumer(Thread-205): 739 ← Q\n"
     ]
    }
   ],
   "source": [
    "from queue import Queue\n",
    "\n",
    "queue = Queue()\n",
    "\n",
    "for _ in range(2):\n",
    "    t = Producer(queue)\n",
    "    t.start()\n",
    "    t = Consumer(queue)\n",
    "    t.start()\n",
    "\n",
    "queue.join()"
   ]
  },
  {
   "cell_type": "markdown",
   "metadata": {},
   "source": [
    "Na výstupu je vidět, jak to celé probíhá. Vlákna rozlišujeme automaticky generovaným jménem. Navíc, jelikož pracujeme s frontou úloh, nemusíme čekat na konec všech vláken, ale stačí nám počkat, až bude vše ve frontě vyřízeno.\n",
    "\n",
    "Fronta se díky své ochraně při zápisu i čtení dá využít i jako prostředek pro sběr výsledků z vláken.\n",
    "\n",
    "Nejpoužívanější fronta je typu FIFO (first in, first out) a tedy první vložený prvek je také jako první z fronty vytažen ven. V Pythonu máme k dispozici ještě zásobník neboli `LifoQueue`frontu (last in, first out), což funguje stejně jako zásobník v pistoli, kde poslední vložený náboj letí jako první ven, a také prioritní frontu `PriorityQueue`, kde můžeme jednotlivým úlohám zadat při vkládání prioritu a podlé ní je pak dostávají vlákna ke zpracování.\n",
    "\n",
    "Všem těmto frontám můžeme také zadat maximální velikost, což způsobí, že vlákno, které se bude snažit něco vložit do fronty metodou `put`, i když ta už bude plná, bude zastaveno, dokud se ve frontě neuvolní místo."
   ]
  },
  {
   "cell_type": "markdown",
   "metadata": {},
   "source": [
    "## Semafor (Semaphore)"
   ]
  },
  {
   "cell_type": "markdown",
   "metadata": {},
   "source": [
    "Zámek je fajn, pokud se chceme omezit jen na jedno běžící vlákno. Co když ale chceme limitovat počet vláken, ale přes to nechat fungovat více než jen jedno? Na to je tady `Semaphore`.\n",
    "\n",
    "`Semaphore` je vlastně jednoduchý čítač, který má na začátku nějakou hodnotu. S každým uzamčením semaforu se tato hodnota sníží o jedničku. Když je semafor na nule, je jeho další uzamčení zablokováno a vlákno si musí počkat až jej jiné vlákno odemkne, čímž se počítadlo zase o jedničku zvýší.\n",
    "\n",
    "Tím si můžeme zajistit, že se do určité kritické sekce našeho programu nedostane najednou více než určitý počet vláken daný počáteční hodnotou semaforu.\n",
    "\n",
    "Implementace je zde téměř totožná jako v předchozích případech, jen místo fronty či zámku dostávají vlákna sdílený semafor. Na práci pak mají jen vypisovat informace o svém běhu a náhodný čas počkat mezi iteracemi."
   ]
  },
  {
   "cell_type": "code",
   "execution_count": 7,
   "metadata": {},
   "outputs": [],
   "source": [
    "from threading import Thread\n",
    "from time import sleep\n",
    "from random import uniform\n",
    "\n",
    "class Worker(Thread):\n",
    "    def __init__(self, semaphore):\n",
    "        Thread.__init__(self)\n",
    "        self.semaphore = semaphore\n",
    "    \n",
    "    def run(self):\n",
    "        print(f'{self.name} starting')\n",
    "        self.semaphore.acquire()\n",
    "        for _ in range(4):\n",
    "            print(f'{self.name} is working')\n",
    "            sleep(uniform(0.1, 0.5))\n",
    "        self.semaphore.release()\n",
    "        print(f'{self.name} is done')"
   ]
  },
  {
   "cell_type": "markdown",
   "metadata": {},
   "source": [
    "Nastavením semaforu limitujeme počet pracujících vláken v naší kritické sekci na dvě, i když už od začátku máme nastartovaných všech šest."
   ]
  },
  {
   "cell_type": "code",
   "execution_count": 8,
   "metadata": {},
   "outputs": [
    {
     "name": "stdout",
     "output_type": "stream",
     "text": [
      "Thread-208 starting\n",
      "Thread-208 is working\n",
      "Thread-209 starting\n",
      "Thread-209 is working\n",
      "Thread-210 starting\n",
      "Thread-211 starting\n",
      "Thread-212 starting\n",
      "Thread-213 starting\n",
      "Thread-209 is working\n",
      "Thread-208 is working\n",
      "Thread-208 is working\n",
      "Thread-209 is working\n",
      "Thread-209 is working\n",
      "Thread-208 is working\n",
      "Thread-209 is done\n",
      "Thread-210 is working\n",
      "Thread-208 is doneThread-211 is working\n",
      "\n",
      "Thread-210 is working\n",
      "Thread-210 is working\n",
      "Thread-211 is working\n",
      "Thread-210 is working\n",
      "Thread-211 is working\n",
      "Thread-210 is doneThread-212 is working\n",
      "\n",
      "Thread-211 is working\n",
      "Thread-212 is working\n",
      "Thread-211 is doneThread-213 is working\n",
      "\n",
      "Thread-212 is working\n",
      "Thread-213 is working\n",
      "Thread-212 is working\n",
      "Thread-213 is working\n",
      "Thread-212 is done\n",
      "Thread-213 is working\n",
      "Thread-213 is done\n"
     ]
    }
   ],
   "source": [
    "from threading import Semaphore\n",
    "\n",
    "threads = []\n",
    "\n",
    "semaphore = Semaphore(2)\n",
    "\n",
    "for _ in range(6):\n",
    "    t = Worker(semaphore)\n",
    "    t.start()\n",
    "    threads.append(t)\n",
    "\n",
    "for t in threads:\n",
    "    t.join()"
   ]
  },
  {
   "cell_type": "markdown",
   "metadata": {},
   "source": [
    "# A co procesy?"
   ]
  },
  {
   "cell_type": "markdown",
   "metadata": {},
   "source": [
    "Dnes jsme si ještě měli povídat i o procesech přeci!\n",
    "\n",
    "Ano, měli, ale není to potřeba, protože vše, co jsme si dnes vysvětlili, funguje velmi podobně i pro procesy. Je to podobná situace jako minule, kdy jsme mohli v implementaci snadno vyměnit proces za vlákno a vše fungovalo vesele dál. Jednotlivé mechanismy jsou samozřejmě pro procesy implementovány jinak, ale co se použití týče, jsou rozdílné jen minimálně.\n",
    "\n",
    "`multiprocessing.Queue` například neoperuje jako v případě vláken nad sdílenou pamětí, ale používá jednosměrnou komunikační rouru směrem od rodičovského procesu k potomkům. Kvůli tomu nemohou procesy označit úlohu z fronty za vyřešenou a jejich ukončení je třeba řešit jinak.\n",
    "\n",
    "Zatímco u vláken v jednom procesu je Python svým pánem a operuje nad jedním kusem sdílené paměti, která procesu náleží, u řízení více procesů a komunikace mezi nimi je obecně podstatně větší závislost na tom, jak jsou jednotlivé mechanismy implementovány na úrovni operačního systému."
   ]
  }
 ],
 "metadata": {
  "kernelspec": {
   "display_name": "Python 3",
   "language": "python",
   "name": "python3"
  },
  "language_info": {
   "codemirror_mode": {
    "name": "ipython",
    "version": 3
   },
   "file_extension": ".py",
   "mimetype": "text/x-python",
   "name": "python",
   "nbconvert_exporter": "python",
   "pygments_lexer": "ipython3",
   "version": "3.8.1"
  }
 },
 "nbformat": 4,
 "nbformat_minor": 2
}
