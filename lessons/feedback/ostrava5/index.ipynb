{
 "cells": [
  {
   "cell_type": "markdown",
   "metadata": {
    "slideshow": {
     "slide_type": "slide"
    }
   },
   "source": [
    "# Feedback k domácím projektům"
   ]
  },
  {
   "cell_type": "markdown",
   "metadata": {
    "slideshow": {
     "slide_type": "slide"
    }
   },
   "source": [
    "## Želva\n",
    "* exitonclick() v těle funkce\n",
    "* import v těle funkce\n",
    "* jak to udělat, aby mi terminál, kde zadává uživatel velikost strany, nepřekrylo okno s želvou?\n",
    "* popisné stringy místo komentářů?"
   ]
  },
  {
   "cell_type": "code",
   "execution_count": null,
   "metadata": {},
   "outputs": [],
   "source": [
    "from turtle import shape, forward, left, right, exitonclick\n",
    "strana = int(input('Pro nakresleni domecku zadej delku strany v celych cislech: '))\n",
    "def domecek(strana):\n",
    "    from math import sqrt\n",
    "    shape('turtle')\n",
    "    'Podsada a prava strana'\n",
    "    for a in range(2):\n",
    "        forward(strana)\n",
    "        left(90)\n",
    "    forward(strana)\n",
    "    'Otoceni na strechu'\n",
    "    right(180-45)\n",
    "    for b in range(2):\n",
    "        forward((sqrt(strana**2+strana**2))/2)\n",
    "        right(90)\n",
    "    forward(sqrt(strana**2+strana**2))\n",
    "    right(135)\n",
    "    forward(strana)\n",
    "    right(135)\n",
    "    forward(sqrt(strana**2+strana**2))\n",
    "    left(45)\n",
    "    forward(strana)\n",
    "    exitonclick()\n",
    "    \n",
    "domecek(strana)"
   ]
  },
  {
   "cell_type": "markdown",
   "metadata": {
    "slideshow": {
     "slide_type": "slide"
    }
   },
   "source": [
    "## Importy patří na první řádky programu"
   ]
  },
  {
   "cell_type": "code",
   "execution_count": null,
   "metadata": {},
   "outputs": [],
   "source": [
    "def kamen_nuzky_papir(otazka):\n",
    "    while True:\n",
    "        from random import randrange # !!! IMPORT PATŘÍ NA PRVNÍ ŘÁDKY PROGRAMU\n",
    "        tah_pocitace =  randrange(3)\n",
    "        if tah_pocitace == 0:\n",
    "            tah_pocitace ='kamen'\n",
    "        elif tah_pocitace == 1:\n",
    "            tah_pocitace = 'nuzky'\n",
    "        else:\n",
    "            tah_pocitace ='papir'\n",
    "# .....\n",
    "# Toto není celá funkce, jen ukázka k použití importu"
   ]
  },
  {
   "cell_type": "markdown",
   "metadata": {
    "slideshow": {
     "slide_type": "slide"
    }
   },
   "source": [
    "## Rekurze"
   ]
  },
  {
   "cell_type": "code",
   "execution_count": null,
   "metadata": {},
   "outputs": [],
   "source": [
    "def tah_pocitace(hraci_pole):\n",
    "    zadana_pozice = randrange(0, 19)\n",
    "    obsazovane_pole = hraci_pole[zadana_pozice]\n",
    "    if obsazovane_pole == \"-\":\n",
    "        tah(hraci_pole, zadana_pozice, symbol)\n",
    "    else:\n",
    "        tah_pocitace(hraci_pole)"
   ]
  },
  {
   "cell_type": "markdown",
   "metadata": {
    "slideshow": {
     "slide_type": "slide"
    }
   },
   "source": [
    "## Rekurze nebo while"
   ]
  },
  {
   "cell_type": "code",
   "execution_count": null,
   "metadata": {},
   "outputs": [],
   "source": [
    "def tah_pocitace(hraci_pole):\n",
    "    while True:\n",
    "        zadana_pozice = randrange(0, 19)\n",
    "        obsazovane_pole = hraci_pole[zadana_pozice]\n",
    "        if obsazovane_pole == \"-\":\n",
    "            tah(hraci_pole, zadana_pozice, symbol)"
   ]
  },
  {
   "cell_type": "code",
   "execution_count": null,
   "metadata": {},
   "outputs": [],
   "source": [
    "def tah_pocitace(hraci_pole):\n",
    "    while True:\n",
    "        zadana_pozice = randrange(20)\n",
    "        if hraci_pole[zadana_pozice] == \"-\":\n",
    "            return tah(hraci_pole, zadana_pozice, symbol)"
   ]
  },
  {
   "cell_type": "markdown",
   "metadata": {
    "slideshow": {
     "slide_type": "slide"
    }
   },
   "source": [
    "## Funkce ano_nebo_ne()"
   ]
  },
  {
   "cell_type": "code",
   "execution_count": null,
   "metadata": {},
   "outputs": [],
   "source": [
    "def ano_nebo_ne(otazka):\n",
    "    \"Vrátí True nebo False, podle odpovědi uživatele\"\n",
    "    while True:\n",
    "        odpoved = input(otazka)\n",
    "\n",
    "        if odpoved.strip().lower() == 'ano' or odpoved.strip().lower() == 'a':\n",
    "            return True\n",
    "        elif odpoved.strip().lower() == 'ne' or odpoved.strip().lower() == 'n':\n",
    "            return False\n",
    "        else:\n",
    "            print('Nerozumím! Odpověz \"ano\" nebo \"ne\".')\n",
    "\n",
    "if ano_nebo_ne('Chceš si zahrát hru?  '):\n",
    "    print('OK! Ale napřed si ji musíš naprogramovat.')\n",
    "else:\n",
    "    print('Škoda.')"
   ]
  },
  {
   "cell_type": "code",
   "execution_count": null,
   "metadata": {},
   "outputs": [],
   "source": [
    "def ano_nebo_ne(otazka):\n",
    "    \"Vrátí True nebo False, podle odpovědi uživatele\"\n",
    "    while True:\n",
    "        odpoved = input(otazka).lower().strip()\n",
    "        if odpoved == 'ano' or odpoved == \"a\":\n",
    "            return True\n",
    "        elif odpoved == 'ne' or odpoved == \"n\":\n",
    "            return False\n",
    "        else:\n",
    "            print('Nerozumím! Odpověz \"ano\" nebo \"ne\".')   "
   ]
  },
  {
   "cell_type": "markdown",
   "metadata": {
    "slideshow": {
     "slide_type": "slide"
    }
   },
   "source": [
    "## Piškvorky a funkce vyhodnot()"
   ]
  },
  {
   "cell_type": "code",
   "execution_count": null,
   "metadata": {},
   "outputs": [],
   "source": [
    "def vyhodnot(pole):\n",
    "    if \"xxx\" in pole:\n",
    "        print(\"X\")\n",
    "    elif \"ooo\" in pole:\n",
    "        print(\"O\")\n",
    "    elif \"-\" not in pole:\n",
    "        print(\"!\")\n",
    "    else:\n",
    "        print(\"-\")"
   ]
  },
  {
   "cell_type": "code",
   "execution_count": null,
   "metadata": {},
   "outputs": [],
   "source": [
    "def vyhodnot(pole):\n",
    "    retezec = ''.join(pole)\n",
    "    result = '-'\n",
    "\n",
    "    if 'xxx' not in retezec and 'ooo' not in retezec and '-' not in retezec:\n",
    "        result = '!'\n",
    "    elif 'xxx' in retezec:\n",
    "        result = 'x'\n",
    "    elif 'ooo' in retezec:\n",
    "        result = 'o'\n",
    "\n",
    "    return result"
   ]
  },
  {
   "cell_type": "code",
   "execution_count": null,
   "metadata": {
    "slideshow": {
     "slide_type": "slide"
    }
   },
   "outputs": [],
   "source": [
    "def vyhodnot(pole):\n",
    "    if 'xxx' in pole:\n",
    "        return 'x'\n",
    "    elif 'ooo' in pole:\n",
    "        return 'o'\n",
    "    elif '-' not in pole:\n",
    "        return '!'\n",
    "    else:\n",
    "        return '-'"
   ]
  },
  {
   "cell_type": "markdown",
   "metadata": {
    "slideshow": {
     "slide_type": "slide"
    }
   },
   "source": [
    "## Piškvorky"
   ]
  },
  {
   "cell_type": "code",
   "execution_count": null,
   "metadata": {},
   "outputs": [],
   "source": [
    "from random import randrange\n",
    "\n",
    "def vyhodnot(pole):\n",
    "    \"Vyhodnotí stav pole.\"\n",
    "    if 'xxx' in pole:\n",
    "        return(\"x\")\n",
    "    elif 'ooo' in pole:\n",
    "        return(\"o\")\n",
    "    elif '-' not in pole:\n",
    "        return(\"!\")\n",
    "    else:\n",
    "        return '-'\n",
    "\n",
    "def tah(pole, pozice, symbol):\n",
    "    \"Vrátí herní pole s daným symbolem umístěným na danou pozici.\"\n",
    "    return pole[:pozice] + symbol + pole[pozice + 1:]\n",
    "\n",
    "def tah_hrace(herni_pole):\n",
    "    \"Ptá se hráče na kterou pozici chce hrát a vrací herní pole se zaznamenaným tahem\"\n",
    "    while True:\n",
    "        cislo_pozice = int(input(\"Na kterou pozici chceš hrát? \"))\n",
    "        if cislo_pozice >= 0 and cislo_pozice < len(herni_pole) and herni_pole[cislo_pozice] == \"-\":\n",
    "            return tah(herni_pole, cislo_pozice, \"x\")\n",
    "        else:\n",
    "            print(\"Špatná pozice, zkus to znovu. \")\n",
    "\n",
    "def tah_pocitace(herni_pole):\n",
    "    \"Vrátí herní pole se zaznamenaným tahem počítače. \"\n",
    "    while True:\n",
    "        cislo_pozice = randrange(len(herni_pole))\n",
    "        if herni_pole[cislo_pozice] == \"-\":\n",
    "            return tah(herni_pole, cislo_pozice, \"o\")\n",
    "\n",
    "def piskvorky():\n",
    "    \"Vygeneruje prázdné pole a střídá tah hráče a počítače. \"\n",
    "    pole = \"-\" * 20\n",
    "    while True:\n",
    "        print(pole)\n",
    "        pole = tah_hrace(pole)\n",
    "        print(pole)\n",
    "        if vyhodnot(pole) != '-':\n",
    "            break\n",
    "        pole = tah_pocitace(pole)\n",
    "        if vyhodnot(pole) != '-':\n",
    "            break\n",
    "    \n",
    "    print(pole)\n",
    "    if vyhodnot(pole) == '!':\n",
    "        print('Remíza!')\n",
    "    elif vyhodnot(pole) == 'x':\n",
    "        print('Vyhrála jsi!')\n",
    "    elif vyhodnot(pole) == 'o':\n",
    "        print('Vyhrál počítač!')\n",
    "\n",
    "piskvorky()"
   ]
  },
  {
   "cell_type": "markdown",
   "metadata": {
    "slideshow": {
     "slide_type": "slide"
    }
   },
   "source": [
    "## Chyby v programu a jejich řešení"
   ]
  },
  {
   "cell_type": "markdown",
   "metadata": {},
   "source": [
    "Nejdříve chyby v syntaxi, na které si Python stěžuje ihned po přečtení programu."
   ]
  },
  {
   "cell_type": "code",
   "execution_count": 1,
   "metadata": {},
   "outputs": [
    {
     "ename": "SyntaxError",
     "evalue": "EOL while scanning string literal (<ipython-input-1-ccb09551c24e>, line 2)",
     "output_type": "error",
     "traceback": [
      "\u001b[1;36m  File \u001b[1;32m\"<ipython-input-1-ccb09551c24e>\"\u001b[1;36m, line \u001b[1;32m2\u001b[0m\n\u001b[1;33m    symbol_hrac = input('Chces o nebo x?)\u001b[0m\n\u001b[1;37m                                         ^\u001b[0m\n\u001b[1;31mSyntaxError\u001b[0m\u001b[1;31m:\u001b[0m EOL while scanning string literal\n"
     ]
    }
   ],
   "source": [
    "def piskvorky1d(symbol):\n",
    "    symbol_hrac = input('Chces o nebo x?)\n",
    "    pole= '-' * 20\n",
    "    print(pole)\n",
    "    vysledek == '-'\n",
    "\n",
    "    while vysledek =='-'\n",
    "    tah_hrace(pole,symbol_hrac)\n",
    "    print(pole)\n",
    "    if symbol_hrac == 'o':\n",
    "        symbol_pocitac == 'x'\n",
    "    else:\n",
    "        symbol_pocitac == 'o'\n",
    "    tah_pocitace(pole,symbol_pocitac)\n",
    "    print(pole)\n",
    "    vysledek == vyhodnot(pole)\n",
    "    print(vysledek)"
   ]
  },
  {
   "cell_type": "code",
   "execution_count": 2,
   "metadata": {
    "slideshow": {
     "slide_type": "slide"
    }
   },
   "outputs": [
    {
     "ename": "SyntaxError",
     "evalue": "invalid syntax (<ipython-input-2-caf4662f8092>, line 7)",
     "output_type": "error",
     "traceback": [
      "\u001b[1;36m  File \u001b[1;32m\"<ipython-input-2-caf4662f8092>\"\u001b[1;36m, line \u001b[1;32m7\u001b[0m\n\u001b[1;33m    while vysledek =='-'\u001b[0m\n\u001b[1;37m                        ^\u001b[0m\n\u001b[1;31mSyntaxError\u001b[0m\u001b[1;31m:\u001b[0m invalid syntax\n"
     ]
    }
   ],
   "source": [
    "def piskvorky1d(symbol):\n",
    "    symbol_hrac = input('Chces o nebo x?')\n",
    "    pole= '-' * 20\n",
    "    print(pole)\n",
    "    vysledek == '-'\n",
    "\n",
    "    while vysledek =='-'\n",
    "    tah_hrace(pole,symbol_hrac)\n",
    "    print(pole)\n",
    "    if symbol_hrac == 'o':\n",
    "        symbol_pocitac == 'x'\n",
    "    else:\n",
    "        symbol_pocitac == 'o'\n",
    "    tah_pocitace(pole,symbol_pocitac)\n",
    "    print(pole)\n",
    "    vysledek == vyhodnot(pole)\n",
    "    print(vysledek)"
   ]
  },
  {
   "cell_type": "code",
   "execution_count": 3,
   "metadata": {
    "slideshow": {
     "slide_type": "slide"
    }
   },
   "outputs": [
    {
     "ename": "IndentationError",
     "evalue": "expected an indented block (<ipython-input-3-849da4aa383b>, line 8)",
     "output_type": "error",
     "traceback": [
      "\u001b[1;36m  File \u001b[1;32m\"<ipython-input-3-849da4aa383b>\"\u001b[1;36m, line \u001b[1;32m8\u001b[0m\n\u001b[1;33m    tah_hrace(pole,symbol_hrac)\u001b[0m\n\u001b[1;37m            ^\u001b[0m\n\u001b[1;31mIndentationError\u001b[0m\u001b[1;31m:\u001b[0m expected an indented block\n"
     ]
    }
   ],
   "source": [
    "def piskvorky1d(symbol):\n",
    "    symbol_hrac = input('Chces o nebo x?')\n",
    "    pole= '-' * 20\n",
    "    print(pole)\n",
    "    vysledek == '-'\n",
    "\n",
    "    while vysledek =='-':\n",
    "    tah_hrace(pole,symbol_hrac)\n",
    "    print(pole)\n",
    "    if symbol_hrac == 'o':\n",
    "        symbol_pocitac == 'x'\n",
    "    else:\n",
    "        symbol_pocitac == 'o'\n",
    "    tah_pocitace(pole,symbol_pocitac)\n",
    "    print(pole)\n",
    "    vysledek == vyhodnot(pole)\n",
    "    print(vysledek)"
   ]
  },
  {
   "cell_type": "code",
   "execution_count": 4,
   "metadata": {
    "slideshow": {
     "slide_type": "slide"
    }
   },
   "outputs": [],
   "source": [
    "def piskvorky1d(symbol):\n",
    "    symbol_hrac = input('Chces o nebo x?')\n",
    "    pole= '-' * 20\n",
    "    print(pole)\n",
    "    vysledek == '-'\n",
    "\n",
    "    while vysledek =='-':\n",
    "        tah_hrace(pole,symbol_hrac)\n",
    "        print(pole)\n",
    "        if symbol_hrac == 'o':\n",
    "            symbol_pocitac == 'x'\n",
    "        else:\n",
    "            symbol_pocitac == 'o'\n",
    "        tah_pocitace(pole,symbol_pocitac)\n",
    "        print(pole)\n",
    "        vysledek == vyhodnot(pole)\n",
    "        print(vysledek)"
   ]
  },
  {
   "cell_type": "markdown",
   "metadata": {
    "slideshow": {
     "slide_type": "slide"
    }
   },
   "source": [
    "Pro řešení těch dalších už musíme kód v naší funkci spustit, jinak se o jeho chování nic nedozvíme."
   ]
  },
  {
   "cell_type": "code",
   "execution_count": 5,
   "metadata": {
    "slideshow": {
     "slide_type": "slide"
    }
   },
   "outputs": [
    {
     "ename": "TypeError",
     "evalue": "piskvorky1d() missing 1 required positional argument: 'symbol'",
     "output_type": "error",
     "traceback": [
      "\u001b[1;31m---------------------------------------------------------------------------\u001b[0m",
      "\u001b[1;31mTypeError\u001b[0m                                 Traceback (most recent call last)",
      "\u001b[1;32m<ipython-input-5-38c9f4d5522f>\u001b[0m in \u001b[0;36m<module>\u001b[1;34m\u001b[0m\n\u001b[0;32m     17\u001b[0m         \u001b[0mprint\u001b[0m\u001b[1;33m(\u001b[0m\u001b[0mvysledek\u001b[0m\u001b[1;33m)\u001b[0m\u001b[1;33m\u001b[0m\u001b[0m\n\u001b[0;32m     18\u001b[0m \u001b[1;33m\u001b[0m\u001b[0m\n\u001b[1;32m---> 19\u001b[1;33m \u001b[0mpiskvorky1d\u001b[0m\u001b[1;33m(\u001b[0m\u001b[1;33m)\u001b[0m\u001b[1;33m\u001b[0m\u001b[0m\n\u001b[0m",
      "\u001b[1;31mTypeError\u001b[0m: piskvorky1d() missing 1 required positional argument: 'symbol'"
     ]
    }
   ],
   "source": [
    "def piskvorky1d(symbol):\n",
    "    symbol_hrac = input('Chces o nebo x?')\n",
    "    pole= '-' * 20\n",
    "    print(pole)\n",
    "    vysledek == '-'\n",
    "\n",
    "    while vysledek =='-':\n",
    "        tah_hrace(pole,symbol_hrac)\n",
    "        print(pole)\n",
    "        if symbol_hrac == 'o':\n",
    "            symbol_pocitac == 'x'\n",
    "        else:\n",
    "            symbol_pocitac == 'o'\n",
    "        tah_pocitace(pole,symbol_pocitac)\n",
    "        print(pole)\n",
    "        vysledek == vyhodnot(pole)\n",
    "        print(vysledek)\n",
    "\n",
    "piskvorky1d()"
   ]
  },
  {
   "cell_type": "code",
   "execution_count": 6,
   "metadata": {
    "slideshow": {
     "slide_type": "slide"
    }
   },
   "outputs": [
    {
     "name": "stdout",
     "output_type": "stream",
     "text": [
      "Chces o nebo x?x\n",
      "--------------------\n"
     ]
    },
    {
     "ename": "NameError",
     "evalue": "name 'vysledek' is not defined",
     "output_type": "error",
     "traceback": [
      "\u001b[1;31m---------------------------------------------------------------------------\u001b[0m",
      "\u001b[1;31mNameError\u001b[0m                                 Traceback (most recent call last)",
      "\u001b[1;32m<ipython-input-6-7bbdc769e0fd>\u001b[0m in \u001b[0;36m<module>\u001b[1;34m\u001b[0m\n\u001b[0;32m     17\u001b[0m         \u001b[0mprint\u001b[0m\u001b[1;33m(\u001b[0m\u001b[0mvysledek\u001b[0m\u001b[1;33m)\u001b[0m\u001b[1;33m\u001b[0m\u001b[0m\n\u001b[0;32m     18\u001b[0m \u001b[1;33m\u001b[0m\u001b[0m\n\u001b[1;32m---> 19\u001b[1;33m \u001b[0mpiskvorky1d\u001b[0m\u001b[1;33m(\u001b[0m\u001b[1;33m)\u001b[0m\u001b[1;33m\u001b[0m\u001b[0m\n\u001b[0m",
      "\u001b[1;32m<ipython-input-6-7bbdc769e0fd>\u001b[0m in \u001b[0;36mpiskvorky1d\u001b[1;34m()\u001b[0m\n\u001b[0;32m      3\u001b[0m     \u001b[0mpole\u001b[0m\u001b[1;33m=\u001b[0m \u001b[1;34m'-'\u001b[0m \u001b[1;33m*\u001b[0m \u001b[1;36m20\u001b[0m\u001b[1;33m\u001b[0m\u001b[0m\n\u001b[0;32m      4\u001b[0m     \u001b[0mprint\u001b[0m\u001b[1;33m(\u001b[0m\u001b[0mpole\u001b[0m\u001b[1;33m)\u001b[0m\u001b[1;33m\u001b[0m\u001b[0m\n\u001b[1;32m----> 5\u001b[1;33m     \u001b[0mvysledek\u001b[0m \u001b[1;33m==\u001b[0m \u001b[1;34m'-'\u001b[0m\u001b[1;33m\u001b[0m\u001b[0m\n\u001b[0m\u001b[0;32m      6\u001b[0m \u001b[1;33m\u001b[0m\u001b[0m\n\u001b[0;32m      7\u001b[0m     \u001b[1;32mwhile\u001b[0m \u001b[0mvysledek\u001b[0m \u001b[1;33m==\u001b[0m\u001b[1;34m'-'\u001b[0m\u001b[1;33m:\u001b[0m\u001b[1;33m\u001b[0m\u001b[0m\n",
      "\u001b[1;31mNameError\u001b[0m: name 'vysledek' is not defined"
     ]
    }
   ],
   "source": [
    "def piskvorky1d():\n",
    "    symbol_hrac = input('Chces o nebo x?')\n",
    "    pole= '-' * 20\n",
    "    print(pole)\n",
    "    vysledek == '-'\n",
    "\n",
    "    while vysledek =='-':\n",
    "        tah_hrace(pole,symbol_hrac)\n",
    "        print(pole)\n",
    "        if symbol_hrac == 'o':\n",
    "            symbol_pocitac == 'x'\n",
    "        else:\n",
    "            symbol_pocitac == 'o'\n",
    "        tah_pocitace(pole,symbol_pocitac)\n",
    "        print(pole)\n",
    "        vysledek == vyhodnot(pole)\n",
    "        print(vysledek)\n",
    "\n",
    "piskvorky1d()"
   ]
  },
  {
   "cell_type": "code",
   "execution_count": 7,
   "metadata": {
    "slideshow": {
     "slide_type": "slide"
    }
   },
   "outputs": [
    {
     "name": "stdout",
     "output_type": "stream",
     "text": [
      "Chces o nebo x?x\n",
      "--------------------\n"
     ]
    },
    {
     "ename": "NameError",
     "evalue": "name 'tah_hrace' is not defined",
     "output_type": "error",
     "traceback": [
      "\u001b[1;31m---------------------------------------------------------------------------\u001b[0m",
      "\u001b[1;31mNameError\u001b[0m                                 Traceback (most recent call last)",
      "\u001b[1;32m<ipython-input-7-5eb14ce02964>\u001b[0m in \u001b[0;36m<module>\u001b[1;34m\u001b[0m\n\u001b[0;32m     17\u001b[0m         \u001b[0mprint\u001b[0m\u001b[1;33m(\u001b[0m\u001b[0mvysledek\u001b[0m\u001b[1;33m)\u001b[0m\u001b[1;33m\u001b[0m\u001b[0m\n\u001b[0;32m     18\u001b[0m \u001b[1;33m\u001b[0m\u001b[0m\n\u001b[1;32m---> 19\u001b[1;33m \u001b[0mpiskvorky1d\u001b[0m\u001b[1;33m(\u001b[0m\u001b[1;33m)\u001b[0m\u001b[1;33m\u001b[0m\u001b[0m\n\u001b[0m",
      "\u001b[1;32m<ipython-input-7-5eb14ce02964>\u001b[0m in \u001b[0;36mpiskvorky1d\u001b[1;34m()\u001b[0m\n\u001b[0;32m      6\u001b[0m \u001b[1;33m\u001b[0m\u001b[0m\n\u001b[0;32m      7\u001b[0m     \u001b[1;32mwhile\u001b[0m \u001b[0mvysledek\u001b[0m \u001b[1;33m==\u001b[0m\u001b[1;34m'-'\u001b[0m\u001b[1;33m:\u001b[0m\u001b[1;33m\u001b[0m\u001b[0m\n\u001b[1;32m----> 8\u001b[1;33m         \u001b[0mtah_hrace\u001b[0m\u001b[1;33m(\u001b[0m\u001b[0mpole\u001b[0m\u001b[1;33m,\u001b[0m\u001b[0msymbol_hrac\u001b[0m\u001b[1;33m)\u001b[0m\u001b[1;33m\u001b[0m\u001b[0m\n\u001b[0m\u001b[0;32m      9\u001b[0m         \u001b[0mprint\u001b[0m\u001b[1;33m(\u001b[0m\u001b[0mpole\u001b[0m\u001b[1;33m)\u001b[0m\u001b[1;33m\u001b[0m\u001b[0m\n\u001b[0;32m     10\u001b[0m         \u001b[1;32mif\u001b[0m \u001b[0msymbol_hrac\u001b[0m \u001b[1;33m==\u001b[0m \u001b[1;34m'o'\u001b[0m\u001b[1;33m:\u001b[0m\u001b[1;33m\u001b[0m\u001b[0m\n",
      "\u001b[1;31mNameError\u001b[0m: name 'tah_hrace' is not defined"
     ]
    }
   ],
   "source": [
    "def piskvorky1d():\n",
    "    symbol_hrac = input('Chces o nebo x?')\n",
    "    pole= '-' * 20\n",
    "    print(pole)\n",
    "    vysledek = '-'\n",
    "\n",
    "    while vysledek =='-':\n",
    "        tah_hrace(pole,symbol_hrac)\n",
    "        print(pole)\n",
    "        if symbol_hrac == 'o':\n",
    "            symbol_pocitac == 'x'\n",
    "        else:\n",
    "            symbol_pocitac == 'o'\n",
    "        tah_pocitace(pole,symbol_pocitac)\n",
    "        print(pole)\n",
    "        vysledek = vyhodnot(pole)\n",
    "        print(vysledek)\n",
    "\n",
    "piskvorky1d()"
   ]
  },
  {
   "cell_type": "markdown",
   "metadata": {
    "slideshow": {
     "slide_type": "slide"
    }
   },
   "source": [
    "## Nepřehánějme to s komentáři"
   ]
  },
  {
   "cell_type": "code",
   "execution_count": null,
   "metadata": {},
   "outputs": [],
   "source": [
    "#Program by měl vypisovat všechny hody a nakonec napsat, kdo vyhrál.\n",
    "def hazeni(hrac):\n",
    "    '''Tato funkce generuje náhodné hody kostkou hráče.\n",
    "    Výsledkem je počet hodů dokud nepadla šestka.'''\n",
    "#hodnota jedna, protože vždycky se alespoň jednou hodí kostkou\n",
    "    pocet = 1\n",
    "    while True:\n",
    "#hod generuje náhodná čísla 1-6\n",
    "        hod = randrange(1,7)\n",
    "        # print(hod, 'tohle jsem hodil')\n",
    "#v každém případě, kdy není hozena šestka, se připočítává k hodnotě počet jednička\n",
    "        if hod != 6:\n",
    "            pocet += 1\n",
    "            # print(pocet, 'tolik hodů')\n",
    "#když šestka padne, vypíše se v rámci funkce text a vrátí se hodnota (dále se s ní počítá jako s vyslB)\n",
    "        else:\n",
    "            print(hrac, '. hráč potřeboval ', pocet, ' hodů na hození šestky.', sep='')\n",
    "            return pocet"
   ]
  },
  {
   "cell_type": "code",
   "execution_count": null,
   "metadata": {
    "slideshow": {
     "slide_type": "slide"
    }
   },
   "outputs": [],
   "source": [
    "def obsah_elipsy(a, b):\n",
    "    obsah = pi * a * b  # Přiřazení do `obsah`\n",
    "    a = a + 3  # Přiřazení do `a`\n",
    "    return obsah"
   ]
  },
  {
   "cell_type": "markdown",
   "metadata": {
    "slideshow": {
     "slide_type": "slide"
    }
   },
   "source": [
    "## Plagiáty?"
   ]
  },
  {
   "cell_type": "markdown",
   "metadata": {},
   "source": [
    "![bart](static/bart-chalkboard.gif)"
   ]
  },
  {
   "cell_type": "markdown",
   "metadata": {
    "slideshow": {
     "slide_type": "slide"
    }
   },
   "source": [
    "## Pochvaly"
   ]
  },
  {
   "cell_type": "markdown",
   "metadata": {},
   "source": [
    "* Za to, že vaše programy očekávají různé vstupy - například `Ano`, `ANO`, `ano`, `A` atp.\n",
    "* Že jste se někteří úspěšně popasovali s bonusem **1D Piškvorky a test-driven development**\n",
    "* Za kreativní řešení, která nás pobavila, např. **funkce stupen_nasranosti()**\n",
    "* Pro ty, kteří se ptají"
   ]
  },
  {
   "cell_type": "markdown",
   "metadata": {
    "slideshow": {
     "slide_type": "slide"
    }
   },
   "source": [
    "## Obecné rady a doporučení"
   ]
  },
  {
   "cell_type": "markdown",
   "metadata": {},
   "source": [
    "* U funkcí vždy používáme dokumentační řetězce s trojtými uvozovkami. K popisu funkcí nepoužíváme komentáře.\n",
    "* Nezapomeňte kontrolovat svůj kód před odesláním, jestli tam nezůstali nějaké ladící hlášky nebo něco navíc.\n",
    "* **Dělejte i složitější úlohy**. I když se vám třeba nakonec nepodaří dokončit, je to lepší než je neudělat vůbec a je se alespoň o čem bavit a co řešit.\n",
    "* Ptejte se na Slacku !!!\n",
    "* Posílejte i nefunkční kód, chce to ale trochu podrobnější popis závady než \"Program mi nefunguje\""
   ]
  }
 ],
 "metadata": {
  "celltoolbar": "Slideshow",
  "kernelspec": {
   "display_name": "Python 3",
   "language": "python",
   "name": "python3"
  },
  "language_info": {
   "codemirror_mode": {
    "name": "ipython",
    "version": 3
   },
   "file_extension": ".py",
   "mimetype": "text/x-python",
   "name": "python",
   "nbconvert_exporter": "python",
   "pygments_lexer": "ipython3",
   "version": "3.7.0"
  }
 },
 "nbformat": 4,
 "nbformat_minor": 2
}
