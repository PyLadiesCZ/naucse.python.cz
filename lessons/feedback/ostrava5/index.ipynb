{
 "cells": [
  {
   "cell_type": "markdown",
   "metadata": {
    "slideshow": {
     "slide_type": "slide"
    }
   },
   "source": [
    "# Feedback k domácím projektům"
   ]
  },
  {
   "cell_type": "markdown",
   "metadata": {},
   "source": [
    "## Počet znaků v textu"
   ]
  },
  {
   "cell_type": "code",
   "execution_count": 1,
   "metadata": {},
   "outputs": [
    {
     "name": "stdout",
     "output_type": "stream",
     "text": [
      "Písmeno p je v textu 1x\n"
     ]
    }
   ],
   "source": [
    "text = \"\"\"Python je oblíbený programovací jazyk\"\"\"\n",
    "\n",
    "count_of_char = 0\n",
    "for char in text:\n",
    "    if char == \"p\":\n",
    "        count_of_char = count_of_char + 1\n",
    "\n",
    "print(f\"Písmeno p je v textu {count_of_char}x\") \n",
    "        "
   ]
  },
  {
   "cell_type": "code",
   "execution_count": 2,
   "metadata": {},
   "outputs": [
    {
     "name": "stdout",
     "output_type": "stream",
     "text": [
      "Písmeno p je v textu 2x\n"
     ]
    }
   ],
   "source": [
    "text = \"\"\"Python je oblíbený programovací jazyk\"\"\"\n",
    "text = text.lower()\n",
    "\n",
    "count_of_char = 0\n",
    "for char in text:\n",
    "    if char == \"p\":\n",
    "        count_of_char += 1\n",
    "\n",
    "print(f\"Písmeno p je v textu {count_of_char}x\") "
   ]
  },
  {
   "cell_type": "code",
   "execution_count": 3,
   "metadata": {},
   "outputs": [
    {
     "name": "stdout",
     "output_type": "stream",
     "text": [
      "Písmeno p je v textu 2x\n"
     ]
    }
   ],
   "source": [
    "text = \"\"\"Python je oblíbený programovací jazyk\"\"\"\n",
    "text = text.lower()\n",
    "\n",
    "count_of_char = text.count(\"p\")\n",
    "\n",
    "print(f\"Písmeno p je v textu {count_of_char}x\") "
   ]
  },
  {
   "cell_type": "markdown",
   "metadata": {
    "slideshow": {
     "slide_type": "slide"
    }
   },
   "source": [
    "## Rekurze"
   ]
  },
  {
   "cell_type": "code",
   "execution_count": null,
   "metadata": {},
   "outputs": [],
   "source": [
    "def tah_hrace(pole):\n",
    "    pozice = int(input('Zadej cislo policka (0-19):'))   \n",
    "    if pozice < 0:\n",
    "        print('Policko nemuze byt mensi nez 0. Zadej znovu cislo policka (0-19):')\n",
    "        return tah_hrace(pole)\n",
    "    elif pozice > 19:    \n",
    "        print('Policko nemuze byt vetsi nez 19. Zadej znovu cislo policka (0-19):')\n",
    "        return tah_hrace(pole)\n",
    "    else:\n",
    "        if '-' not in pole[pozice]:\n",
    "            print('Tohle policko uz je obsazene! Zadej znovu cislo policka (0-19):')\n",
    "            return tah_hrace(pole)\n",
    "        else:    \n",
    "            return tah(pole, pozice, 'o')"
   ]
  },
  {
   "cell_type": "markdown",
   "metadata": {
    "slideshow": {
     "slide_type": "slide"
    }
   },
   "source": [
    "## Funkce ano_nebo_ne()\n",
    "4x strip().lower()"
   ]
  },
  {
   "cell_type": "code",
   "execution_count": null,
   "metadata": {},
   "outputs": [],
   "source": [
    "def ano_nebo_ne(otazka):\n",
    "    \"Vrátí True nebo False, podle odpovědi uživatele\"\n",
    "    while True:\n",
    "        odpoved = input(otazka)\n",
    "\n",
    "        if odpoved.strip().lower() == 'ano' or odpoved.strip().lower() == 'a':\n",
    "            return True\n",
    "        elif odpoved.strip().lower() == 'ne' or odpoved.strip().lower() == 'n':\n",
    "            return False\n",
    "        else:\n",
    "            print('Nerozumím! Odpověz \"ano\" nebo \"ne\".')\n",
    "\n",
    "if ano_nebo_ne('Chceš si zahrát hru?  '):\n",
    "    print('OK! Ale napřed si ji musíš naprogramovat.')\n",
    "else:\n",
    "    print('Škoda.')"
   ]
  },
  {
   "cell_type": "code",
   "execution_count": null,
   "metadata": {
    "slideshow": {
     "slide_type": "slide"
    }
   },
   "outputs": [],
   "source": [
    "def ano_nebo_ne(otazka):\n",
    "    \"Vrátí True nebo False, podle odpovědi uživatele\"\n",
    "    while True:\n",
    "        odpoved = input(otazka).lower().strip()\n",
    "        if odpoved == 'ano' or odpoved == \"a\":\n",
    "            return True\n",
    "        elif odpoved == 'ne' or odpoved == \"n\":\n",
    "            return False\n",
    "        else:\n",
    "            print('Nerozumím! Odpověz \"ano\" nebo \"ne\".')   "
   ]
  },
  {
   "cell_type": "markdown",
   "metadata": {
    "slideshow": {
     "slide_type": "slide"
    }
   },
   "source": [
    "## Piškvorky a funkce `vyhodnot()`"
   ]
  },
  {
   "cell_type": "code",
   "execution_count": null,
   "metadata": {
    "slideshow": {
     "slide_type": "slide"
    }
   },
   "outputs": [],
   "source": [
    "def vyhodnot(hraci_pole):\n",
    "    if hraci_pole.count(\"xxx\"):\n",
    "        return \"x\"\n",
    "    elif hraci_pole.count(\"ooo\"):\n",
    "        return \"o\"\n",
    "    elif hraci_pole.count(\"-\") == 0:\n",
    "        return \"!\"\n",
    "    else:\n",
    "        return \"-\""
   ]
  },
  {
   "cell_type": "code",
   "execution_count": null,
   "metadata": {
    "slideshow": {
     "slide_type": "slide"
    }
   },
   "outputs": [],
   "source": [
    "def vyhodnot(pole):\n",
    "    if 'xxx' in pole:\n",
    "        return 'x'\n",
    "    elif 'ooo' in pole:\n",
    "        return 'o'\n",
    "    elif '-' not in pole:\n",
    "        return '!'\n",
    "    else:\n",
    "        return '-'"
   ]
  },
  {
   "cell_type": "markdown",
   "metadata": {},
   "source": [
    "## Funkce `bool()`"
   ]
  },
  {
   "cell_type": "code",
   "execution_count": 4,
   "metadata": {},
   "outputs": [
    {
     "data": {
      "text/plain": [
       "False"
      ]
     },
     "execution_count": 4,
     "metadata": {},
     "output_type": "execute_result"
    }
   ],
   "source": [
    "bool(0)"
   ]
  },
  {
   "cell_type": "code",
   "execution_count": 5,
   "metadata": {},
   "outputs": [
    {
     "data": {
      "text/plain": [
       "True"
      ]
     },
     "execution_count": 5,
     "metadata": {},
     "output_type": "execute_result"
    }
   ],
   "source": [
    "bool(1)"
   ]
  },
  {
   "cell_type": "code",
   "execution_count": 6,
   "metadata": {},
   "outputs": [
    {
     "data": {
      "text/plain": [
       "True"
      ]
     },
     "execution_count": 6,
     "metadata": {},
     "output_type": "execute_result"
    }
   ],
   "source": [
    "bool(5)"
   ]
  },
  {
   "cell_type": "code",
   "execution_count": 7,
   "metadata": {},
   "outputs": [
    {
     "data": {
      "text/plain": [
       "True"
      ]
     },
     "execution_count": 7,
     "metadata": {},
     "output_type": "execute_result"
    }
   ],
   "source": [
    "bool(-1)"
   ]
  },
  {
   "cell_type": "code",
   "execution_count": 8,
   "metadata": {},
   "outputs": [
    {
     "data": {
      "text/plain": [
       "False"
      ]
     },
     "execution_count": 8,
     "metadata": {},
     "output_type": "execute_result"
    }
   ],
   "source": [
    "bool(\"\")"
   ]
  },
  {
   "cell_type": "code",
   "execution_count": 9,
   "metadata": {},
   "outputs": [
    {
     "data": {
      "text/plain": [
       "True"
      ]
     },
     "execution_count": 9,
     "metadata": {},
     "output_type": "execute_result"
    }
   ],
   "source": [
    "bool(\"abc\")"
   ]
  },
  {
   "cell_type": "markdown",
   "metadata": {
    "slideshow": {
     "slide_type": "slide"
    }
   },
   "source": [
    "## Piškvorky"
   ]
  },
  {
   "cell_type": "code",
   "execution_count": null,
   "metadata": {
    "slideshow": {
     "slide_type": "slide"
    }
   },
   "outputs": [],
   "source": [
    "from random import randrange\n",
    "\n",
    "def vyhodnot(pole):\n",
    "    \"Vyhodnotí stav pole.\"\n",
    "    if 'xxx' in pole:\n",
    "        return(\"x\")\n",
    "    elif 'ooo' in pole:\n",
    "        return(\"o\")\n",
    "    elif '-' not in pole:\n",
    "        return(\"!\")\n",
    "    else:\n",
    "        return '-'\n",
    "\n",
    "def tah(pole, pozice, symbol):\n",
    "    \"Vrátí herní pole s daným symbolem umístěným na danou pozici.\"\n",
    "    return pole[:pozice] + symbol + pole[pozice + 1:]\n",
    "\n",
    "def tah_hrace(herni_pole):\n",
    "    \"Ptá se hráče na kterou pozici chce hrát a vrací herní pole se zaznamenaným tahem\"\n",
    "    while True:\n",
    "        cislo_pozice = int(input(\"Na kterou pozici chceš hrát? \"))\n",
    "        if cislo_pozice >= 0 and cislo_pozice < len(herni_pole) and herni_pole[cislo_pozice] == \"-\":\n",
    "            return tah(herni_pole, cislo_pozice, \"x\")\n",
    "        else:\n",
    "            print(\"Špatná pozice, zkus to znovu. \")\n",
    "\n",
    "def tah_pocitace(herni_pole):\n",
    "    \"Vrátí herní pole se zaznamenaným tahem počítače. \"\n",
    "    while True:\n",
    "        cislo_pozice = randrange(len(herni_pole))\n",
    "        if herni_pole[cislo_pozice] == \"-\":\n",
    "            return tah(herni_pole, cislo_pozice, \"o\")\n",
    "\n",
    "def piskvorky():\n",
    "    \"Vygeneruje prázdné pole a střídá tah hráče a počítače. \"\n",
    "    pole = \"-\" * 20\n",
    "    while True:\n",
    "        print(pole)\n",
    "        pole = tah_hrace(pole)\n",
    "        print(pole)\n",
    "        if vyhodnot(pole) != '-':\n",
    "            break\n",
    "        pole = tah_pocitace(pole)\n",
    "        if vyhodnot(pole) != '-':\n",
    "            break\n",
    "    \n",
    "    print(pole)\n",
    "    if vyhodnot(pole) == '!':\n",
    "        print('Remíza!')\n",
    "    elif vyhodnot(pole) == 'x':\n",
    "        print('Vyhrála jsi!')\n",
    "    elif vyhodnot(pole) == 'o':\n",
    "        print('Vyhrál počítač!')\n",
    "\n",
    "piskvorky()"
   ]
  },
  {
   "cell_type": "markdown",
   "metadata": {
    "slideshow": {
     "slide_type": "slide"
    }
   },
   "source": [
    "## Chyby v programu a jejich řešení"
   ]
  },
  {
   "cell_type": "markdown",
   "metadata": {},
   "source": [
    "Nejdříve chyby v syntaxi, na které si Python stěžuje ihned po přečtení programu."
   ]
  },
  {
   "cell_type": "code",
   "execution_count": 10,
   "metadata": {},
   "outputs": [
    {
     "ename": "SyntaxError",
     "evalue": "EOL while scanning string literal (<ipython-input-10-ccb09551c24e>, line 2)",
     "output_type": "error",
     "traceback": [
      "\u001b[0;36m  File \u001b[0;32m\"<ipython-input-10-ccb09551c24e>\"\u001b[0;36m, line \u001b[0;32m2\u001b[0m\n\u001b[0;31m    symbol_hrac = input('Chces o nebo x?)\u001b[0m\n\u001b[0m                                         ^\u001b[0m\n\u001b[0;31mSyntaxError\u001b[0m\u001b[0;31m:\u001b[0m EOL while scanning string literal\n"
     ]
    }
   ],
   "source": [
    "def piskvorky1d(symbol):\n",
    "    symbol_hrac = input('Chces o nebo x?)\n",
    "    pole= '-' * 20\n",
    "    print(pole)\n",
    "    vysledek == '-'\n",
    "\n",
    "    while vysledek =='-'\n",
    "    tah_hrace(pole,symbol_hrac)\n",
    "    print(pole)\n",
    "    if symbol_hrac == 'o':\n",
    "        symbol_pocitac == 'x'\n",
    "    else:\n",
    "        symbol_pocitac == 'o'\n",
    "    tah_pocitace(pole,symbol_pocitac)\n",
    "    print(pole)\n",
    "    vysledek == vyhodnot(pole)\n",
    "    print(vysledek)"
   ]
  },
  {
   "cell_type": "code",
   "execution_count": 11,
   "metadata": {
    "slideshow": {
     "slide_type": "slide"
    }
   },
   "outputs": [
    {
     "ename": "SyntaxError",
     "evalue": "invalid syntax (<ipython-input-11-caf4662f8092>, line 7)",
     "output_type": "error",
     "traceback": [
      "\u001b[0;36m  File \u001b[0;32m\"<ipython-input-11-caf4662f8092>\"\u001b[0;36m, line \u001b[0;32m7\u001b[0m\n\u001b[0;31m    while vysledek =='-'\u001b[0m\n\u001b[0m                        ^\u001b[0m\n\u001b[0;31mSyntaxError\u001b[0m\u001b[0;31m:\u001b[0m invalid syntax\n"
     ]
    }
   ],
   "source": [
    "def piskvorky1d(symbol):\n",
    "    symbol_hrac = input('Chces o nebo x?')\n",
    "    pole= '-' * 20\n",
    "    print(pole)\n",
    "    vysledek == '-'\n",
    "\n",
    "    while vysledek =='-'\n",
    "    tah_hrace(pole,symbol_hrac)\n",
    "    print(pole)\n",
    "    if symbol_hrac == 'o':\n",
    "        symbol_pocitac == 'x'\n",
    "    else:\n",
    "        symbol_pocitac == 'o'\n",
    "    tah_pocitace(pole,symbol_pocitac)\n",
    "    print(pole)\n",
    "    vysledek == vyhodnot(pole)\n",
    "    print(vysledek)"
   ]
  },
  {
   "cell_type": "code",
   "execution_count": 12,
   "metadata": {
    "slideshow": {
     "slide_type": "slide"
    }
   },
   "outputs": [
    {
     "ename": "IndentationError",
     "evalue": "expected an indented block (<ipython-input-12-849da4aa383b>, line 8)",
     "output_type": "error",
     "traceback": [
      "\u001b[0;36m  File \u001b[0;32m\"<ipython-input-12-849da4aa383b>\"\u001b[0;36m, line \u001b[0;32m8\u001b[0m\n\u001b[0;31m    tah_hrace(pole,symbol_hrac)\u001b[0m\n\u001b[0m            ^\u001b[0m\n\u001b[0;31mIndentationError\u001b[0m\u001b[0;31m:\u001b[0m expected an indented block\n"
     ]
    }
   ],
   "source": [
    "def piskvorky1d(symbol):\n",
    "    symbol_hrac = input('Chces o nebo x?')\n",
    "    pole= '-' * 20\n",
    "    print(pole)\n",
    "    vysledek == '-'\n",
    "\n",
    "    while vysledek =='-':\n",
    "    tah_hrace(pole,symbol_hrac)\n",
    "    print(pole)\n",
    "    if symbol_hrac == 'o':\n",
    "        symbol_pocitac == 'x'\n",
    "    else:\n",
    "        symbol_pocitac == 'o'\n",
    "    tah_pocitace(pole,symbol_pocitac)\n",
    "    print(pole)\n",
    "    vysledek == vyhodnot(pole)\n",
    "    print(vysledek)"
   ]
  },
  {
   "cell_type": "code",
   "execution_count": 13,
   "metadata": {
    "slideshow": {
     "slide_type": "slide"
    }
   },
   "outputs": [],
   "source": [
    "def piskvorky1d(symbol):\n",
    "    symbol_hrac = input('Chces o nebo x?')\n",
    "    pole= '-' * 20\n",
    "    print(pole)\n",
    "    vysledek == '-'\n",
    "\n",
    "    while vysledek =='-':\n",
    "        tah_hrace(pole,symbol_hrac)\n",
    "        print(pole)\n",
    "        if symbol_hrac == 'o':\n",
    "            symbol_pocitac == 'x'\n",
    "        else:\n",
    "            symbol_pocitac == 'o'\n",
    "        tah_pocitace(pole,symbol_pocitac)\n",
    "        print(pole)\n",
    "        vysledek == vyhodnot(pole)\n",
    "        print(vysledek)"
   ]
  },
  {
   "cell_type": "markdown",
   "metadata": {
    "slideshow": {
     "slide_type": "slide"
    }
   },
   "source": [
    "Pro řešení těch dalších už musíme kód v naší funkci spustit, jinak se o jeho chování nic nedozvíme."
   ]
  },
  {
   "cell_type": "code",
   "execution_count": 14,
   "metadata": {
    "slideshow": {
     "slide_type": "slide"
    }
   },
   "outputs": [
    {
     "ename": "TypeError",
     "evalue": "piskvorky1d() missing 1 required positional argument: 'symbol'",
     "output_type": "error",
     "traceback": [
      "\u001b[0;31m---------------------------------------------------------------------------\u001b[0m",
      "\u001b[0;31mTypeError\u001b[0m                                 Traceback (most recent call last)",
      "\u001b[0;32m<ipython-input-14-38c9f4d5522f>\u001b[0m in \u001b[0;36m<module>\u001b[0;34m\u001b[0m\n\u001b[1;32m     17\u001b[0m         \u001b[0mprint\u001b[0m\u001b[0;34m(\u001b[0m\u001b[0mvysledek\u001b[0m\u001b[0;34m)\u001b[0m\u001b[0;34m\u001b[0m\u001b[0;34m\u001b[0m\u001b[0m\n\u001b[1;32m     18\u001b[0m \u001b[0;34m\u001b[0m\u001b[0m\n\u001b[0;32m---> 19\u001b[0;31m \u001b[0mpiskvorky1d\u001b[0m\u001b[0;34m(\u001b[0m\u001b[0;34m)\u001b[0m\u001b[0;34m\u001b[0m\u001b[0;34m\u001b[0m\u001b[0m\n\u001b[0m",
      "\u001b[0;31mTypeError\u001b[0m: piskvorky1d() missing 1 required positional argument: 'symbol'"
     ]
    }
   ],
   "source": [
    "def piskvorky1d(symbol):\n",
    "    symbol_hrac = input('Chces o nebo x?')\n",
    "    pole= '-' * 20\n",
    "    print(pole)\n",
    "    vysledek == '-'\n",
    "\n",
    "    while vysledek =='-':\n",
    "        tah_hrace(pole,symbol_hrac)\n",
    "        print(pole)\n",
    "        if symbol_hrac == 'o':\n",
    "            symbol_pocitac == 'x'\n",
    "        else:\n",
    "            symbol_pocitac == 'o'\n",
    "        tah_pocitace(pole,symbol_pocitac)\n",
    "        print(pole)\n",
    "        vysledek == vyhodnot(pole)\n",
    "        print(vysledek)\n",
    "\n",
    "piskvorky1d()"
   ]
  },
  {
   "cell_type": "code",
   "execution_count": 15,
   "metadata": {
    "slideshow": {
     "slide_type": "slide"
    }
   },
   "outputs": [
    {
     "name": "stdout",
     "output_type": "stream",
     "text": [
      "Chces o nebo x?\n",
      "--------------------\n"
     ]
    },
    {
     "ename": "NameError",
     "evalue": "name 'vysledek' is not defined",
     "output_type": "error",
     "traceback": [
      "\u001b[0;31m---------------------------------------------------------------------------\u001b[0m",
      "\u001b[0;31mNameError\u001b[0m                                 Traceback (most recent call last)",
      "\u001b[0;32m<ipython-input-15-7bbdc769e0fd>\u001b[0m in \u001b[0;36m<module>\u001b[0;34m\u001b[0m\n\u001b[1;32m     17\u001b[0m         \u001b[0mprint\u001b[0m\u001b[0;34m(\u001b[0m\u001b[0mvysledek\u001b[0m\u001b[0;34m)\u001b[0m\u001b[0;34m\u001b[0m\u001b[0;34m\u001b[0m\u001b[0m\n\u001b[1;32m     18\u001b[0m \u001b[0;34m\u001b[0m\u001b[0m\n\u001b[0;32m---> 19\u001b[0;31m \u001b[0mpiskvorky1d\u001b[0m\u001b[0;34m(\u001b[0m\u001b[0;34m)\u001b[0m\u001b[0;34m\u001b[0m\u001b[0;34m\u001b[0m\u001b[0m\n\u001b[0m",
      "\u001b[0;32m<ipython-input-15-7bbdc769e0fd>\u001b[0m in \u001b[0;36mpiskvorky1d\u001b[0;34m()\u001b[0m\n\u001b[1;32m      3\u001b[0m     \u001b[0mpole\u001b[0m\u001b[0;34m=\u001b[0m \u001b[0;34m'-'\u001b[0m \u001b[0;34m*\u001b[0m \u001b[0;36m20\u001b[0m\u001b[0;34m\u001b[0m\u001b[0;34m\u001b[0m\u001b[0m\n\u001b[1;32m      4\u001b[0m     \u001b[0mprint\u001b[0m\u001b[0;34m(\u001b[0m\u001b[0mpole\u001b[0m\u001b[0;34m)\u001b[0m\u001b[0;34m\u001b[0m\u001b[0;34m\u001b[0m\u001b[0m\n\u001b[0;32m----> 5\u001b[0;31m     \u001b[0mvysledek\u001b[0m \u001b[0;34m==\u001b[0m \u001b[0;34m'-'\u001b[0m\u001b[0;34m\u001b[0m\u001b[0;34m\u001b[0m\u001b[0m\n\u001b[0m\u001b[1;32m      6\u001b[0m \u001b[0;34m\u001b[0m\u001b[0m\n\u001b[1;32m      7\u001b[0m     \u001b[0;32mwhile\u001b[0m \u001b[0mvysledek\u001b[0m \u001b[0;34m==\u001b[0m\u001b[0;34m'-'\u001b[0m\u001b[0;34m:\u001b[0m\u001b[0;34m\u001b[0m\u001b[0;34m\u001b[0m\u001b[0m\n",
      "\u001b[0;31mNameError\u001b[0m: name 'vysledek' is not defined"
     ]
    }
   ],
   "source": [
    "def piskvorky1d():\n",
    "    symbol_hrac = input('Chces o nebo x?')\n",
    "    pole= '-' * 20\n",
    "    print(pole)\n",
    "    vysledek == '-'\n",
    "\n",
    "    while vysledek =='-':\n",
    "        tah_hrace(pole,symbol_hrac)\n",
    "        print(pole)\n",
    "        if symbol_hrac == 'o':\n",
    "            symbol_pocitac == 'x'\n",
    "        else:\n",
    "            symbol_pocitac == 'o'\n",
    "        tah_pocitace(pole,symbol_pocitac)\n",
    "        print(pole)\n",
    "        vysledek == vyhodnot(pole)\n",
    "        print(vysledek)\n",
    "\n",
    "piskvorky1d()"
   ]
  },
  {
   "cell_type": "code",
   "execution_count": 16,
   "metadata": {
    "slideshow": {
     "slide_type": "slide"
    }
   },
   "outputs": [
    {
     "name": "stdout",
     "output_type": "stream",
     "text": [
      "Chces o nebo x?x\n",
      "--------------------\n"
     ]
    },
    {
     "ename": "NameError",
     "evalue": "name 'tah_hrace' is not defined",
     "output_type": "error",
     "traceback": [
      "\u001b[0;31m---------------------------------------------------------------------------\u001b[0m",
      "\u001b[0;31mNameError\u001b[0m                                 Traceback (most recent call last)",
      "\u001b[0;32m<ipython-input-16-5eb14ce02964>\u001b[0m in \u001b[0;36m<module>\u001b[0;34m\u001b[0m\n\u001b[1;32m     17\u001b[0m         \u001b[0mprint\u001b[0m\u001b[0;34m(\u001b[0m\u001b[0mvysledek\u001b[0m\u001b[0;34m)\u001b[0m\u001b[0;34m\u001b[0m\u001b[0;34m\u001b[0m\u001b[0m\n\u001b[1;32m     18\u001b[0m \u001b[0;34m\u001b[0m\u001b[0m\n\u001b[0;32m---> 19\u001b[0;31m \u001b[0mpiskvorky1d\u001b[0m\u001b[0;34m(\u001b[0m\u001b[0;34m)\u001b[0m\u001b[0;34m\u001b[0m\u001b[0;34m\u001b[0m\u001b[0m\n\u001b[0m",
      "\u001b[0;32m<ipython-input-16-5eb14ce02964>\u001b[0m in \u001b[0;36mpiskvorky1d\u001b[0;34m()\u001b[0m\n\u001b[1;32m      6\u001b[0m \u001b[0;34m\u001b[0m\u001b[0m\n\u001b[1;32m      7\u001b[0m     \u001b[0;32mwhile\u001b[0m \u001b[0mvysledek\u001b[0m \u001b[0;34m==\u001b[0m\u001b[0;34m'-'\u001b[0m\u001b[0;34m:\u001b[0m\u001b[0;34m\u001b[0m\u001b[0;34m\u001b[0m\u001b[0m\n\u001b[0;32m----> 8\u001b[0;31m         \u001b[0mtah_hrace\u001b[0m\u001b[0;34m(\u001b[0m\u001b[0mpole\u001b[0m\u001b[0;34m,\u001b[0m\u001b[0msymbol_hrac\u001b[0m\u001b[0;34m)\u001b[0m\u001b[0;34m\u001b[0m\u001b[0;34m\u001b[0m\u001b[0m\n\u001b[0m\u001b[1;32m      9\u001b[0m         \u001b[0mprint\u001b[0m\u001b[0;34m(\u001b[0m\u001b[0mpole\u001b[0m\u001b[0;34m)\u001b[0m\u001b[0;34m\u001b[0m\u001b[0;34m\u001b[0m\u001b[0m\n\u001b[1;32m     10\u001b[0m         \u001b[0;32mif\u001b[0m \u001b[0msymbol_hrac\u001b[0m \u001b[0;34m==\u001b[0m \u001b[0;34m'o'\u001b[0m\u001b[0;34m:\u001b[0m\u001b[0;34m\u001b[0m\u001b[0;34m\u001b[0m\u001b[0m\n",
      "\u001b[0;31mNameError\u001b[0m: name 'tah_hrace' is not defined"
     ]
    }
   ],
   "source": [
    "def piskvorky1d():\n",
    "    symbol_hrac = input('Chces o nebo x?')\n",
    "    pole= '-' * 20\n",
    "    print(pole)\n",
    "    vysledek = '-'\n",
    "\n",
    "    while vysledek =='-':\n",
    "        tah_hrace(pole,symbol_hrac)\n",
    "        print(pole)\n",
    "        if symbol_hrac == 'o':\n",
    "            symbol_pocitac == 'x'\n",
    "        else:\n",
    "            symbol_pocitac == 'o'\n",
    "        tah_pocitace(pole,symbol_pocitac)\n",
    "        print(pole)\n",
    "        vysledek = vyhodnot(pole)\n",
    "        print(vysledek)\n",
    "\n",
    "piskvorky1d()"
   ]
  },
  {
   "cell_type": "markdown",
   "metadata": {
    "slideshow": {
     "slide_type": "slide"
    }
   },
   "source": [
    "## Plagiáty?"
   ]
  },
  {
   "cell_type": "markdown",
   "metadata": {},
   "source": [
    "![bart](static/bart-chalkboard.gif)"
   ]
  },
  {
   "cell_type": "markdown",
   "metadata": {
    "slideshow": {
     "slide_type": "slide"
    }
   },
   "source": [
    "## Pochvaly"
   ]
  },
  {
   "cell_type": "markdown",
   "metadata": {},
   "source": [
    "* Za to, že vaše programy očekávají různé vstupy - například `Ano`, `ANO`, `ano`, `A` atp.\n",
    "* Že jste se někteří úspěšně popasovali s bonusem **1D Piškvorky a test-driven development**\n",
    "* Pro ty, kteří se ptají\n",
    "* Velká pochvala pro 3 holky, které odevzdaly úspěšně všechny úkoly !!!"
   ]
  },
  {
   "cell_type": "markdown",
   "metadata": {
    "slideshow": {
     "slide_type": "slide"
    }
   },
   "source": [
    "## Obecné rady a doporučení"
   ]
  },
  {
   "cell_type": "markdown",
   "metadata": {},
   "source": [
    "* U funkcí vždy používáme dokumentační řetězce s trojtými uvozovkami. K popisu funkcí nepoužíváme komentáře.\n",
    "* Nezapomeňte kontrolovat svůj kód před odesláním, jestli tam nezůstali nějaké ladící hlášky nebo něco navíc.\n",
    "* **Dělejte i složitější úlohy**. I když se vám třeba nakonec nepodaří dokončit, je to lepší než je neudělat vůbec a je se alespoň o čem bavit a co řešit.\n",
    "* Ptejte se na Slacku !!!\n",
    "* Posílejte i nefunkční kód, ale napište to, jinak vám to vracíme, že je to nefunkční. Když se na nic nezeptáte, nemáme na co odpovědět. "
   ]
  },
  {
   "cell_type": "markdown",
   "metadata": {},
   "source": [
    "## Statistiky"
   ]
  },
  {
   "cell_type": "markdown",
   "metadata": {},
   "source": [
    "* 24 oficiálních účastníků kurzu\n",
    "* Na minulé hodině docházka 17\n",
    "* Úkoly odevzdalo 18 účastníků\n",
    "* Zpětnou vazbu odevzdalo 12 účasníků\n",
    "* Za 18 lidí, kteří odevzdali alespoň 1 úkol je celková úspěšnost odevzdaných úkolů 44 %,"
   ]
  }
 ],
 "metadata": {
  "celltoolbar": "Slideshow",
  "kernelspec": {
   "display_name": "Python 3",
   "language": "python",
   "name": "python3"
  },
  "language_info": {
   "codemirror_mode": {
    "name": "ipython",
    "version": 3
   },
   "file_extension": ".py",
   "mimetype": "text/x-python",
   "name": "python",
   "nbconvert_exporter": "python",
   "pygments_lexer": "ipython3",
   "version": "3.7.6"
  }
 },
 "nbformat": 4,
 "nbformat_minor": 2
}
