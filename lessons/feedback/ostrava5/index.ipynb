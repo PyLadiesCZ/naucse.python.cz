{
 "cells": [
  {
   "cell_type": "markdown",
   "metadata": {
    "slideshow": {
     "slide_type": "slide"
    }
   },
   "source": [
    "# Feedback k domácím projektům"
   ]
  },
  {
   "cell_type": "markdown",
   "metadata": {},
   "source": [
    "## Počet znaků v textu"
   ]
  },
  {
   "cell_type": "code",
   "execution_count": 1,
   "metadata": {},
   "outputs": [
    {
     "name": "stdout",
     "output_type": "stream",
     "text": [
      "Písmeno p je v textu 1x\n"
     ]
    }
   ],
   "source": [
    "text = \"\"\"Python je oblíbený programovací jazyk\"\"\"\n",
    "\n",
    "count_of_char = 0\n",
    "for char in text:\n",
    "    if char == \"p\":\n",
    "        count_of_char = count_of_char + 1\n",
    "\n",
    "print(f\"Písmeno p je v textu {count_of_char}x\") \n",
    "        "
   ]
  },
  {
   "cell_type": "code",
   "execution_count": 2,
   "metadata": {},
   "outputs": [
    {
     "name": "stdout",
     "output_type": "stream",
     "text": [
      "Písmeno p je v textu 2x\n"
     ]
    }
   ],
   "source": [
    "text = \"\"\"Python je oblíbený programovací jazyk\"\"\"\n",
    "text = text.lower()\n",
    "\n",
    "count_of_char = 0\n",
    "for char in text:\n",
    "    if char == \"p\":\n",
    "        count_of_char += 1\n",
    "\n",
    "print(f\"Písmeno p je v textu {count_of_char}x\") "
   ]
  },
  {
   "cell_type": "code",
   "execution_count": 1,
   "metadata": {},
   "outputs": [
    {
     "name": "stdout",
     "output_type": "stream",
     "text": [
      "Písmeno p je v textu 2x\n"
     ]
    }
   ],
   "source": [
    "text = \"\"\"Python je oblíbený programovací jazyk\"\"\"\n",
    "pismeno = \"p\"\n",
    "\n",
    "count_of_char = text.lower().count(pismeno)\n",
    "\n",
    "print(f\"Písmeno p je v textu {count_of_char}x\") "
   ]
  },
  {
   "cell_type": "code",
   "execution_count": 3,
   "metadata": {},
   "outputs": [
    {
     "name": "stdout",
     "output_type": "stream",
     "text": [
      "Písmeno p je v textu 2x\n"
     ]
    }
   ],
   "source": [
    "sentence = \"\"\"Python je oblíbený programovací jazyk\"\"\"\n",
    "letter = \"p\"\n",
    "\n",
    "def count_of_char(text, char):\n",
    "    \"\"\" \n",
    "    The function returns count of char in the text.\n",
    "    \"\"\"\n",
    "    return text.lower().count(pismeno)\n",
    "\n",
    "result = count_of_char(sentence, letter)\n",
    "\n",
    "print(f\"Písmeno p je v textu {result}x\") "
   ]
  },
  {
   "cell_type": "markdown",
   "metadata": {
    "slideshow": {
     "slide_type": "slide"
    }
   },
   "source": [
    "## Funkce ano_nebo_ne()\n",
    "4x strip().lower()"
   ]
  },
  {
   "cell_type": "code",
   "execution_count": null,
   "metadata": {},
   "outputs": [],
   "source": [
    "def ano_nebo_ne(otazka):\n",
    "    \"Vrátí True nebo False, podle odpovědi uživatele\"\n",
    "    while True:\n",
    "        odpoved = input(otazka)\n",
    "\n",
    "        if odpoved.strip().lower() == 'ano' or odpoved.strip().lower() == 'a':\n",
    "            return True\n",
    "        elif odpoved.strip().lower() == 'ne' or odpoved.strip().lower() == 'n':\n",
    "            return False\n",
    "        else:\n",
    "            print('Nerozumím! Odpověz \"ano\" nebo \"ne\".')\n",
    "\n",
    "if ano_nebo_ne('Chceš si zahrát hru?  '):\n",
    "    print('OK! Ale napřed si ji musíš naprogramovat.')\n",
    "else:\n",
    "    print('Škoda.')"
   ]
  },
  {
   "cell_type": "code",
   "execution_count": null,
   "metadata": {
    "slideshow": {
     "slide_type": "slide"
    }
   },
   "outputs": [],
   "source": [
    "def ano_nebo_ne(otazka):\n",
    "    \"Vrátí True nebo False, podle odpovědi uživatele\"\n",
    "    while True:\n",
    "        odpoved = input(otazka).lower().strip()\n",
    "        if odpoved == 'ano' or odpoved == \"a\":\n",
    "            return True\n",
    "        elif odpoved == 'ne' or odpoved == \"n\":\n",
    "            return False\n",
    "        else:\n",
    "            print('Nerozumím! Odpověz \"ano\" nebo \"ne\".')   "
   ]
  },
  {
   "cell_type": "markdown",
   "metadata": {
    "slideshow": {
     "slide_type": "slide"
    }
   },
   "source": [
    "## Piškvorky"
   ]
  },
  {
   "cell_type": "code",
   "execution_count": null,
   "metadata": {
    "slideshow": {
     "slide_type": "slide"
    }
   },
   "outputs": [],
   "source": [
    "from random import randrange\n",
    "\n",
    "def vyhodnot(pole):\n",
    "    \"\"\"Vyhodnotí stav pole.\"\"\"\n",
    "    if 'xxx' in pole:\n",
    "        return \"x\"\n",
    "    elif 'ooo' in pole:\n",
    "        return \"o\"\n",
    "    elif '-' not in pole:\n",
    "        return \"!\"\n",
    "    else:\n",
    "        return '-'\n",
    "\n",
    "def tah(pole, pozice, symbol):\n",
    "    \"\"\"Vrátí herní pole s daným symbolem\n",
    "       umístěným na danou pozici.\"\"\"\n",
    "    return pole[:pozice] + symbol + pole[pozice + 1:]\n",
    "\n",
    "def tah_hrace(pole):\n",
    "    \"\"\"Ptá se hráče na kterou pozici chce hrát a vrací\n",
    "       herní pole se zaznamenaným tahem\"\"\"\n",
    "    while True:\n",
    "        pozice = int(input(\"Na kterou pozici chceš hrát? \"))\n",
    "        if pozice >= 0 and pozice < len(pole) and pole[pozice] == \"-\":\n",
    "            return tah(pole, pozice, \"x\")\n",
    "        else:\n",
    "            print(\"Špatná pozice, zkus to znovu. \")\n",
    "\n",
    "def tah_pocitace(pole):\n",
    "    \"Vrátí herní pole se zaznamenaným tahem počítače. \"\n",
    "    while True:\n",
    "        pozice = randrange(len(pole))\n",
    "        if pole[pozice] == \"-\":\n",
    "            return tah(pole, pozice, \"o\")\n",
    "\n",
    "def piskvorky():\n",
    "    \"Vygeneruje prázdné pole a střídá tah hráče a počítače. \"\n",
    "    pole = \"-\" * 20\n",
    "    while True:\n",
    "        print(pole)\n",
    "        pole = tah_hrace(pole)\n",
    "        print(pole)\n",
    "        if vyhodnot(pole) != '-':\n",
    "            break\n",
    "        pole = tah_pocitace(pole)\n",
    "        if vyhodnot(pole) != '-':\n",
    "            break\n",
    "\n",
    "    print(pole)\n",
    "    if vyhodnot(pole) == '!':\n",
    "        print('Remíza!')\n",
    "    elif vyhodnot(pole) == 'x':\n",
    "        print('Vyhrála jsi!')\n",
    "    elif vyhodnot(pole) == 'o':\n",
    "        print('Vyhrál počítač!')\n",
    "\n",
    "piskvorky()"
   ]
  },
  {
   "cell_type": "markdown",
   "metadata": {
    "slideshow": {
     "slide_type": "slide"
    }
   },
   "source": [
    "## Chyby v programu a jejich řešení"
   ]
  },
  {
   "cell_type": "markdown",
   "metadata": {},
   "source": [
    "Nejdříve chyby v syntaxi, na které si Python stěžuje ihned po přečtení programu."
   ]
  },
  {
   "cell_type": "code",
   "execution_count": 10,
   "metadata": {},
   "outputs": [
    {
     "ename": "SyntaxError",
     "evalue": "EOL while scanning string literal (<ipython-input-10-ccb09551c24e>, line 2)",
     "output_type": "error",
     "traceback": [
      "\u001b[0;36m  File \u001b[0;32m\"<ipython-input-10-ccb09551c24e>\"\u001b[0;36m, line \u001b[0;32m2\u001b[0m\n\u001b[0;31m    symbol_hrac = input('Chces o nebo x?)\u001b[0m\n\u001b[0m                                         ^\u001b[0m\n\u001b[0;31mSyntaxError\u001b[0m\u001b[0;31m:\u001b[0m EOL while scanning string literal\n"
     ]
    }
   ],
   "source": [
    "def piskvorky1d(symbol):\n",
    "    symbol_hrac = input('Chces o nebo x?)\n",
    "    pole= '-' * 20\n",
    "    print(pole)\n",
    "    vysledek == '-'\n",
    "\n",
    "    while vysledek =='-'\n",
    "    tah_hrace(pole,symbol_hrac)\n",
    "    print(pole)\n",
    "    if symbol_hrac == 'o':\n",
    "        symbol_pocitac == 'x'\n",
    "    else:\n",
    "        symbol_pocitac == 'o'\n",
    "    tah_pocitace(pole,symbol_pocitac)\n",
    "    print(pole)\n",
    "    vysledek == vyhodnot(pole)\n",
    "    print(vysledek)"
   ]
  },
  {
   "cell_type": "code",
   "execution_count": 11,
   "metadata": {
    "slideshow": {
     "slide_type": "slide"
    }
   },
   "outputs": [
    {
     "ename": "SyntaxError",
     "evalue": "invalid syntax (<ipython-input-11-caf4662f8092>, line 7)",
     "output_type": "error",
     "traceback": [
      "\u001b[0;36m  File \u001b[0;32m\"<ipython-input-11-caf4662f8092>\"\u001b[0;36m, line \u001b[0;32m7\u001b[0m\n\u001b[0;31m    while vysledek =='-'\u001b[0m\n\u001b[0m                        ^\u001b[0m\n\u001b[0;31mSyntaxError\u001b[0m\u001b[0;31m:\u001b[0m invalid syntax\n"
     ]
    }
   ],
   "source": [
    "def piskvorky1d(symbol):\n",
    "    symbol_hrac = input('Chces o nebo x?')\n",
    "    pole= '-' * 20\n",
    "    print(pole)\n",
    "    vysledek == '-'\n",
    "\n",
    "    while vysledek =='-'\n",
    "    tah_hrace(pole,symbol_hrac)\n",
    "    print(pole)\n",
    "    if symbol_hrac == 'o':\n",
    "        symbol_pocitac == 'x'\n",
    "    else:\n",
    "        symbol_pocitac == 'o'\n",
    "    tah_pocitace(pole,symbol_pocitac)\n",
    "    print(pole)\n",
    "    vysledek == vyhodnot(pole)\n",
    "    print(vysledek)"
   ]
  },
  {
   "cell_type": "code",
   "execution_count": 12,
   "metadata": {
    "slideshow": {
     "slide_type": "slide"
    }
   },
   "outputs": [
    {
     "ename": "IndentationError",
     "evalue": "expected an indented block (<ipython-input-12-849da4aa383b>, line 8)",
     "output_type": "error",
     "traceback": [
      "\u001b[0;36m  File \u001b[0;32m\"<ipython-input-12-849da4aa383b>\"\u001b[0;36m, line \u001b[0;32m8\u001b[0m\n\u001b[0;31m    tah_hrace(pole,symbol_hrac)\u001b[0m\n\u001b[0m            ^\u001b[0m\n\u001b[0;31mIndentationError\u001b[0m\u001b[0;31m:\u001b[0m expected an indented block\n"
     ]
    }
   ],
   "source": [
    "def piskvorky1d(symbol):\n",
    "    symbol_hrac = input('Chces o nebo x?')\n",
    "    pole= '-' * 20\n",
    "    print(pole)\n",
    "    vysledek == '-'\n",
    "\n",
    "    while vysledek =='-':\n",
    "    tah_hrace(pole,symbol_hrac)\n",
    "    print(pole)\n",
    "    if symbol_hrac == 'o':\n",
    "        symbol_pocitac == 'x'\n",
    "    else:\n",
    "        symbol_pocitac == 'o'\n",
    "    tah_pocitace(pole,symbol_pocitac)\n",
    "    print(pole)\n",
    "    vysledek == vyhodnot(pole)\n",
    "    print(vysledek)"
   ]
  },
  {
   "cell_type": "code",
   "execution_count": 13,
   "metadata": {
    "slideshow": {
     "slide_type": "slide"
    }
   },
   "outputs": [],
   "source": [
    "def piskvorky1d(symbol):\n",
    "    symbol_hrac = input('Chces o nebo x?')\n",
    "    pole= '-' * 20\n",
    "    print(pole)\n",
    "    vysledek == '-'\n",
    "\n",
    "    while vysledek =='-':\n",
    "        tah_hrace(pole,symbol_hrac)\n",
    "        print(pole)\n",
    "        if symbol_hrac == 'o':\n",
    "            symbol_pocitac == 'x'\n",
    "        else:\n",
    "            symbol_pocitac == 'o'\n",
    "        tah_pocitace(pole,symbol_pocitac)\n",
    "        print(pole)\n",
    "        vysledek == vyhodnot(pole)\n",
    "        print(vysledek)"
   ]
  },
  {
   "cell_type": "markdown",
   "metadata": {
    "slideshow": {
     "slide_type": "slide"
    }
   },
   "source": [
    "Pro řešení těch dalších už musíme kód v naší funkci spustit, jinak se o jeho chování nic nedozvíme."
   ]
  },
  {
   "cell_type": "code",
   "execution_count": 14,
   "metadata": {
    "slideshow": {
     "slide_type": "slide"
    }
   },
   "outputs": [
    {
     "ename": "TypeError",
     "evalue": "piskvorky1d() missing 1 required positional argument: 'symbol'",
     "output_type": "error",
     "traceback": [
      "\u001b[0;31m---------------------------------------------------------------------------\u001b[0m",
      "\u001b[0;31mTypeError\u001b[0m                                 Traceback (most recent call last)",
      "\u001b[0;32m<ipython-input-14-38c9f4d5522f>\u001b[0m in \u001b[0;36m<module>\u001b[0;34m\u001b[0m\n\u001b[1;32m     17\u001b[0m         \u001b[0mprint\u001b[0m\u001b[0;34m(\u001b[0m\u001b[0mvysledek\u001b[0m\u001b[0;34m)\u001b[0m\u001b[0;34m\u001b[0m\u001b[0;34m\u001b[0m\u001b[0m\n\u001b[1;32m     18\u001b[0m \u001b[0;34m\u001b[0m\u001b[0m\n\u001b[0;32m---> 19\u001b[0;31m \u001b[0mpiskvorky1d\u001b[0m\u001b[0;34m(\u001b[0m\u001b[0;34m)\u001b[0m\u001b[0;34m\u001b[0m\u001b[0;34m\u001b[0m\u001b[0m\n\u001b[0m",
      "\u001b[0;31mTypeError\u001b[0m: piskvorky1d() missing 1 required positional argument: 'symbol'"
     ]
    }
   ],
   "source": [
    "def piskvorky1d(symbol):\n",
    "    symbol_hrac = input('Chces o nebo x?')\n",
    "    pole= '-' * 20\n",
    "    print(pole)\n",
    "    vysledek == '-'\n",
    "\n",
    "    while vysledek =='-':\n",
    "        tah_hrace(pole,symbol_hrac)\n",
    "        print(pole)\n",
    "        if symbol_hrac == 'o':\n",
    "            symbol_pocitac == 'x'\n",
    "        else:\n",
    "            symbol_pocitac == 'o'\n",
    "        tah_pocitace(pole,symbol_pocitac)\n",
    "        print(pole)\n",
    "        vysledek == vyhodnot(pole)\n",
    "        print(vysledek)\n",
    "\n",
    "piskvorky1d()"
   ]
  },
  {
   "cell_type": "code",
   "execution_count": 15,
   "metadata": {
    "slideshow": {
     "slide_type": "slide"
    }
   },
   "outputs": [
    {
     "name": "stdout",
     "output_type": "stream",
     "text": [
      "Chces o nebo x?\n",
      "--------------------\n"
     ]
    },
    {
     "ename": "NameError",
     "evalue": "name 'vysledek' is not defined",
     "output_type": "error",
     "traceback": [
      "\u001b[0;31m---------------------------------------------------------------------------\u001b[0m",
      "\u001b[0;31mNameError\u001b[0m                                 Traceback (most recent call last)",
      "\u001b[0;32m<ipython-input-15-7bbdc769e0fd>\u001b[0m in \u001b[0;36m<module>\u001b[0;34m\u001b[0m\n\u001b[1;32m     17\u001b[0m         \u001b[0mprint\u001b[0m\u001b[0;34m(\u001b[0m\u001b[0mvysledek\u001b[0m\u001b[0;34m)\u001b[0m\u001b[0;34m\u001b[0m\u001b[0;34m\u001b[0m\u001b[0m\n\u001b[1;32m     18\u001b[0m \u001b[0;34m\u001b[0m\u001b[0m\n\u001b[0;32m---> 19\u001b[0;31m \u001b[0mpiskvorky1d\u001b[0m\u001b[0;34m(\u001b[0m\u001b[0;34m)\u001b[0m\u001b[0;34m\u001b[0m\u001b[0;34m\u001b[0m\u001b[0m\n\u001b[0m",
      "\u001b[0;32m<ipython-input-15-7bbdc769e0fd>\u001b[0m in \u001b[0;36mpiskvorky1d\u001b[0;34m()\u001b[0m\n\u001b[1;32m      3\u001b[0m     \u001b[0mpole\u001b[0m\u001b[0;34m=\u001b[0m \u001b[0;34m'-'\u001b[0m \u001b[0;34m*\u001b[0m \u001b[0;36m20\u001b[0m\u001b[0;34m\u001b[0m\u001b[0;34m\u001b[0m\u001b[0m\n\u001b[1;32m      4\u001b[0m     \u001b[0mprint\u001b[0m\u001b[0;34m(\u001b[0m\u001b[0mpole\u001b[0m\u001b[0;34m)\u001b[0m\u001b[0;34m\u001b[0m\u001b[0;34m\u001b[0m\u001b[0m\n\u001b[0;32m----> 5\u001b[0;31m     \u001b[0mvysledek\u001b[0m \u001b[0;34m==\u001b[0m \u001b[0;34m'-'\u001b[0m\u001b[0;34m\u001b[0m\u001b[0;34m\u001b[0m\u001b[0m\n\u001b[0m\u001b[1;32m      6\u001b[0m \u001b[0;34m\u001b[0m\u001b[0m\n\u001b[1;32m      7\u001b[0m     \u001b[0;32mwhile\u001b[0m \u001b[0mvysledek\u001b[0m \u001b[0;34m==\u001b[0m\u001b[0;34m'-'\u001b[0m\u001b[0;34m:\u001b[0m\u001b[0;34m\u001b[0m\u001b[0;34m\u001b[0m\u001b[0m\n",
      "\u001b[0;31mNameError\u001b[0m: name 'vysledek' is not defined"
     ]
    }
   ],
   "source": [
    "def piskvorky1d():\n",
    "    symbol_hrac = input('Chces o nebo x?')\n",
    "    pole= '-' * 20\n",
    "    print(pole)\n",
    "    vysledek == '-'\n",
    "\n",
    "    while vysledek =='-':\n",
    "        tah_hrace(pole,symbol_hrac)\n",
    "        print(pole)\n",
    "        if symbol_hrac == 'o':\n",
    "            symbol_pocitac == 'x'\n",
    "        else:\n",
    "            symbol_pocitac == 'o'\n",
    "        tah_pocitace(pole,symbol_pocitac)\n",
    "        print(pole)\n",
    "        vysledek == vyhodnot(pole)\n",
    "        print(vysledek)\n",
    "\n",
    "piskvorky1d()"
   ]
  },
  {
   "cell_type": "code",
   "execution_count": 16,
   "metadata": {
    "slideshow": {
     "slide_type": "slide"
    }
   },
   "outputs": [
    {
     "name": "stdout",
     "output_type": "stream",
     "text": [
      "Chces o nebo x?x\n",
      "--------------------\n"
     ]
    },
    {
     "ename": "NameError",
     "evalue": "name 'tah_hrace' is not defined",
     "output_type": "error",
     "traceback": [
      "\u001b[0;31m---------------------------------------------------------------------------\u001b[0m",
      "\u001b[0;31mNameError\u001b[0m                                 Traceback (most recent call last)",
      "\u001b[0;32m<ipython-input-16-5eb14ce02964>\u001b[0m in \u001b[0;36m<module>\u001b[0;34m\u001b[0m\n\u001b[1;32m     17\u001b[0m         \u001b[0mprint\u001b[0m\u001b[0;34m(\u001b[0m\u001b[0mvysledek\u001b[0m\u001b[0;34m)\u001b[0m\u001b[0;34m\u001b[0m\u001b[0;34m\u001b[0m\u001b[0m\n\u001b[1;32m     18\u001b[0m \u001b[0;34m\u001b[0m\u001b[0m\n\u001b[0;32m---> 19\u001b[0;31m \u001b[0mpiskvorky1d\u001b[0m\u001b[0;34m(\u001b[0m\u001b[0;34m)\u001b[0m\u001b[0;34m\u001b[0m\u001b[0;34m\u001b[0m\u001b[0m\n\u001b[0m",
      "\u001b[0;32m<ipython-input-16-5eb14ce02964>\u001b[0m in \u001b[0;36mpiskvorky1d\u001b[0;34m()\u001b[0m\n\u001b[1;32m      6\u001b[0m \u001b[0;34m\u001b[0m\u001b[0m\n\u001b[1;32m      7\u001b[0m     \u001b[0;32mwhile\u001b[0m \u001b[0mvysledek\u001b[0m \u001b[0;34m==\u001b[0m\u001b[0;34m'-'\u001b[0m\u001b[0;34m:\u001b[0m\u001b[0;34m\u001b[0m\u001b[0;34m\u001b[0m\u001b[0m\n\u001b[0;32m----> 8\u001b[0;31m         \u001b[0mtah_hrace\u001b[0m\u001b[0;34m(\u001b[0m\u001b[0mpole\u001b[0m\u001b[0;34m,\u001b[0m\u001b[0msymbol_hrac\u001b[0m\u001b[0;34m)\u001b[0m\u001b[0;34m\u001b[0m\u001b[0;34m\u001b[0m\u001b[0m\n\u001b[0m\u001b[1;32m      9\u001b[0m         \u001b[0mprint\u001b[0m\u001b[0;34m(\u001b[0m\u001b[0mpole\u001b[0m\u001b[0;34m)\u001b[0m\u001b[0;34m\u001b[0m\u001b[0;34m\u001b[0m\u001b[0m\n\u001b[1;32m     10\u001b[0m         \u001b[0;32mif\u001b[0m \u001b[0msymbol_hrac\u001b[0m \u001b[0;34m==\u001b[0m \u001b[0;34m'o'\u001b[0m\u001b[0;34m:\u001b[0m\u001b[0;34m\u001b[0m\u001b[0;34m\u001b[0m\u001b[0m\n",
      "\u001b[0;31mNameError\u001b[0m: name 'tah_hrace' is not defined"
     ]
    }
   ],
   "source": [
    "def piskvorky1d():\n",
    "    symbol_hrac = input('Chces o nebo x?')\n",
    "    pole= '-' * 20\n",
    "    print(pole)\n",
    "    vysledek = '-'\n",
    "\n",
    "    while vysledek =='-':\n",
    "        tah_hrace(pole,symbol_hrac)\n",
    "        print(pole)\n",
    "        if symbol_hrac == 'o':\n",
    "            symbol_pocitac == 'x'\n",
    "        else:\n",
    "            symbol_pocitac == 'o'\n",
    "        tah_pocitace(pole,symbol_pocitac)\n",
    "        print(pole)\n",
    "        vysledek = vyhodnot(pole)\n",
    "        print(vysledek)\n",
    "\n",
    "piskvorky1d()"
   ]
  },
  {
   "cell_type": "markdown",
   "metadata": {
    "slideshow": {
     "slide_type": "slide"
    }
   },
   "source": [
    "## Plagiáty?"
   ]
  },
  {
   "cell_type": "markdown",
   "metadata": {},
   "source": [
    "![bart](static/bart-chalkboard.gif)"
   ]
  },
  {
   "cell_type": "markdown",
   "metadata": {
    "slideshow": {
     "slide_type": "slide"
    }
   },
   "source": [
    "## Obecné rady a doporučení"
   ]
  },
  {
   "cell_type": "markdown",
   "metadata": {},
   "source": [
    "* U funkcí vždy používáme dokumentační řetězce s trojtými uvozovkami. K popisu funkcí nepoužíváme komentáře.\n",
    "* Nezapomeňte kontrolovat svůj kód před odesláním\n",
    "* **Dělejte i složitější úlohy**. I když se vám třeba nakonec nepodaří dokončit, je to lepší než je neudělat vůbec a je se alespoň o čem bavit a co řešit.\n",
    "* Ptejte se na Slacku !!!\n",
    "* Posílejte i nefunkční kód, ale napište to, jinak vám to vracíme, že je to nefunkční. Když se na nic nezeptáte, nemáme na co odpovědět. "
   ]
  }
 ],
 "metadata": {
  "celltoolbar": "Slideshow",
  "kernelspec": {
   "display_name": "Python 3",
   "language": "python",
   "name": "python3"
  },
  "language_info": {
   "codemirror_mode": {
    "name": "ipython",
    "version": 3
   },
   "file_extension": ".py",
   "mimetype": "text/x-python",
   "name": "python",
   "nbconvert_exporter": "python",
   "pygments_lexer": "ipython3",
   "version": "3.8.1"
  }
 },
 "nbformat": 4,
 "nbformat_minor": 2
}
