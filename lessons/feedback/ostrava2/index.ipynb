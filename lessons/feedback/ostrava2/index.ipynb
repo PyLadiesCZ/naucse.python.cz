{
 "cells": [
  {
   "cell_type": "markdown",
   "metadata": {},
   "source": [
    "# Zpětná vazba k domácím projektům\n",
    "\n"
   ]
  },
  {
   "cell_type": "markdown",
   "metadata": {},
   "source": [
    "## Úkol 5"
   ]
  },
  {
   "cell_type": "markdown",
   "metadata": {},
   "source": [
    "Ne všechno se dá použít jako jméno proměnné. Fungují pro proměnné následující jména? Pokud ne, proč asi?\n",
    "\n",
    "ANO: x, tlacitko4, krůta, kratsiStrana, POCET\\_BODU, \\_ (podtržítko), π (pí), \\_cache, \\_\\_name\\_\\_\n",
    "\n",
    "NE: 34, 3e4, $i, druha-odmocnina, readme.txt, True, while"
   ]
  },
  {
   "cell_type": "code",
   "execution_count": 1,
   "metadata": {},
   "outputs": [
    {
     "ename": "SyntaxError",
     "evalue": "cannot assign to literal (<ipython-input-1-df07917e9a52>, line 1)",
     "output_type": "error",
     "traceback": [
      "\u001b[1;36m  File \u001b[1;32m\"<ipython-input-1-df07917e9a52>\"\u001b[1;36m, line \u001b[1;32m1\u001b[0m\n\u001b[1;33m    34 = 'ahoj' # proměnná nemůže být číslo, proměnná nemůže začínat číslem\u001b[0m\n\u001b[1;37m    ^\u001b[0m\n\u001b[1;31mSyntaxError\u001b[0m\u001b[1;31m:\u001b[0m cannot assign to literal\n"
     ]
    }
   ],
   "source": [
    "34 = 'ahoj' # proměnná nemůže být číslo, proměnná nemůže začínat číslem"
   ]
  },
  {
   "cell_type": "code",
   "execution_count": 2,
   "metadata": {},
   "outputs": [
    {
     "data": {
      "text/plain": [
       "30000.0"
      ]
     },
     "execution_count": 2,
     "metadata": {},
     "output_type": "execute_result"
    }
   ],
   "source": [
    "3e4"
   ]
  },
  {
   "cell_type": "code",
   "execution_count": 3,
   "metadata": {},
   "outputs": [
    {
     "ename": "SyntaxError",
     "evalue": "invalid syntax (<ipython-input-3-4304f01d653c>, line 1)",
     "output_type": "error",
     "traceback": [
      "\u001b[1;36m  File \u001b[1;32m\"<ipython-input-3-4304f01d653c>\"\u001b[1;36m, line \u001b[1;32m1\u001b[0m\n\u001b[1;33m    $i = 'ahoj' # proměnná nemůže začínat speciálním znakem\u001b[0m\n\u001b[1;37m    ^\u001b[0m\n\u001b[1;31mSyntaxError\u001b[0m\u001b[1;31m:\u001b[0m invalid syntax\n"
     ]
    }
   ],
   "source": [
    "$i = 'ahoj' # proměnná nemůže začínat speciálním znakem"
   ]
  },
  {
   "cell_type": "code",
   "execution_count": 4,
   "metadata": {},
   "outputs": [
    {
     "ename": "SyntaxError",
     "evalue": "cannot assign to operator (<ipython-input-4-48bd60b29873>, line 1)",
     "output_type": "error",
     "traceback": [
      "\u001b[1;36m  File \u001b[1;32m\"<ipython-input-4-48bd60b29873>\"\u001b[1;36m, line \u001b[1;32m1\u001b[0m\n\u001b[1;33m    druha-odmocnina = 'ahoj' # proměnná nemůže obsahovat pomlčku (pro Python má speciální význam)\u001b[0m\n\u001b[1;37m    ^\u001b[0m\n\u001b[1;31mSyntaxError\u001b[0m\u001b[1;31m:\u001b[0m cannot assign to operator\n"
     ]
    }
   ],
   "source": [
    "druha-odmocnina = 'ahoj' # proměnná nemůže obsahovat pomlčku (pro Python má speciální význam)"
   ]
  },
  {
   "cell_type": "code",
   "execution_count": 5,
   "metadata": {},
   "outputs": [
    {
     "ename": "NameError",
     "evalue": "name 'readme' is not defined",
     "output_type": "error",
     "traceback": [
      "\u001b[1;31m---------------------------------------------------------------------------\u001b[0m",
      "\u001b[1;31mNameError\u001b[0m                                 Traceback (most recent call last)",
      "\u001b[1;32m<ipython-input-5-1616423c7c91>\u001b[0m in \u001b[0;36m<module>\u001b[1;34m\u001b[0m\n\u001b[1;32m----> 1\u001b[1;33m \u001b[0mreadme\u001b[0m\u001b[1;33m.\u001b[0m\u001b[0mtxt\u001b[0m \u001b[1;33m=\u001b[0m \u001b[1;34m'ahoj'\u001b[0m \u001b[1;31m# proměnná nemůžem obsahovat tečku (pro Python má speciální význam)\u001b[0m\u001b[1;33m\u001b[0m\u001b[1;33m\u001b[0m\u001b[0m\n\u001b[0m",
      "\u001b[1;31mNameError\u001b[0m: name 'readme' is not defined"
     ]
    }
   ],
   "source": [
    "readme.txt = 'ahoj' # proměnná nemůžem obsahovat tečku (pro Python má speciální význam)"
   ]
  },
  {
   "cell_type": "code",
   "execution_count": 6,
   "metadata": {},
   "outputs": [
    {
     "ename": "SyntaxError",
     "evalue": "cannot assign to True (<ipython-input-6-e11d9b6b5a66>, line 1)",
     "output_type": "error",
     "traceback": [
      "\u001b[1;36m  File \u001b[1;32m\"<ipython-input-6-e11d9b6b5a66>\"\u001b[1;36m, line \u001b[1;32m1\u001b[0m\n\u001b[1;33m    True = 'ahoj' # nelze jako proměnnou použít tzv. vyhrazené slovo (reserved word, keyword)\u001b[0m\n\u001b[1;37m    ^\u001b[0m\n\u001b[1;31mSyntaxError\u001b[0m\u001b[1;31m:\u001b[0m cannot assign to True\n"
     ]
    }
   ],
   "source": [
    "True = 'ahoj' # nelze jako proměnnou použít tzv. vyhrazené slovo (reserved word, keyword)"
   ]
  },
  {
   "cell_type": "markdown",
   "metadata": {},
   "source": [
    "Další vyhrazená slova zde: https://docs.python.org/3/reference/lexical_analysis.html?highlight=reserved#keywords"
   ]
  },
  {
   "cell_type": "markdown",
   "metadata": {},
   "source": [
    "### Základní pravidla pro názvy proměnných\n",
    "* Libovolná délka\n",
    "* Lze použít písmena, číslice a podtržítko\n",
    "* nesmí začínat číslicí\n",
    "* proměnné jsou tzv. case sensitive\n",
    "* nesmí obsahovat mezeru\n",
    "* lze použít tzv. velbloucí notaci\n",
    "* podtržítko na začátku názvu lze použít, ale má speciální význam, takže zatím nepoužívejte\n",
    "* jako název nelze použít vyhrazené slovo\n",
    "* další doporučení: nepoužívat jednopísmenné názvy, používat smysluplné názvy, nepoužívat názvy, které znáte z Pythonu (např. print)"
   ]
  },
  {
   "cell_type": "markdown",
   "metadata": {},
   "source": [
    "## ASCII tabulka"
   ]
  },
  {
   "cell_type": "code",
   "execution_count": 7,
   "metadata": {},
   "outputs": [
    {
     "data": {
      "text/plain": [
       "True"
      ]
     },
     "execution_count": 7,
     "metadata": {},
     "output_type": "execute_result"
    }
   ],
   "source": [
    "'abc' > 'Abc'"
   ]
  },
  {
   "cell_type": "code",
   "execution_count": 8,
   "metadata": {},
   "outputs": [
    {
     "data": {
      "text/plain": [
       "True"
      ]
     },
     "execution_count": 8,
     "metadata": {},
     "output_type": "execute_result"
    }
   ],
   "source": [
    "'abc' < 'ábč'"
   ]
  },
  {
   "cell_type": "markdown",
   "metadata": {},
   "source": [
    "**PROČ?**"
   ]
  },
  {
   "cell_type": "markdown",
   "metadata": {},
   "source": [
    "Existuje něco jménem [ASCII tabulka](http://znakynaklavesnici.cz/ascii-tabulka/), která každému znaku přiřazuje číselnou hodnotu. V Pythonu tohle číslo lze získat pomocí funkce ord, např. ord(\"a\"). Protože velké A má číselnou hodnotu 65 a malé \"a\" má 97, platí, že \"A\" < \"a\"."
   ]
  },
  {
   "cell_type": "code",
   "execution_count": 9,
   "metadata": {},
   "outputs": [
    {
     "name": "stdout",
     "output_type": "stream",
     "text": [
      "a: 97   A: 65   á: 225\n"
     ]
    }
   ],
   "source": [
    "print('a:', ord('a'), '  A:', ord('A'), '  á:', ord('á'))"
   ]
  },
  {
   "cell_type": "markdown",
   "metadata": {},
   "source": [
    "## KÁMEN - NŮŽKY - PAPÍR\n",
    "**Je možné toto zjednodušit?**"
   ]
  },
  {
   "cell_type": "code",
   "execution_count": null,
   "metadata": {},
   "outputs": [],
   "source": [
    "tah_cloveka = 'kámen'\n",
    "tah_pocitace = 'papír'\n",
    "\n",
    "if tah_cloveka == 'kámen' and tah_pocitace == 'kámen'or tah_cloveka == 'nůžky' and tah_pocitace == 'nůžky' or tah_cloveka == 'papír' and tah_pocitace == 'papír':\n",
    "    print('Plichta.')\n",
    "elif tah_cloveka == 'kámen' and tah_pocitace == 'nůžky' or tah_cloveka == 'nůžky'and tah_pocitace == 'papír' or tah_cloveka == 'papír' and tah_pocitace == 'kámen':\n",
    "    print('Vyhrála jsi!')\n",
    "elif tah_cloveka == 'kámen' and tah_pocitace == 'papír'or tah_cloveka == 'papír' and tah_pocitace == 'nůžky' or tah_cloveka == 'nůžky' and tah_pocitace == 'kámen':\n",
    "    print('Počítač vyhrál.')"
   ]
  },
  {
   "cell_type": "markdown",
   "metadata": {},
   "source": [
    "## Ano je !"
   ]
  },
  {
   "cell_type": "code",
   "execution_count": null,
   "metadata": {},
   "outputs": [],
   "source": [
    "tah_cloveka = 'kámen'\n",
    "tah_pocitace = 'papír'\n",
    "\n",
    "if tah_cloveka == tah_pocitace:\n",
    "    print('Plichta.')\n",
    "elif tah_cloveka == 'kámen' and tah_pocitace == 'nůžky' or tah_cloveka == 'nůžky'and tah_pocitace == 'papír' or tah_cloveka == 'papír' and tah_pocitace == 'kámen':\n",
    "    print('Vyhrála jsi!')\n",
    "else:\n",
    "    print('Počítač vyhrál.')"
   ]
  },
  {
   "cell_type": "markdown",
   "metadata": {},
   "source": [
    "## Náhodný tah počítače"
   ]
  },
  {
   "cell_type": "code",
   "execution_count": null,
   "metadata": {},
   "outputs": [],
   "source": [
    "from random import randrange\n",
    "cislo = randrange(3)\n",
    "if cislo == 0:\n",
    "    tah_pocitace = 'kámen'\n",
    "elif cislo == 1:\n",
    "    tah_pocitace = 'nůžky'\n",
    "else:\n",
    "    tah_pocitace = 'papír'\n",
    "print(\"Tah počítace je:\", tah_pocitace)"
   ]
  },
  {
   "cell_type": "markdown",
   "metadata": {},
   "source": [
    "## Tah hráče"
   ]
  },
  {
   "cell_type": "code",
   "execution_count": null,
   "metadata": {},
   "outputs": [],
   "source": [
    "tah_hrace = input(\"Zvol si kámen, nůžky nebo papír: \")"
   ]
  },
  {
   "cell_type": "markdown",
   "metadata": {},
   "source": [
    "## Dohromady\n",
    "Jen jedna z možností, jak by to mohlo vypadat."
   ]
  },
  {
   "cell_type": "code",
   "execution_count": null,
   "metadata": {},
   "outputs": [],
   "source": [
    "from random import randrange\n",
    "\n",
    "cislo = randrange(3)\n",
    "if cislo == 0:\n",
    "    tah_pocitace = 'kámen'\n",
    "elif cislo == 1:\n",
    "    tah_pocitace = 'nůžky'\n",
    "else:\n",
    "    tah_pocitace = 'papír'\n",
    "print(\"Tah počítace je:\", tah_pocitace)\n",
    "\n",
    "tah_hrace = input(\"Zvol si kámen, nůžky nebo papír: \")\n",
    "\n",
    "if tah_hrace == tah_pocitace:\n",
    "    print('Plichta.')\n",
    "elif tah_hrace == 'kámen' and tah_pocitace == 'nůžky' or tah_hrace == 'nůžky'and tah_pocitace == 'papír' or tah_hrace == 'papír' and tah_pocitace == 'kámen':\n",
    "    print('Vyhrála jsi!')\n",
    "else:\n",
    "    print('Počítač vyhrál.')"
   ]
  },
  {
   "cell_type": "markdown",
   "metadata": {},
   "source": [
    "## Na závěr"
   ]
  },
  {
   "cell_type": "markdown",
   "metadata": {},
   "source": [
    "* Používání nových (neprobraných) funkcionalit => ANO/NE?\n",
    "* Čeština / Angličtina\n",
    "* Odevzdávejte nejpozději v neděli večer, konzultujte na Slacku\n",
    "* Spouštějte svůj program opakovaně, snažte se simulovat všechny možnosti, které mohou nastat\n",
    "* Nemusíte jako řešení vkládat i výstup programu"
   ]
  }
 ],
 "metadata": {
  "kernelspec": {
   "display_name": "Python 3",
   "language": "python",
   "name": "python3"
  },
  "language_info": {
   "codemirror_mode": {
    "name": "ipython",
    "version": 3
   },
   "file_extension": ".py",
   "mimetype": "text/x-python",
   "name": "python",
   "nbconvert_exporter": "python",
   "pygments_lexer": "ipython3",
   "version": "3.8.1"
  }
 },
 "nbformat": 4,
 "nbformat_minor": 2
}
