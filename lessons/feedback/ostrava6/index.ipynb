{
 "cells": [
  {
   "cell_type": "markdown",
   "metadata": {
    "slideshow": {
     "slide_type": "slide"
    }
   },
   "source": [
    "# Feedback k domácím projektům"
   ]
  },
  {
   "cell_type": "markdown",
   "metadata": {
    "slideshow": {
     "slide_type": "slide"
    }
   },
   "source": [
    "## Použití *with*"
   ]
  },
  {
   "cell_type": "markdown",
   "metadata": {},
   "source": [
    "* *with* nám může ušetřit práci i starosti s přemýšlením nad uzavřením otevřeného souboru\n",
    "* čtení celého souboru nemusíme dělat jen přes cyklus for, ale můžeme jej přečíst celý najednou metodou *.read()*"
   ]
  },
  {
   "cell_type": "code",
   "execution_count": null,
   "metadata": {},
   "outputs": [],
   "source": [
    "soubor = open(\"soubor.txt\", mode=\"r\", encoding='utf-8')\n",
    "novy_soubor = open(\"soubor2.txt\", mode=\"w\", encoding='utf-8')\n",
    "\n",
    "for text in soubor:\n",
    "    novy_soubor.write(text) \n",
    "\n",
    "print (\"Soubor zkopírován.\")\n",
    "\n",
    "soubor.close()\n",
    "novy_soubor.close()"
   ]
  },
  {
   "cell_type": "code",
   "execution_count": null,
   "metadata": {
    "slideshow": {
     "slide_type": "slide"
    }
   },
   "outputs": [],
   "source": [
    "with open(\"soubor.txt\", mode=\"r\", encoding='utf-8') as soubor:\n",
    "    with open(\"soubor2.txt\", mode=\"w\", encoding='utf-8') as novy_soubor:\n",
    "        novy_soubor.write(soubor.read()) \n",
    "print (\"Soubor zkopírován.\")"
   ]
  },
  {
   "cell_type": "markdown",
   "metadata": {
    "slideshow": {
     "slide_type": "slide"
    }
   },
   "source": [
    "## Ukázkový příklad porušení DRY"
   ]
  },
  {
   "cell_type": "markdown",
   "metadata": {},
   "source": [
    "Proč se tolik opakovat, když můžeme počet pokusů použít přímo, převést jej na řetězec a jen připojením přípony z něj udělat název souboru?"
   ]
  },
  {
   "cell_type": "code",
   "execution_count": null,
   "metadata": {
    "collapsed": true,
    "slideshow": {
     "slide_type": "slide"
    }
   },
   "outputs": [],
   "source": [
    "def vykresliPanacka(pocet_pokusu):\n",
    "    \"Funkce na základě neúspěšných pokusů vypisuje obrázky, dokud hra neskončí.\"\n",
    "    if pocet_pokusu == 1:\n",
    "        vstup=open(\"1.txt\", encoding='utf-8')\n",
    "        obrazek = vstup.read()\n",
    "        print(obrazek)\n",
    "        vstup.close()\n",
    "    elif pocet_pokusu == 2:\n",
    "        vstup=open(\"2.txt\", encoding='utf-8')\n",
    "        obrazek = vstup.read()\n",
    "        print(obrazek)\n",
    "        vstup.close()\n",
    "    elif pocet_pokusu == 3:\n",
    "        vstup=open(\"3.txt\")\n",
    "        obrazek = vstup.read()\n",
    "        print(obrazek)\n",
    "        vstup.close()\n",
    "    elif pocet_pokusu == 4:\n",
    "        vstup=open(\"4.txt\")\n",
    "        obrazek = vstup.read()\n",
    "        print(obrazek)\n",
    "        vstup.close()\n",
    "    elif pocet_pokusu == 5:\n",
    "        vstup=open(\"5.txt\")\n",
    "        obrazek = vstup.read()\n",
    "        print(obrazek)\n",
    "        vstup.close()\n",
    "    elif pocet_pokusu == 6:\n",
    "        vstup=open(\"6.txt\")\n",
    "        obrazek = vstup.read()\n",
    "        print(obrazek)\n",
    "        vstup.close()\n",
    "    elif pocet_pokusu == 7:\n",
    "        vstup=open(\"7.txt\")\n",
    "        obrazek = vstup.read()\n",
    "        print(obrazek)\n",
    "        vstup.close()\n",
    "    elif pocet_pokusu == 8:\n",
    "        vstup=open(\"8.txt\")\n",
    "        obrazek = vstup.read()\n",
    "        print(obrazek)\n",
    "        vstup.close()\n",
    "    elif pocet_pokusu == 9:\n",
    "        vstup=open(\"9.txt\")\n",
    "        obrazek = vstup.read()\n",
    "        print(obrazek)\n",
    "    else:\n",
    "        vstup=open(\"10.txt\")\n",
    "        obrazek = vstup.read()\n",
    "        print(obrazek)\n",
    "        vstup.close()\n",
    "        print (\"Konec hry, prohrál jsi!\")"
   ]
  },
  {
   "cell_type": "code",
   "execution_count": null,
   "metadata": {
    "collapsed": true,
    "slideshow": {
     "slide_type": "slide"
    }
   },
   "outputs": [],
   "source": [
    "def vykresliPanacka(pocet_pokusu):\n",
    "    \"Funkce na základě neúspěšných pokusů vypisuje obrázky, dokud hra neskončí.\"\n",
    "    with open(str(pocet_pokusu) + \".txt\", encoding='utf-8') as soubor:\n",
    "        print(soubor.read())"
   ]
  },
  {
   "cell_type": "markdown",
   "metadata": {
    "slideshow": {
     "slide_type": "slide"
    }
   },
   "source": [
    "## Šibenice a vyplnění jednoho znaku do hádaného slova"
   ]
  },
  {
   "cell_type": "code",
   "execution_count": 5,
   "metadata": {
    "collapsed": true
   },
   "outputs": [],
   "source": [
    "def vyplnZnak(hadanka, znak, tajneSlovo):\n",
    "    for index in range(len(tajneSlovo)):\n",
    "        if znak == tajneSlovo[index]:\n",
    "            hadanka = hadanka[:index] + znak + hadanka[index + 1:]\n",
    "    return hadanka"
   ]
  },
  {
   "cell_type": "markdown",
   "metadata": {
    "slideshow": {
     "slide_type": "slide"
    }
   },
   "source": [
    "## Obecné rady, pochvaly a doporučení"
   ]
  },
  {
   "cell_type": "markdown",
   "metadata": {},
   "source": [
    "* Pochvala těm, kdo měli obrázky šibenice a japonské abecedy ve zvláštním souboru a ne přímo v kódu\n",
    "* Pochvala za psaní komentářů k funkcím a složitějšímu kódu\n",
    "* Když se neptáte, tak nevíme, s čím byste potřebovaly pomoci a nemůžeme to dát do feedbacku."
   ]
  }
 ],
 "metadata": {
  "celltoolbar": "Slideshow",
  "kernelspec": {
   "display_name": "Python 3",
   "language": "python",
   "name": "python3"
  },
  "language_info": {
   "codemirror_mode": {
    "name": "ipython",
    "version": 3
   },
   "file_extension": ".py",
   "mimetype": "text/x-python",
   "name": "python",
   "nbconvert_exporter": "python",
   "pygments_lexer": "ipython3",
   "version": "3.7.0"
  }
 },
 "nbformat": 4,
 "nbformat_minor": 2
}
