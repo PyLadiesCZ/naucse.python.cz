{
 "cells": [
  {
   "cell_type": "markdown",
   "metadata": {
    "slideshow": {
     "slide_type": "slide"
    }
   },
   "source": [
    "# Feedback k domácím projektům"
   ]
  },
  {
   "cell_type": "markdown",
   "metadata": {
    "slideshow": {
     "slide_type": "slide"
    }
   },
   "source": [
    "## Co dělá a vrací funkce `print()`?"
   ]
  },
  {
   "cell_type": "code",
   "execution_count": 1,
   "metadata": {},
   "outputs": [
    {
     "name": "stdout",
     "output_type": "stream",
     "text": [
      "Ahoj světe\n",
      "None\n"
     ]
    }
   ],
   "source": [
    "vysledek = print(\"Ahoj světe\")\n",
    "print(vysledek)"
   ]
  },
  {
   "cell_type": "markdown",
   "metadata": {},
   "source": [
    "## Co dělá a vrací funkce `input()`?"
   ]
  },
  {
   "cell_type": "code",
   "execution_count": 2,
   "metadata": {},
   "outputs": [
    {
     "name": "stdout",
     "output_type": "stream",
     "text": [
      "Napiš své jméno: Petra\n",
      "Petra\n"
     ]
    }
   ],
   "source": [
    "jmeno = input(\"Napiš své jméno: \")\n",
    "print(jmeno)"
   ]
  },
  {
   "cell_type": "markdown",
   "metadata": {},
   "source": [
    "## Co dělá a vrací funkce `len()`?"
   ]
  },
  {
   "cell_type": "code",
   "execution_count": 3,
   "metadata": {},
   "outputs": [
    {
     "name": "stdout",
     "output_type": "stream",
     "text": [
      "5\n"
     ]
    }
   ],
   "source": [
    "delka = len(\"Petra\")\n",
    "print(delka)"
   ]
  },
  {
   "cell_type": "markdown",
   "metadata": {},
   "source": [
    "## Proměnné a for cyklus - takto NE !!!"
   ]
  },
  {
   "cell_type": "code",
   "execution_count": 8,
   "metadata": {},
   "outputs": [
    {
     "name": "stdout",
     "output_type": "stream",
     "text": [
      "\n",
      "♫ \n",
      "♫ ♫ \n",
      "♫ ♫ ♫ \n",
      "♫ ♫ ♫ ♫ \n",
      "V proměnné cislo je uložena hodnota:  5\n"
     ]
    }
   ],
   "source": [
    "cislo = 20\n",
    "for cislo in range(5):\n",
    "    print(cislo * \"♫ \")\n",
    "    cislo = cislo + 1\n",
    "print(\"V proměnné cislo je uložena hodnota: \", cislo)"
   ]
  },
  {
   "cell_type": "markdown",
   "metadata": {},
   "source": [
    "## Opraveno:"
   ]
  },
  {
   "cell_type": "code",
   "execution_count": null,
   "metadata": {},
   "outputs": [],
   "source": [
    "for cislo in range(5):\n",
    "    print(cislo * \"♫ \")"
   ]
  },
  {
   "cell_type": "markdown",
   "metadata": {
    "slideshow": {
     "slide_type": "slide"
    }
   },
   "source": [
    "## Lze tento kód napsat jednodušeji, aby dělal to samé?"
   ]
  },
  {
   "cell_type": "code",
   "execution_count": 6,
   "metadata": {
    "slideshow": {
     "slide_type": "-"
    }
   },
   "outputs": [
    {
     "name": "stdout",
     "output_type": "stream",
     "text": [
      "X X X X X\n",
      "X X X X X\n",
      "X X X X X\n",
      "X X X X X\n",
      "X X X X X\n"
     ]
    }
   ],
   "source": [
    "promenna = \"X\"\n",
    "\n",
    "for j in range(5):\n",
    "    for i in promenna:\n",
    "        print(i, i, i, i, i)"
   ]
  },
  {
   "cell_type": "markdown",
   "metadata": {
    "slideshow": {
     "slide_type": "fragment"
    }
   },
   "source": [
    "## Ano jde"
   ]
  },
  {
   "cell_type": "code",
   "execution_count": null,
   "metadata": {
    "slideshow": {
     "slide_type": "-"
    }
   },
   "outputs": [],
   "source": [
    "for j in range(5):\n",
    "    print('X ' * 5)"
   ]
  },
  {
   "cell_type": "markdown",
   "metadata": {
    "slideshow": {
     "slide_type": "slide"
    }
   },
   "source": [
    "## Prázdný čtverec"
   ]
  },
  {
   "cell_type": "markdown",
   "metadata": {},
   "source": [
    "### Upovídané řešení"
   ]
  },
  {
   "cell_type": "code",
   "execution_count": 8,
   "metadata": {},
   "outputs": [
    {
     "name": "stdout",
     "output_type": "stream",
     "text": [
      "X X X X X X \n",
      "X         X \n",
      "X         X \n",
      "X         X \n",
      "X         X \n",
      "X X X X X X \n"
     ]
    }
   ],
   "source": [
    "for radek in range(6):\n",
    "    if radek == 0:\n",
    "        for obsah_radku in range(6):\n",
    "            print('X', end=\" \")\n",
    "        print()\n",
    "    elif  radek == 5:\n",
    "        for obsah_radku in range(6):\n",
    "                print('X', end=\" \")\n",
    "        print()\n",
    "    else:\n",
    "        print('X', end=\" \")\n",
    "        print(' ' * 7, end=\" \")\n",
    "        print('X', end=\" \")\n",
    "        print()"
   ]
  },
  {
   "cell_type": "markdown",
   "metadata": {
    "slideshow": {
     "slide_type": "slide"
    }
   },
   "source": [
    "### Kratší řešení"
   ]
  },
  {
   "cell_type": "code",
   "execution_count": null,
   "metadata": {},
   "outputs": [],
   "source": [
    "for radek in range(6):\n",
    "    if radek == 0 or radek == 5:\n",
    "        print('X ' * 6)\n",
    "    else:\n",
    "        print('X ', ' ' * 6, 'X')"
   ]
  },
  {
   "cell_type": "markdown",
   "metadata": {},
   "source": [
    "### Další řešení"
   ]
  },
  {
   "cell_type": "code",
   "execution_count": null,
   "metadata": {},
   "outputs": [],
   "source": [
    "for radek in range(6):\n",
    "    for sloupec in range(6):\n",
    "        if radek == 0 or sloupec == 0 or radek == 5 or sloupec == 5:\n",
    "            print('X', end=' ')\n",
    "        else:\n",
    "            print(' ', end=' ')\n",
    "    print()        "
   ]
  },
  {
   "cell_type": "markdown",
   "metadata": {},
   "source": [
    "## Násobilka"
   ]
  },
  {
   "cell_type": "code",
   "execution_count": 2,
   "metadata": {},
   "outputs": [
    {
     "name": "stdout",
     "output_type": "stream",
     "text": [
      "0 0 0 0 0 \n",
      "0 1 2 3 4 \n",
      "0 2 4 6 8 \n",
      "0 3 6 9 12 \n",
      "0 4 8 12 16 \n"
     ]
    }
   ],
   "source": [
    "for row in range(5):\n",
    "    for col in range(5):\n",
    "        print(row * col, end=\" \")\n",
    "    print()"
   ]
  },
  {
   "cell_type": "markdown",
   "metadata": {},
   "source": [
    "### Zarovnaná násobilka\n",
    "(někdo se trochu nudil)"
   ]
  },
  {
   "cell_type": "code",
   "execution_count": 7,
   "metadata": {},
   "outputs": [
    {
     "name": "stdout",
     "output_type": "stream",
     "text": [
      " 0  0  0  0  0  0  0  0  0  0 \n",
      " 0  1  2  3  4  5  6  7  8  9 \n",
      " 0  2  4  6  8 10 12 14 16 18 \n",
      " 0  3  6  9 12 15 18 21 24 27 \n",
      " 0  4  8 12 16 20 24 28 32 36 \n",
      " 0  5 10 15 20 25 30 35 40 45 \n",
      " 0  6 12 18 24 30 36 42 48 54 \n",
      " 0  7 14 21 28 35 42 49 56 63 \n",
      " 0  8 16 24 32 40 48 56 64 72 \n",
      " 0  9 18 27 36 45 54 63 72 81 \n"
     ]
    }
   ],
   "source": [
    "for row in range(10):\n",
    "    for col in range(10):\n",
    "        result = row * col\n",
    "        if result > 9:\n",
    "            print(result, end=\" \")\n",
    "        else:\n",
    "            print(\"\", result, end=\" \")\n",
    "    print()"
   ]
  },
  {
   "cell_type": "markdown",
   "metadata": {
    "slideshow": {
     "slide_type": "slide"
    }
   },
   "source": [
    "## BumBác neboli FizzBuzz\n",
    "Napiš program, který vypíše čísla od jedné do 100, ale:\n",
    "\n",
    "* Pokud je číslo dělitelné třemi, napíše místo něj „bum”.\n",
    "* Pokud je číslo dělitelné pěti, napíše místo něj „bác”.\n",
    "* Pokud je číslo dělitelné pěti i třemi zároveň, napíše místo toho „bum-bác”."
   ]
  },
  {
   "cell_type": "code",
   "execution_count": 1,
   "metadata": {},
   "outputs": [
    {
     "name": "stdout",
     "output_type": "stream",
     "text": [
      "1, 2, bum, 4, bác, bum, 7, 8, bum, bác, 11, bum, 13, 14, bum-bác, 16, 17, bum, 19, bác, bum, 22, 23, bum, bác, 26, bum, 28, 29, bum-bác, 31, 32, bum, 34, bác, bum, 37, 38, bum, bác, 41, bum, 43, 44, bum-bác, 46, 47, bum, 49, bác, bum, 52, 53, bum, bác, 56, bum, 58, 59, bum-bác, 61, 62, bum, 64, bác, bum, 67, 68, bum, bác, 71, bum, 73, 74, bum-bác, 76, 77, bum, 79, bác, bum, 82, 83, bum, bác, 86, bum, 88, 89, bum-bác, 91, 92, bum, 94, bác, bum, 97, 98, bum, bác, "
     ]
    }
   ],
   "source": [
    "for num in range(1, 101):\n",
    "    if num % 15 == 0:\n",
    "        print(\"bum-bác\", end=', ')\n",
    "    elif num % 5 == 0:\n",
    "        print(\"bác\", end=', ')\n",
    "    elif num % 3 == 0:\n",
    "        print(\"bum\", end=', ')\n",
    "    else:\n",
    "        print(num, end=', ')"
   ]
  },
  {
   "cell_type": "markdown",
   "metadata": {
    "slideshow": {
     "slide_type": "slide"
    }
   },
   "source": [
    "## Obecné připomínky a rady"
   ]
  },
  {
   "cell_type": "markdown",
   "metadata": {
    "slideshow": {
     "slide_type": "-"
    }
   },
   "source": [
    "* Pokud funkce nemá argumenty, mezi otevírací a zavírací závorku se nic nepíše (ani mezera)\n",
    "* Také mezi název funkce a závorky se mezera nepíše - takže nikoli `print ()` ale `print()`\n",
    "* BABY STEPS\n",
    "* Funkce, argument, pojmenovaný argument, návratová hodnota (Lekce 3: Cykly -> Funkce)"
   ]
  }
 ],
 "metadata": {
  "celltoolbar": "Slideshow",
  "kernelspec": {
   "display_name": "Python 3",
   "language": "python",
   "name": "python3"
  },
  "language_info": {
   "codemirror_mode": {
    "name": "ipython",
    "version": 3
   },
   "file_extension": ".py",
   "mimetype": "text/x-python",
   "name": "python",
   "nbconvert_exporter": "python",
   "pygments_lexer": "ipython3",
   "version": "3.8.1"
  }
 },
 "nbformat": 4,
 "nbformat_minor": 2
}
