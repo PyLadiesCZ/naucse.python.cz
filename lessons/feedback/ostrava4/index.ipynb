{
 "cells": [
  {
   "cell_type": "markdown",
   "metadata": {
    "slideshow": {
     "slide_type": "slide"
    }
   },
   "source": [
    "# Feedback k domácím projektům"
   ]
  },
  {
   "cell_type": "markdown",
   "metadata": {
    "slideshow": {
     "slide_type": "slide"
    }
   },
   "source": [
    "## Co vrací funkce `print`?"
   ]
  },
  {
   "cell_type": "code",
   "execution_count": 1,
   "metadata": {},
   "outputs": [
    {
     "name": "stdout",
     "output_type": "stream",
     "text": [
      "Ahoj světe\n",
      "None\n"
     ]
    }
   ],
   "source": [
    "vysledek = print(\"Ahoj světe\")\n",
    "\n",
    "print(vysledek)"
   ]
  },
  {
   "cell_type": "markdown",
   "metadata": {
    "slideshow": {
     "slide_type": "slide"
    }
   },
   "source": [
    "## Jde tento kód napsat jednodušeji, aby ale dělal úplně totéž?"
   ]
  },
  {
   "cell_type": "code",
   "execution_count": null,
   "metadata": {
    "slideshow": {
     "slide_type": "-"
    }
   },
   "outputs": [],
   "source": [
    "for radek in range(4):\n",
    "  radek += 1\n",
    "  for value in range(radek):\n",
    "    print('X', end=' ')\n",
    "  print('')"
   ]
  },
  {
   "cell_type": "markdown",
   "metadata": {
    "slideshow": {
     "slide_type": "fragment"
    }
   },
   "source": [
    "## Ano, lze :-)"
   ]
  },
  {
   "cell_type": "code",
   "execution_count": null,
   "metadata": {
    "slideshow": {
     "slide_type": "-"
    }
   },
   "outputs": [],
   "source": [
    "for radek in range(1, 5):\n",
    "  print('X ' * radek)"
   ]
  },
  {
   "cell_type": "markdown",
   "metadata": {
    "slideshow": {
     "slide_type": "slide"
    }
   },
   "source": [
    "## A co tento?"
   ]
  },
  {
   "cell_type": "code",
   "execution_count": null,
   "metadata": {
    "slideshow": {
     "slide_type": "-"
    }
   },
   "outputs": [],
   "source": [
    "promenna = \"X\"\n",
    "\n",
    "for j in range(5):\n",
    "    for i in promenna:\n",
    "        print(i, i, i, i, i)"
   ]
  },
  {
   "cell_type": "markdown",
   "metadata": {
    "slideshow": {
     "slide_type": "fragment"
    }
   },
   "source": [
    "## Ten taky"
   ]
  },
  {
   "cell_type": "code",
   "execution_count": null,
   "metadata": {
    "slideshow": {
     "slide_type": "-"
    }
   },
   "outputs": [],
   "source": [
    "for j in range(5):\n",
    "    print('X ' * 5)"
   ]
  },
  {
   "cell_type": "markdown",
   "metadata": {
    "slideshow": {
     "slide_type": "slide"
    }
   },
   "source": [
    "## Prázdný čtverec"
   ]
  },
  {
   "cell_type": "markdown",
   "metadata": {},
   "source": [
    "### Upovídané řešení"
   ]
  },
  {
   "cell_type": "code",
   "execution_count": null,
   "metadata": {},
   "outputs": [],
   "source": [
    "for radek in range(6):\n",
    "    if radek == 0:\n",
    "        for obsah_radku in range(6):\n",
    "            print('X', end=\" \")\n",
    "        print()\n",
    "    elif  radek == 5:\n",
    "        for obsah_radku in range(6):\n",
    "                print('X', end=\" \")\n",
    "        print()\n",
    "    else:\n",
    "        print('X', end=\" \")\n",
    "        print(' ' * 7, end=\" \")\n",
    "        print('X', end=\" \")\n",
    "        print()"
   ]
  },
  {
   "cell_type": "markdown",
   "metadata": {
    "slideshow": {
     "slide_type": "slide"
    }
   },
   "source": [
    "### Méně upovidané řešení"
   ]
  },
  {
   "cell_type": "code",
   "execution_count": null,
   "metadata": {},
   "outputs": [],
   "source": [
    "for radek in range(6):\n",
    "    if radek == 0:\n",
    "        print('x x x x x x')\n",
    "    elif radek==5:\n",
    "        print('x x x x x x')\n",
    "    else:\n",
    "        print('x         x')"
   ]
  },
  {
   "cell_type": "markdown",
   "metadata": {
    "slideshow": {
     "slide_type": "slide"
    }
   },
   "source": [
    "### Krátké řešení"
   ]
  },
  {
   "cell_type": "code",
   "execution_count": null,
   "metadata": {},
   "outputs": [],
   "source": [
    "for radek in range(6):\n",
    "    if radek == 0 or radek == 5:\n",
    "        print('X ' * 6)\n",
    "    else:\n",
    "        print('X ', ' ' * 6, 'X')"
   ]
  },
  {
   "cell_type": "markdown",
   "metadata": {
    "slideshow": {
     "slide_type": "slide"
    }
   },
   "source": [
    "## Fibonacciho posloupnost"
   ]
  },
  {
   "cell_type": "code",
   "execution_count": null,
   "metadata": {},
   "outputs": [],
   "source": [
    "pocet = 20\n",
    "a = 0\n",
    "b = 1\n",
    "\n",
    "print(a, b, sep=\", \", end=\", \")\n",
    "\n",
    "for i in range(pocet):\n",
    "    dalsi_v_rade = a + b\n",
    "    a = b\n",
    "    b = dalsi_v_rade\n",
    "\n",
    "    print(dalsi_v_rade, end=\", \")"
   ]
  },
  {
   "cell_type": "markdown",
   "metadata": {
    "slideshow": {
     "slide_type": "slide"
    }
   },
   "source": [
    "## Obecné připomínky a rady"
   ]
  },
  {
   "cell_type": "markdown",
   "metadata": {
    "slideshow": {
     "slide_type": "-"
    }
   },
   "source": [
    "* Pokud funkce nemá argumenty, mezi otevírací a zavírací závorku se nic nepíše (ani mezera)\n",
    "* Také mezi název funkce a závorky se mezera nepíše - takže nikoli `print ()` ale `print()`"
   ]
  }
 ],
 "metadata": {
  "celltoolbar": "Slideshow",
  "kernelspec": {
   "display_name": "Python 3",
   "language": "python",
   "name": "python3"
  },
  "language_info": {
   "codemirror_mode": {
    "name": "ipython",
    "version": 3
   },
   "file_extension": ".py",
   "mimetype": "text/x-python",
   "name": "python",
   "nbconvert_exporter": "python",
   "pygments_lexer": "ipython3",
   "version": "3.7.4"
  }
 },
 "nbformat": 4,
 "nbformat_minor": 2
}
