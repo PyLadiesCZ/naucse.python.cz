{
 "cells": [
  {
   "cell_type": "markdown",
   "metadata": {
    "slideshow": {
     "slide_type": "slide"
    }
   },
   "source": [
    "# Feedback k domácím projektům"
   ]
  },
  {
   "cell_type": "markdown",
   "metadata": {
    "slideshow": {
     "slide_type": "slide"
    }
   },
   "source": [
    "## Slovník a mocniny"
   ]
  },
  {
   "cell_type": "code",
   "execution_count": 1,
   "metadata": {},
   "outputs": [
    {
     "data": {
      "text/plain": [
       "{1: 1, 2: 4, 3: 9}"
      ]
     },
     "execution_count": 1,
     "metadata": {},
     "output_type": "execute_result"
    }
   ],
   "source": [
    "def mocniny(cislo):\n",
    "  seznam_mocnin = []\n",
    "  for i in range(1,cislo):\n",
    "    seznam_mocnin.append((i, i**2))\n",
    "\n",
    "  mocniny = dict(seznam_mocnin)  \n",
    "  return mocniny\n",
    "  \n",
    "mocniny(4)"
   ]
  },
  {
   "cell_type": "markdown",
   "metadata": {},
   "source": [
    "### Jiné řešení"
   ]
  },
  {
   "cell_type": "code",
   "execution_count": 2,
   "metadata": {},
   "outputs": [
    {
     "data": {
      "text/plain": [
       "{1: 1, 2: 4, 3: 9, 4: 16}"
      ]
     },
     "execution_count": 2,
     "metadata": {},
     "output_type": "execute_result"
    }
   ],
   "source": [
    "def mocniny(n):\n",
    "    slovnik_mocniny = {}\n",
    "    for i in range(1, n+1):\n",
    "        slovnik_mocniny[i] = i**2\n",
    "    return slovnik_mocniny\n",
    "\n",
    "mocniny(4)"
   ]
  },
  {
   "cell_type": "markdown",
   "metadata": {},
   "source": [
    "## Součet klíčů a hodnot"
   ]
  },
  {
   "cell_type": "code",
   "execution_count": 3,
   "metadata": {},
   "outputs": [
    {
     "data": {
      "text/plain": [
       "(10, 30)"
      ]
     },
     "execution_count": 3,
     "metadata": {},
     "output_type": "execute_result"
    }
   ],
   "source": [
    "def soucet_klicu_a_hodnot(slovnik):\n",
    "    soucet_klicu = soucet_hodnot = 0\n",
    "    for klic, hodnota in slovnik.items():\n",
    "        soucet_klicu = soucet_klicu + klic\n",
    "        soucet_hodnot = soucet_hodnot + hodnota\n",
    "    soucty = (soucet_klicu, soucet_hodnot)\n",
    "    return soucty\n",
    "\n",
    "soucet_klicu_a_hodnot(mocniny(4))"
   ]
  },
  {
   "cell_type": "markdown",
   "metadata": {},
   "source": [
    "### Jiné řešení"
   ]
  },
  {
   "cell_type": "code",
   "execution_count": 4,
   "metadata": {},
   "outputs": [
    {
     "data": {
      "text/plain": [
       "(10, 30)"
      ]
     },
     "execution_count": 4,
     "metadata": {},
     "output_type": "execute_result"
    }
   ],
   "source": [
    "def soucet_klicu_a_hodnot(slovnik):\n",
    "    return((sum(slovnik.keys()), sum(slovnik.values())))\n",
    "\n",
    "soucet_klicu_a_hodnot(mocniny(4))"
   ]
  },
  {
   "cell_type": "markdown",
   "metadata": {},
   "source": [
    "Musí tam být tolik závorek?"
   ]
  },
  {
   "cell_type": "code",
   "execution_count": 5,
   "metadata": {},
   "outputs": [
    {
     "data": {
      "text/plain": [
       "(10, 30)"
      ]
     },
     "execution_count": 5,
     "metadata": {},
     "output_type": "execute_result"
    }
   ],
   "source": [
    "def soucet_klicu_a_hodnot(slovnik):\n",
    "    return sum(slovnik), sum(slovnik.values())\n",
    "\n",
    "soucet_klicu_a_hodnot(mocniny(4))"
   ]
  },
  {
   "cell_type": "markdown",
   "metadata": {},
   "source": [
    "## Počet znaků v řetězci"
   ]
  },
  {
   "cell_type": "code",
   "execution_count": 6,
   "metadata": {},
   "outputs": [
    {
     "data": {
      "text/plain": [
       "{'H': 1, 'e': 1, 'l': 3, 'o': 2, ' ': 1, 'W': 1, 'r': 1, 'd': 1, '!': 1}"
      ]
     },
     "execution_count": 6,
     "metadata": {},
     "output_type": "execute_result"
    }
   ],
   "source": [
    "def vypocti_znaky(retezec):\n",
    "    slovnik = {}\n",
    "    for znak in retezec:\n",
    "        slovnik[znak] = retezec.count(znak)\n",
    "    return slovnik\n",
    "\n",
    "vypocti_znaky(\"Hello World!\")"
   ]
  },
  {
   "cell_type": "markdown",
   "metadata": {
    "slideshow": {
     "slide_type": "slide"
    }
   },
   "source": [
    "## Skautská hra"
   ]
  },
  {
   "cell_type": "code",
   "execution_count": null,
   "metadata": {},
   "outputs": [],
   "source": [
    "import random\n",
    "\n",
    "while True:\n",
    "    odpoved = input('Na kolik odpovědí chceš hrát? ')\n",
    "    try:\n",
    "        odpoved = int(odpoved)\n",
    "        break\n",
    "    except ValueError:\n",
    "        print('Musíš napsat celé číslo!')\n",
    "\n",
    "kdo = []\n",
    "s_kym = []\n",
    "co_delali = []\n",
    "kde = []\n",
    "kdy = []\n",
    "proc = []\n",
    "\n",
    "vsechno = [kdo,s_kym,co_delali,kde,kdy,proc]\n",
    "\n",
    "for i in range (odpoved):\n",
    "    kdo1 = input ('Kdo? ')\n",
    "    s_kym1 = input ('S kým? ')\n",
    "    co_delali1 = input ('Co dělali? ')\n",
    "    kde1 = input ('Kde? ')\n",
    "    kdy1 = input ('Kdy? ')\n",
    "    proc1 = input ('Proč? ')\n",
    "    print('')\n",
    "\n",
    "    kdo.append(kdo1)\n",
    "    s_kym.append(s_kym1)\n",
    "    co_delali.append(co_delali1)\n",
    "    kde.append(kde1)\n",
    "    kdy.append(kdy1)\n",
    "    proc.append(proc1)\n",
    "\n",
    "a=random.choice(kdo)\n",
    "b=random.choice(s_kym)\n",
    "c=random.choice(co_delali)\n",
    "d=random.choice(kde)\n",
    "e=random.choice(kdy)\n",
    "f=random.choice(proc)\n",
    "\n",
    "print(a, b, c, d, e, f)"
   ]
  },
  {
   "cell_type": "markdown",
   "metadata": {
    "slideshow": {
     "slide_type": "slide"
    }
   },
   "source": [
    "Řešení, kde přidání, změna či odebrání jakékoli otázky znamená jen změnu na jednom míste v seznamu otázek."
   ]
  },
  {
   "cell_type": "code",
   "execution_count": null,
   "metadata": {
    "slideshow": {
     "slide_type": "-"
    }
   },
   "outputs": [],
   "source": [
    "from random import choice\n",
    "\n",
    "otazky = ['Kdo', 'S kým', 'Co dělali', 'Kde']\n",
    "\n",
    "odpovedi = {}\n",
    "for otazka in otazky:\n",
    "    odpovedi[otazka] = []\n",
    "    \n",
    "for otazka in otazky:\n",
    "    while True:\n",
    "        odpoved = input('Zadej odpověď na otázku „{}?“ '.format(otazka))\n",
    "        if not odpoved:\n",
    "            break\n",
    "        else:\n",
    "            odpovedi[otazka].append(odpoved)\n",
    "\n",
    "veta = ''\n",
    "\n",
    "for otazka in otazky:\n",
    "    veta = veta + choice(odpovedi[otazka]) + ' '\n",
    "\n",
    "print(veta)"
   ]
  },
  {
   "cell_type": "markdown",
   "metadata": {
    "slideshow": {
     "slide_type": "slide"
    }
   },
   "source": [
    "## Obecné rady a postřehy"
   ]
  },
  {
   "cell_type": "markdown",
   "metadata": {
    "slideshow": {
     "slide_type": "-"
    }
   },
   "source": [
    "* Evergreen = ptejte se!\n",
    "* Pochvala za všechna funkční řešení.\n",
    "* Pochvala za to, že pracujete i na starších úkolech.\n",
    "* Pochvala za dokumentační řetězce.\n",
    "  * Ještě větší pochvala za dokumentační řetězce ve třech uvozovkách.\n",
    "  * A ještě větší pochvala těm, kdož jsou konzistentní a dávají dokumentační řetězce úplně všude."
   ]
  }
 ],
 "metadata": {
  "celltoolbar": "Slideshow",
  "kernelspec": {
   "display_name": "Python 3",
   "language": "python",
   "name": "python3"
  },
  "language_info": {
   "codemirror_mode": {
    "name": "ipython",
    "version": 3
   },
   "file_extension": ".py",
   "mimetype": "text/x-python",
   "name": "python",
   "nbconvert_exporter": "python",
   "pygments_lexer": "ipython3",
   "version": "3.8.1"
  }
 },
 "nbformat": 4,
 "nbformat_minor": 2
}
