{
 "cells": [
  {
   "cell_type": "markdown",
   "metadata": {
    "slideshow": {
     "slide_type": "slide"
    }
   },
   "source": [
    "# Feedback k domácím projektům"
   ]
  },
  {
   "cell_type": "markdown",
   "metadata": {
    "slideshow": {
     "slide_type": "slide"
    }
   },
   "source": [
    "## Nejmenší číslo"
   ]
  },
  {
   "cell_type": "markdown",
   "metadata": {
    "slideshow": {
     "slide_type": "fragment"
    }
   },
   "source": [
    "### Jedno z vašich řešení:"
   ]
  },
  {
   "cell_type": "code",
   "execution_count": null,
   "metadata": {
    "slideshow": {
     "slide_type": "-"
    }
   },
   "outputs": [],
   "source": [
    "c1 = int(input(\"Zadej 1. číslo: \"))\n",
    "c2 = int(input(\"Zadej 2. číslo: \"))\n",
    "c3 = int(input(\"Zadej 3. číslo: \"))\n",
    "c4 = int(input(\"Zadej 4. číslo: \"))\n",
    "c5 = int(input(\"Zadej 5. číslo: \"))\n",
    "\n",
    "if c1 < c2 and c1 < c3 and c1 < c4 and c1 < c5:\n",
    "    print(\"Nejmenší číslo je:\", c1)\n",
    "elif c2 < c1 and c2 < c3 and c2 < c4 and c2 < c5:\n",
    "    print(\"Nejmenší číslo je:\", c2)\n",
    "elif c3 < c2 and c3 < c1 and c3 < c4 and c3 < c5:\n",
    "    print(\"Nejmenší číslo je:\", c3)\n",
    "elif c4 < c2 and c4 < c3 and c4 < c1 and c4 < c5:\n",
    "    print(\"Nejmenší číslo je:\", c4)\n",
    "else:\n",
    "    print(\"Nejmenší číslo je:\", c5)"
   ]
  },
  {
   "cell_type": "markdown",
   "metadata": {
    "slideshow": {
     "slide_type": "slide"
    }
   },
   "source": [
    "### Další řešení: "
   ]
  },
  {
   "cell_type": "code",
   "execution_count": null,
   "metadata": {
    "slideshow": {
     "slide_type": "-"
    }
   },
   "outputs": [],
   "source": [
    "min = 999999999999\n",
    "\n",
    "for i in range(5):\n",
    "    cislo = int(input(\"Zadej číslo: \"))\n",
    "    if cislo < min:\n",
    "        min = cislo\n",
    "\n",
    "print(\"Nejmenší číslo je: \", min)"
   ]
  },
  {
   "cell_type": "markdown",
   "metadata": {
    "slideshow": {
     "slide_type": "slide"
    }
   },
   "source": [
    "### Další řešení: "
   ]
  },
  {
   "cell_type": "code",
   "execution_count": null,
   "metadata": {
    "slideshow": {
     "slide_type": "-"
    }
   },
   "outputs": [],
   "source": [
    "for i in range(5):\n",
    "    cislo = int(input(\"Zadej číslo: \"))\n",
    "    if i == 0:\n",
    "        min = cislo\n",
    "    elif cislo < min:\n",
    "        min = cislo\n",
    "\n",
    "print(\"Nejmenší číslo je: \", min)"
   ]
  },
  {
   "cell_type": "markdown",
   "metadata": {},
   "source": [
    "### Další řešení: "
   ]
  },
  {
   "cell_type": "code",
   "execution_count": null,
   "metadata": {},
   "outputs": [],
   "source": [
    "min = int(input(\"Zadej číslo: \"))\n",
    "\n",
    "for i in range(4):\n",
    "    cislo = int(input(\"Zadej číslo: \"))\n",
    "    if cislo < min:\n",
    "        min = cislo\n",
    "\n",
    "print(\"Nejmenší číslo je: \", min)"
   ]
  },
  {
   "cell_type": "markdown",
   "metadata": {
    "slideshow": {
     "slide_type": "slide"
    }
   },
   "source": [
    "## N-úhelníky v řadě"
   ]
  },
  {
   "cell_type": "markdown",
   "metadata": {
    "slideshow": {
     "slide_type": "slide"
    }
   },
   "source": [
    "### Upovídané řešení z domácích projektů"
   ]
  },
  {
   "cell_type": "code",
   "execution_count": null,
   "metadata": {
    "slideshow": {
     "slide_type": "-"
    }
   },
   "outputs": [],
   "source": [
    "from turtle import forward, left, penup, pendown, exitonclick\n",
    "\n",
    "# petiuhelnik\n",
    "uhel = 180 - (180 * (1 - 2 / 5))\n",
    "for i in range(5):\n",
    "    forward(200/5)\n",
    "    left(uhel)\n",
    "\n",
    "penup()\n",
    "forward(100)\n",
    "pendown()\n",
    "\n",
    "# sestiuhelnik\n",
    "uhel = 180 - (180 * (1 - 2 / 6))\n",
    "for i in range(6):\n",
    "    forward(200/6)\n",
    "    left(uhel)\n",
    "\n",
    "penup()\n",
    "forward(100)\n",
    "pendown()\n",
    "\n",
    "# sedmiuhelnik\n",
    "uhel = 180 - (180 * (1 - 2 / 7))\n",
    "for i in range(7):\n",
    "    forward(200/7)\n",
    "    left(uhel)\n",
    "\n",
    "penup()\n",
    "forward(100)\n",
    "pendown()\n",
    "\n",
    "# osmiuhelnik\n",
    "uhel = 180 - (180 * (1 - 2 / 8))\n",
    "for i in range(8):\n",
    "    forward(200/8)\n",
    "    left(uhel)\n",
    "\n",
    "penup()\n",
    "forward(100)\n",
    "pendown()\n",
    "\n",
    "exitonclick()"
   ]
  },
  {
   "cell_type": "markdown",
   "metadata": {
    "slideshow": {
     "slide_type": "slide"
    }
   },
   "source": [
    "### Kratší řešení s využitím cyklu v dalším cyklu"
   ]
  },
  {
   "cell_type": "code",
   "execution_count": null,
   "metadata": {
    "slideshow": {
     "slide_type": "-"
    }
   },
   "outputs": [],
   "source": [
    "from turtle import forward, left, penup, pendown, exitonclick\n",
    "\n",
    "for n in range(5, 9):\n",
    "    uhel = 180 - (180 * (1 - 2 / n))\n",
    "    for i in range(n):\n",
    "        forward(200/n)\n",
    "        left(uhel)\n",
    "\n",
    "    penup()\n",
    "    forward(100)\n",
    "    pendown()\n",
    "\n",
    "exitonclick()"
   ]
  },
  {
   "cell_type": "markdown",
   "metadata": {},
   "source": [
    "## Výpočet úhlu bokem (kalkulačka)?"
   ]
  },
  {
   "cell_type": "code",
   "execution_count": null,
   "metadata": {},
   "outputs": [],
   "source": [
    "from turtle import forward, left, exitonclick\n",
    "\n",
    "for i in range(95):\n",
    "    forward(5)\n",
    "    left(3.8)\n",
    "\n",
    "exitonclick()"
   ]
  },
  {
   "cell_type": "markdown",
   "metadata": {},
   "source": [
    "### Nebo pomocí Pythonu?"
   ]
  },
  {
   "cell_type": "code",
   "execution_count": null,
   "metadata": {},
   "outputs": [],
   "source": [
    "from turtle import forward, left, exitonclick\n",
    "\n",
    "for i in range(95):\n",
    "    forward(5)\n",
    "    left(360/95)\n",
    "\n",
    "exitonclick()"
   ]
  },
  {
   "cell_type": "markdown",
   "metadata": {
    "slideshow": {
     "slide_type": "slide"
    }
   },
   "source": [
    "## Jednoduchá kalkulačka\n",
    "### Jedno možné řešení: "
   ]
  },
  {
   "cell_type": "code",
   "execution_count": null,
   "metadata": {},
   "outputs": [],
   "source": [
    "prvni_cislo = int(input(\"Zadej první celé číslo: \"))\n",
    "druhe_cislo = int(input(\"Zadej druhé celé číslo: \"))\n",
    "operace = (input(\"Zadej operaci, kterou mám s čísly provést (+, -, * nebo /): \"))\n",
    "\n",
    "if operace == \"+\":\n",
    "    print(prvni_cislo, operace , druhe_cislo, \"=\", prvni_cislo + druhe_cislo)\n",
    "\n",
    "if operace == \"-\":\n",
    "    print(prvni_cislo, operace , druhe_cislo, \"=\", prvni_cislo - druhe_cislo)\n",
    "\n",
    "if operace == \"*\":\n",
    "    print(prvni_cislo, operace , druhe_cislo, \"=\", prvni_cislo * druhe_cislo)\n",
    "\n",
    "if operace == \"/\":\n",
    "    print(prvni_cislo, operace , druhe_cislo, \"=\", prvni_cislo / druhe_cislo)"
   ]
  },
  {
   "cell_type": "markdown",
   "metadata": {},
   "source": [
    "### Druhé možné řešení: "
   ]
  },
  {
   "cell_type": "code",
   "execution_count": null,
   "metadata": {},
   "outputs": [],
   "source": [
    "num1 = float(input(\"Zadej první číslo: \"))\n",
    "num2 = float(input(\"Zadej druhé číslo: \"))\n",
    "operator = input(\"Vyber operaci + - * /  \")\n",
    "\n",
    "if operator == \"+\":\n",
    "    vysledek = num1 + num2\n",
    "\n",
    "elif operator == \"-\":\n",
    "    vysledek = num1 - num2\n",
    "\n",
    "elif operator == \"*\":\n",
    "    vysledek = num1 * num2\n",
    "\n",
    "elif operator == \"/\":\n",
    "    if num2 == 0:\n",
    "        print(\"Nelze dělit nulou!\")\n",
    "        vysledek = False\n",
    "    else:\n",
    "        vysledek = num1 / num2\n",
    "else:\n",
    "    print(\"Neznámý operátor!\")\n",
    "    vysledek = False\n",
    "\n",
    "if vysledek:\n",
    "    print(num1, operator, num2, \"=\", vysledek)"
   ]
  },
  {
   "cell_type": "markdown",
   "metadata": {},
   "source": [
    "## Importy\n",
    "* Všechny importy na první řádky programu.\n",
    "* Importy z 1 knihovny na 1 řádek.\n",
    "* Neimportovat to, co nepotřebuji.\n",
    "* Nepoužívat **from knihovna import \\***"
   ]
  },
  {
   "cell_type": "code",
   "execution_count": null,
   "metadata": {},
   "outputs": [],
   "source": [
    "from turtle import forward\n",
    "from turtle import left, right\n",
    "from random import randrange\n",
    "\n",
    "for i in range(4):\n",
    "    left(90)\n",
    "    forward(50)\n",
    "\n",
    "from turtle import exitonclick\n",
    "exitonclick()"
   ]
  },
  {
   "cell_type": "markdown",
   "metadata": {},
   "source": [
    "### Po úpravě"
   ]
  },
  {
   "cell_type": "code",
   "execution_count": null,
   "metadata": {},
   "outputs": [],
   "source": [
    "from turtle import forward, left, exitonclick\n",
    "\n",
    "for i in range(4):\n",
    "    left(90)\n",
    "    forward(50)\n",
    "\n",
    "exitonclick()"
   ]
  },
  {
   "cell_type": "markdown",
   "metadata": {},
   "source": [
    "# Dokumentace modulu turtle\n",
    "https://docs.python.org/3/library/turtle.html\n",
    "\n",
    "Někteří z vás našli\n",
    "* speed()\n",
    "* circle()\n",
    "* pensize()\n",
    "* a mnoho dalších funkcí pro želvu"
   ]
  },
  {
   "cell_type": "markdown",
   "metadata": {},
   "source": [
    "# Stylopis\n",
    "Není to chyba, která brání spustit program, ale ...\n",
    "\n",
    "Mezi název funkce a závorky s argumenty nepatří mezera.\n",
    "\n",
    "Kolem operátorů ve většině případů patří mezera. \n",
    "\n",
    "Kolem operátoru = nepatří mezera např. při definování pojmenovaného argumentu."
   ]
  },
  {
   "cell_type": "code",
   "execution_count": 1,
   "metadata": {},
   "outputs": [
    {
     "name": "stdout",
     "output_type": "stream",
     "text": [
      "Zadej číslo: 3\n",
      "Číslo je větší nebo rovno 8...\n",
      "Tah je => kámen\n",
      "A číslo je: 3\n"
     ]
    }
   ],
   "source": [
    "len(\"ahoj\")\n",
    "range(10)\n",
    "range(4, 20, 3)\n",
    "cislo = int(input(\"Zadej číslo: \"))\n",
    "\n",
    "a = 10 + cislo\n",
    "if a >= 8:\n",
    "    print(\"Číslo je větší nebo rovno 8\", end='...')\n",
    "\n",
    "print()\n",
    "    \n",
    "tah = \"kámen\"\n",
    "if tah == \"kámen\" and cislo == 3:\n",
    "    print(\"Tah je\", tah, sep=\" => \")\n",
    "    print(\"A číslo je:\", cislo)"
   ]
  },
  {
   "cell_type": "markdown",
   "metadata": {
    "slideshow": {
     "slide_type": "slide"
    }
   },
   "source": [
    "## Obecné připomínky a rady"
   ]
  },
  {
   "cell_type": "markdown",
   "metadata": {
    "slideshow": {
     "slide_type": "-"
    }
   },
   "source": [
    "* Pochvala za domácí úkoly.\n",
    "* Pochvala všem, kteří měli čas na bonusové úkoly.\n",
    "* Pochvala všem, kteří měli problém a zeptali se.\n",
    "* PTEJTE SE: Když se nezeptáte, nemůžeme vám odpovědě a hlavně nevíme, že je někde problém, se kterým potřebujete poradit."
   ]
  }
 ],
 "metadata": {
  "celltoolbar": "Slideshow",
  "kernelspec": {
   "display_name": "Python 3",
   "language": "python",
   "name": "python3"
  },
  "language_info": {
   "codemirror_mode": {
    "name": "ipython",
    "version": 3
   },
   "file_extension": ".py",
   "mimetype": "text/x-python",
   "name": "python",
   "nbconvert_exporter": "python",
   "pygments_lexer": "ipython3",
   "version": "3.8.1"
  }
 },
 "nbformat": 4,
 "nbformat_minor": 2
}
