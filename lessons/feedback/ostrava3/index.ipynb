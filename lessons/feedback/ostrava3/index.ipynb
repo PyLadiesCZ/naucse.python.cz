{
 "cells": [
  {
   "cell_type": "markdown",
   "metadata": {
    "slideshow": {
     "slide_type": "slide"
    }
   },
   "source": [
    "# Feedback k domácím projektům"
   ]
  },
  {
   "cell_type": "markdown",
   "metadata": {
    "slideshow": {
     "slide_type": "slide"
    }
   },
   "source": [
    "## Nejmenší číslo"
   ]
  },
  {
   "cell_type": "markdown",
   "metadata": {
    "slideshow": {
     "slide_type": "fragment"
    }
   },
   "source": [
    "### Jedno z vašich řešení:"
   ]
  },
  {
   "cell_type": "code",
   "execution_count": null,
   "metadata": {
    "slideshow": {
     "slide_type": "-"
    }
   },
   "outputs": [],
   "source": [
    "number_1 = float(input('Zadej číslo: '))\n",
    "number_2 = float(input('Zadej číslo: '))\n",
    "number_3 = float(input('Zadej číslo: '))\n",
    "number_4 = float(input('Zadej číslo: '))\n",
    "number_5 = float(input('Zadej číslo: '))\n",
    "print(min(number_1, number_2,number_3,number_4,number_5))"
   ]
  },
  {
   "cell_type": "markdown",
   "metadata": {
    "slideshow": {
     "slide_type": "slide"
    }
   },
   "source": [
    "### Druhé vaše řešení: "
   ]
  },
  {
   "cell_type": "code",
   "execution_count": null,
   "metadata": {
    "slideshow": {
     "slide_type": "-"
    }
   },
   "outputs": [],
   "source": [
    "cislo1 = float(input(\"Zadej první číslo:\"))\n",
    "cislo2 = float(input(\"Zadej druhé číslo:\"))\n",
    "cislo3 = float(input(\"Zadej třetí číslo:\"))\n",
    "cislo4 = float(input(\"Zadej čtvrté číslo:\"))\n",
    "cislo5 = float(input(\"Zadej páté číslo:\"))\n",
    "\n",
    "nejmensi_hodnota = cislo1\n",
    "\n",
    "for cislo in cislo1, cislo2, cislo3, cislo4, cislo5:\n",
    "    if cislo < nejmensi_hodnota:\n",
    "        nejmensi_hodnota = cislo\n",
    "\n",
    "print(\"Nejmenší hodnota je\", nejmensi_hodnota)"
   ]
  },
  {
   "cell_type": "markdown",
   "metadata": {
    "slideshow": {
     "slide_type": "slide"
    }
   },
   "source": [
    "### Třetí vaše řešení: "
   ]
  },
  {
   "cell_type": "code",
   "execution_count": null,
   "metadata": {
    "slideshow": {
     "slide_type": "-"
    }
   },
   "outputs": [],
   "source": [
    "min = int(input(\"Zadej číslo: \"))\n",
    "\n",
    "for i in range(4):\n",
    "    cislo = int(input(\"Zadej číslo: \"))\n",
    "    if cislo < min:\n",
    "        min = cislo\n",
    "\n",
    "print(\"Nejmenší zadané číslo bylo\" , min)"
   ]
  },
  {
   "cell_type": "markdown",
   "metadata": {
    "slideshow": {
     "slide_type": "slide"
    }
   },
   "source": [
    "## N-úhelníky v řadě"
   ]
  },
  {
   "cell_type": "markdown",
   "metadata": {
    "slideshow": {
     "slide_type": "slide"
    }
   },
   "source": [
    "### Upovídané řešení z domácích projektů"
   ]
  },
  {
   "cell_type": "code",
   "execution_count": null,
   "metadata": {
    "slideshow": {
     "slide_type": "-"
    }
   },
   "outputs": [],
   "source": [
    "from turtle import left, right, forward, exitonclick, penup, pendown\n",
    "\n",
    "n=5 \n",
    "m=6 \n",
    "k=7 \n",
    "p=8\n",
    "a=200\n",
    "\n",
    "for i in range (n): #petiuhelnik#\n",
    "    forward (a/n)\n",
    "    left (360/n)\n",
    "penup ()\n",
    "forward (80)\n",
    "pendown ()\n",
    "\n",
    "for i in range (m): #sestiuhelnik#\n",
    "    forward (a/m)\n",
    "    left (360/m)\n",
    "penup ()\n",
    "forward (80)\n",
    "pendown ()\n",
    "\n",
    "for i in range (k): #sedmiuhelnik#\n",
    "    forward (a/k)\n",
    "    left (360/k)\n",
    "penup ()\n",
    "forward (80)\n",
    "pendown ()\n",
    "\n",
    "for i in range (p): #osmiuhelnik#\n",
    "    forward (a/p)\n",
    "    left (360/p)\n",
    "penup ()\n",
    "forward (80)\n",
    "pendown ()\n",
    "\n",
    "exitonclick ()"
   ]
  },
  {
   "cell_type": "markdown",
   "metadata": {
    "slideshow": {
     "slide_type": "slide"
    }
   },
   "source": [
    "### Kratší řešení s využitím cyklu v dalším cyklu"
   ]
  },
  {
   "cell_type": "code",
   "execution_count": null,
   "metadata": {
    "slideshow": {
     "slide_type": "-"
    }
   },
   "outputs": [],
   "source": [
    "from turtle import forward, right, left, exitonclick, penup, pendown\n",
    "\n",
    "for n in range(5,9):\n",
    "    for i in range(n):\n",
    "        forward(200/n)\n",
    "        left(180-180*(1-2/n))\n",
    "    penup()\n",
    "    forward(60)\n",
    "    pendown()\n",
    "\n",
    "exitonclick()"
   ]
  },
  {
   "cell_type": "markdown",
   "metadata": {
    "slideshow": {
     "slide_type": "slide"
    }
   },
   "source": [
    "## Jednoduchá kalkulačka\n",
    "### Jedno vaše řešení: "
   ]
  },
  {
   "cell_type": "code",
   "execution_count": null,
   "metadata": {},
   "outputs": [],
   "source": [
    "firstNumber = int(input('Zadej číslo:'))\n",
    "secondNumber = int(input('Zadej druhé číslo:'))\n",
    "operation = input('Zadej operaci, která se má provést (+, -, *, /):')\n",
    "\n",
    "if operation == '+':\n",
    "    plus = firstNumber + secondNumber\n",
    "    print(firstNumber, '+', secondNumber, '=', plus)\n",
    "elif operation == '-':\n",
    "    minus = firstNumber - secondNumber\n",
    "    print(firstNumber, '-', secondNumber, '=', minus)\n",
    "elif operation == '*':\n",
    "    multiply = firstNumber * secondNumber\n",
    "    print(firstNumber, '*', secondNumber, '=', multiply)\n",
    "elif operation == '/':\n",
    "    divine = firstNumber / secondNumber\n",
    "    print(firstNumber, '/', secondNumber, '=', divine)\n",
    "else:\n",
    "    print('Takovou operaci neznám!')"
   ]
  },
  {
   "cell_type": "markdown",
   "metadata": {},
   "source": [
    "### Druhé vaše řešení: "
   ]
  },
  {
   "cell_type": "code",
   "execution_count": null,
   "metadata": {},
   "outputs": [],
   "source": [
    "cislo1 = int(input(\"Zadej první číslo: \"))\n",
    "cislo2 = int(input(\"Zadej druhé číslo: \"))\n",
    "operator = input(\"Zadej operator (+ - * /): \")\n",
    "\n",
    "if operator == \"/\" and cislo2 == 0:\n",
    "    print(\"Nulou nelze dělit\")\n",
    "elif operator not in (\"+\", \"-\", \"*\", \"/\"):\n",
    "    print(\"Neznámý operátor\")\n",
    "else:\n",
    "    if operator == \"+\":\n",
    "        vysledek = cislo1 + cislo2\n",
    "    elif operator == \"-\":\n",
    "        vysledek = cislo1 - cislo2\n",
    "    elif operator == \"*\":\n",
    "        vysledek = cislo1 * cislo2\n",
    "    else:\n",
    "        vysledek = cislo1 / cislo2\n",
    "    print(cislo1, operator, cislo2, \"=\", vysledek)"
   ]
  },
  {
   "cell_type": "markdown",
   "metadata": {
    "slideshow": {
     "slide_type": "slide"
    }
   },
   "source": [
    "## Obecné připomínky a rady"
   ]
  },
  {
   "cell_type": "markdown",
   "metadata": {
    "slideshow": {
     "slide_type": "-"
    }
   },
   "source": [
    "* Importy provádíme vždy na prvních řádcích programu a v rámci programu pouze jednou. \n",
    "* Z jednoho modulu je jeden import na 1 řádku. Neimportujeme nic co pak v programu nepoužijeme.\n",
    "* Díky všem, kteří zrychlili želvičku.\n",
    "* Když vám něco nefunguje a nevíte si s něčím rady, správný popis situace je: \"Zkoušela jsem tohle, dělá mi to tohle, chci aby mi to dělalo tohle, hlásí mi to tuto chybu apod.\". Méně správný popis je: \"Nefunguje mi to\" nebo ještě hůře odevzdat nefunkční kód bez komentáře.\n",
    "* Odevzdávejte celý kód vč. importů apod. Když vám pak píšeme, že kód nefunguje, tak samozřejmě víme, že tam chybí importy, ale nemůžeme si nic domýšlet, kontrolujeme přesně to, co nám odevzdáte. \n",
    "* Mezi název funkce a závorky s argumenty nepište mezery. Správně je len(\"ahoj\"), range(10), print(\"tisk\"). "
   ]
  },
  {
   "cell_type": "markdown",
   "metadata": {},
   "source": [
    "## Trochu statistiky"
   ]
  },
  {
   "cell_type": "markdown",
   "metadata": {},
   "source": [
    "* 25 účastníků kurzu\n",
    "* 22 holek a kluků přítomno na předchozí lekci\n",
    "* 20 holek a kluků odevzdalo alespoň 1 úkol (6 odevzdalo všechny úkoly)\n",
    "* úspěšnost odevzdaných úkolů je 77,22 % (podíl úkolů označených jako správně proti počtu odevzdaných)\n",
    "* 17 holek a kluků vyplnilo zpětnou vazbu\n"
   ]
  },
  {
   "cell_type": "markdown",
   "metadata": {},
   "source": [
    "## Ukázky \"Napiš obrázek\"\n",
    "![želvička](static/turtle_pictures.jpg)"
   ]
  }
 ],
 "metadata": {
  "celltoolbar": "Slideshow",
  "kernelspec": {
   "display_name": "Python 3",
   "language": "python",
   "name": "python3"
  },
  "language_info": {
   "codemirror_mode": {
    "name": "ipython",
    "version": 3
   },
   "file_extension": ".py",
   "mimetype": "text/x-python",
   "name": "python",
   "nbconvert_exporter": "python",
   "pygments_lexer": "ipython3",
   "version": "3.7.6"
  }
 },
 "nbformat": 4,
 "nbformat_minor": 2
}
