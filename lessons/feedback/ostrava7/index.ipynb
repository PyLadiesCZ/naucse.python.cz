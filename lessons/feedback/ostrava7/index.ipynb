{
 "cells": [
  {
   "cell_type": "markdown",
   "metadata": {
    "slideshow": {
     "slide_type": "slide"
    }
   },
   "source": [
    "# Feedback k domácím projektům"
   ]
  },
  {
   "cell_type": "markdown",
   "metadata": {
    "slideshow": {
     "slide_type": "slide"
    }
   },
   "source": [
    "## Zvířátka"
   ]
  },
  {
   "cell_type": "markdown",
   "metadata": {},
   "source": [
    "Najdi chyby, nejasnosti či nepřesnosti v tomto kódu:"
   ]
  },
  {
   "cell_type": "code",
   "execution_count": null,
   "metadata": {},
   "outputs": [],
   "source": [
    "zvirata = [ \"pes\", \"kočka\", \"králík\", \"had\", \"ježek\"]\n",
    "znak = \"k\"\n",
    "\n",
    "def pismeno(jmeno):\n",
    "    for i in range(5):\n",
    "        if znak in jmeno[i][0]:\n",
    "            print(jmeno[i])\n",
    "    return\n",
    "\n",
    "pismeno(zvirata)"
   ]
  },
  {
   "cell_type": "markdown",
   "metadata": {
    "slideshow": {
     "slide_type": "slide"
    }
   },
   "source": [
    "Takto by to mohlo vypadat přehlednější a pochopitelnější"
   ]
  },
  {
   "cell_type": "code",
   "execution_count": null,
   "metadata": {},
   "outputs": [],
   "source": [
    "zvirata = [ \"pes\", \"kočka\", \"králík\", \"had\", \"ježek\"]\n",
    "\n",
    "def s_prvnim_pismenem(seznam_zvirat, pismeno):\n",
    "    for zvire in seznam_zvirat:\n",
    "        if zvire.startswith(pismeno):\n",
    "            print(zvire)\n",
    "\n",
    "s_prvnim_pismenem(zvirata, 'k')"
   ]
  },
  {
   "cell_type": "markdown",
   "metadata": {
    "slideshow": {
     "slide_type": "slide"
    }
   },
   "source": [
    "Další podobná funkce:"
   ]
  },
  {
   "cell_type": "code",
   "execution_count": null,
   "metadata": {},
   "outputs": [],
   "source": [
    "def kratke(jmeno = zvirata):\n",
    "    for i in range(len(jmeno)):\n",
    "        if len(jmeno[i]) < 5:\n",
    "            print(jmeno[i])\n",
    "        else:\n",
    "            print(end = \"\")\n",
    "    return jmeno\n",
    "\n",
    "kratke(zvirata)"
   ]
  },
  {
   "cell_type": "markdown",
   "metadata": {
    "slideshow": {
     "slide_type": "slide"
    }
   },
   "source": [
    "A její přehlednější varianta:"
   ]
  },
  {
   "cell_type": "code",
   "execution_count": null,
   "metadata": {},
   "outputs": [],
   "source": [
    "def kratke(seznam_zvirat):\n",
    "    for jmeno in seznam_zvirat:\n",
    "        if len(jmeno) < 5:\n",
    "            print(jmeno)\n",
    "\n",
    "kratke(zvirata)"
   ]
  },
  {
   "cell_type": "markdown",
   "metadata": {
    "slideshow": {
     "slide_type": "slide"
    }
   },
   "source": [
    "Je možné tuto funkci zkrátit a zjednodušit?"
   ]
  },
  {
   "cell_type": "code",
   "execution_count": null,
   "metadata": {},
   "outputs": [],
   "source": [
    "def overeni(seznam):\n",
    "    \"ověří, zda je zadané slovo v seznamu a vrátí True/False\"\n",
    "    otazka = input(\"Zadej název zvířete, jež chceš ověřit: \")\n",
    "    if otazka in seznam:\n",
    "        return True\n",
    "    else:\n",
    "        return False"
   ]
  },
  {
   "cell_type": "markdown",
   "metadata": {
    "slideshow": {
     "slide_type": "slide"
    }
   },
   "source": [
    "Ano, je to možné"
   ]
  },
  {
   "cell_type": "code",
   "execution_count": null,
   "metadata": {},
   "outputs": [],
   "source": [
    "def overeni(seznam):\n",
    "    \"ověří, zda je zadané slovo v seznamu a vrátí True/False\"\n",
    "    otazka = input(\"Zadej název zvířete, jež chceš ověřit: \")\n",
    "    return otazka in seznam"
   ]
  },
  {
   "cell_type": "markdown",
   "metadata": {
    "slideshow": {
     "slide_type": "slide"
    }
   },
   "source": [
    "## Básnička"
   ]
  },
  {
   "cell_type": "markdown",
   "metadata": {
    "slideshow": {
     "slide_type": "slide"
    }
   },
   "source": [
    "### Obrácené pořadí veršů"
   ]
  },
  {
   "cell_type": "code",
   "execution_count": 1,
   "metadata": {},
   "outputs": [
    {
     "name": "stdout",
     "output_type": "stream",
     "text": [
      "\n",
      "Anyway the wind blows doesn't really matter to me, to me.\n",
      "Little high, little low,\n",
      "Because I'm easy come, easy go,\n",
      "I'm just a poor boy, I need no sympathy,\n",
      "Look up to the skies and see,\n",
      "Open your eyes,\n",
      "\n",
      "No escape from reality.\n",
      "Caught in a landslide,\n",
      "Is this just fantasy?\n",
      "Is this the real life?\n"
     ]
    }
   ],
   "source": [
    "with open(\"static/basnicka.txt\", encoding=\"utf-8\") as soubor_s_basnickou:\n",
    "    basnicka = soubor_s_basnickou.read()\n",
    "\n",
    "seznam_versu = basnicka.split(\"\\n\")  # Rozdělí básničku na jednotlivé verše (řádky) [seznam]\n",
    "seznam_versu.reverse()  # Obrátí pořadí veršů v seznamu\n",
    "obracena_basnicka = \"\\n\".join(seznam_versu)  # Složí zpět seznam na řetězec a mezi verše vloží \\n\n",
    "print(obracena_basnicka)"
   ]
  },
  {
   "cell_type": "code",
   "execution_count": 2,
   "metadata": {
    "slideshow": {
     "slide_type": "slide"
    }
   },
   "outputs": [
    {
     "name": "stdout",
     "output_type": "stream",
     "text": [
      "Anyway the wind blows doesn't really matter to me, to me.\n",
      "Little high, little low,\n",
      "Because I'm easy come, easy go,\n",
      "I'm just a poor boy, I need no sympathy,\n",
      "Look up to the skies and see,\n",
      "Open your eyes,\n",
      "\n",
      "No escape from reality.\n",
      "Caught in a landslide,\n",
      "Is this just fantasy?\n",
      "Is this the real life?\n"
     ]
    }
   ],
   "source": [
    "with open(\"static/basnicka.txt\", encoding=\"utf-8\") as soubor_s_basnickou:\n",
    "    seznam_versu = soubor_s_basnickou.readlines()\n",
    "\n",
    "for vers in seznam_versu[::-1]:\n",
    "    print(vers, end=\"\")"
   ]
  },
  {
   "cell_type": "markdown",
   "metadata": {
    "slideshow": {
     "slide_type": "slide"
    }
   },
   "source": [
    "### Obrácené pořadí slov ve verších"
   ]
  },
  {
   "cell_type": "code",
   "execution_count": 3,
   "metadata": {
    "slideshow": {
     "slide_type": "slide"
    }
   },
   "outputs": [
    {
     "name": "stdout",
     "output_type": "stream",
     "text": [
      "life? real the this Is\n",
      "fantasy? just this Is\n",
      "landslide, a in Caught\n",
      "reality. from escape No\n",
      "\n",
      "eyes, your Open\n",
      "see, and skies the to up Look\n",
      "sympathy, no need I boy, poor a just I'm\n",
      "go, easy come, easy I'm Because\n",
      "low, little high, Little\n",
      "me. to me, to matter really doesn't blows wind the Anyway\n",
      "\n"
     ]
    }
   ],
   "source": [
    "with open(\"static/basnicka.txt\", encoding=\"utf-8\") as soubor_s_basnickou:\n",
    "    basnicka = soubor_s_basnickou.read()\n",
    "\n",
    "seznam_versu = basnicka.split(\"\\n\")  # Rozdělí básničku na jednotlivé verše (řádky) [seznam]\n",
    "\n",
    "nova_basnicka = []  # Seznam pro novou básničku, která obrácením pořadí slov vznikne\n",
    "\n",
    "for vers in seznam_versu:  # Pro každý verš v originální básničce\n",
    "    slova = vers.split()  # Rozdělí verš na slova [seznam]\n",
    "    slova.reverse()  # Obrátí pořádí slov\n",
    "    novy_vers = \" \".join(slova)  # Spojí obrázená slova zpět do řetězce\n",
    "    nova_basnicka.append(novy_vers)  # Přidá nový verš do nové básničky\n",
    "\n",
    "obracena_basnicka = \"\\n\".join(nova_basnicka)  # Složí zpět seznam na řetězec a mezi verše vloží \\n\n",
    "print(obracena_basnicka)"
   ]
  },
  {
   "cell_type": "code",
   "execution_count": 4,
   "metadata": {
    "slideshow": {
     "slide_type": "slide"
    }
   },
   "outputs": [
    {
     "name": "stdout",
     "output_type": "stream",
     "text": [
      "life? real the this Is\n",
      "fantasy? just this Is\n",
      "landslide, a in Caught\n",
      "reality. from escape No\n",
      "\n",
      "eyes, your Open\n",
      "see, and skies the to up Look\n",
      "sympathy, no need I boy, poor a just I'm\n",
      "go, easy come, easy I'm Because\n",
      "low, little high, Little\n",
      "me. to me, to matter really doesn't blows wind the Anyway\n"
     ]
    }
   ],
   "source": [
    "with open(\"static/basnicka.txt\", encoding=\"utf-8\") as soubor_s_basnickou:\n",
    "    seznam_versu = soubor_s_basnickou.readlines()\n",
    "\n",
    "for i, vers in enumerate(seznam_versu):\n",
    "    slova = vers.split()\n",
    "    slova.reverse()\n",
    "    seznam_versu[i] = \" \".join(slova)\n",
    "\n",
    "print(\"\\n\".join(seznam_versu))"
   ]
  },
  {
   "cell_type": "markdown",
   "metadata": {
    "slideshow": {
     "slide_type": "slide"
    }
   },
   "source": [
    "### Obrácené pořadí slok"
   ]
  },
  {
   "cell_type": "code",
   "execution_count": 5,
   "metadata": {
    "slideshow": {
     "slide_type": "slide"
    }
   },
   "outputs": [
    {
     "name": "stdout",
     "output_type": "stream",
     "text": [
      "Open your eyes,\n",
      "Look up to the skies and see,\n",
      "I'm just a poor boy, I need no sympathy,\n",
      "Because I'm easy come, easy go,\n",
      "Little high, little low,\n",
      "Anyway the wind blows doesn't really matter to me, to me.\n",
      "\n",
      "Is this the real life?\n",
      "Is this just fantasy?\n",
      "Caught in a landslide,\n",
      "No escape from reality.\n"
     ]
    }
   ],
   "source": [
    "with open(\"static/basnicka.txt\", encoding=\"utf-8\") as soubor_s_basnickou:\n",
    "    basnicka = soubor_s_basnickou.read()\n",
    "\n",
    "seznam_slok = basnicka.split(\"\\n\\n\")  # Rozdělí básničku na jednotlivé sloky [seznam]\n",
    "seznam_slok.reverse()\n",
    "basnicka = \"\\n\".join(seznam_slok)\n",
    "print(basnicka)"
   ]
  },
  {
   "cell_type": "markdown",
   "metadata": {
    "slideshow": {
     "slide_type": "slide"
    }
   },
   "source": [
    "### Slova v náhodném pořadí (Mr. Yoda style)"
   ]
  },
  {
   "cell_type": "code",
   "execution_count": 6,
   "metadata": {
    "slideshow": {
     "slide_type": "slide"
    }
   },
   "outputs": [
    {
     "name": "stdout",
     "output_type": "stream",
     "text": [
      "life? this Is real the\n",
      "Is this just fantasy?\n",
      "Caught in a landslide,\n",
      "reality. from escape No\n",
      "\n",
      "your eyes, Open\n",
      "up see, and to Look skies the\n",
      "just sympathy, I poor no need a I'm boy,\n",
      "I'm come, easy easy go, Because\n",
      "Little little high, low,\n",
      "me. to blows the matter me, really wind to doesn't Anyway\n"
     ]
    }
   ],
   "source": [
    "from random import shuffle\n",
    "\n",
    "with open(\"static/basnicka.txt\", encoding=\"utf-8\") as soubor_s_basnickou:\n",
    "    seznam_versu = soubor_s_basnickou.readlines()\n",
    "\n",
    "for i, vers in enumerate(seznam_versu):\n",
    "    slova = vers.split()\n",
    "    shuffle(slova)\n",
    "    seznam_versu[i] = \" \".join(slova)\n",
    "\n",
    "print(\"\\n\".join(seznam_versu))"
   ]
  },
  {
   "cell_type": "markdown",
   "metadata": {
    "slideshow": {
     "slide_type": "slide"
    }
   },
   "source": [
    "## Funkce jako stavební blok programu"
   ]
  },
  {
   "cell_type": "markdown",
   "metadata": {},
   "source": [
    "Takto použitá funkce situaci spíše komplikuje, než aby něčemu pomohla."
   ]
  },
  {
   "cell_type": "code",
   "execution_count": 19,
   "metadata": {
    "slideshow": {
     "slide_type": "-"
    }
   },
   "outputs": [
    {
     "name": "stdout",
     "output_type": "stream",
     "text": [
      "['had', 'pes', 'andulka', 'kočka', 'králík']\n"
     ]
    }
   ],
   "source": [
    "zvirata = ['had', 'andulka', 'pes', 'kočka', 'králík']\n",
    "dvojice = []\n",
    "vysledek = []\n",
    "\n",
    "def razeni_had(seznam1, seznam2, seznam3):\n",
    "    '''seřadí výchozí seznam1 podle abecedy, ale bude ignorovat první písmeno'''\n",
    "    for slovo in seznam1:\n",
    "        seznam2.append([slovo[1:], slovo])\n",
    "    seznam2.sort()\n",
    "    for item in seznam2:\n",
    "        seznam3.append(item[1])\n",
    "    seznam3\n",
    "\n",
    "razeni_had(zvirata, dvojice, vysledek)\n",
    "print(vysledek)"
   ]
  },
  {
   "cell_type": "markdown",
   "metadata": {
    "slideshow": {
     "slide_type": "slide"
    }
   },
   "source": [
    "Co se asi stane, když takovou funkci zavoláme vícekrát?"
   ]
  },
  {
   "cell_type": "code",
   "execution_count": 20,
   "metadata": {
    "slideshow": {
     "slide_type": "-"
    }
   },
   "outputs": [
    {
     "name": "stdout",
     "output_type": "stream",
     "text": [
      "['had', 'pes', 'andulka', 'kočka', 'králík']\n",
      "['had', 'pes', 'andulka', 'kočka', 'králík', 'had', 'had', 'pes', 'pes', 'andulka', 'andulka', 'kočka', 'kočka', 'králík', 'králík']\n"
     ]
    }
   ],
   "source": [
    "zvirata = ['had', 'andulka', 'pes', 'kočka', 'králík']\n",
    "dvojice = []\n",
    "vysledek = []\n",
    "\n",
    "def razeni_had(seznam1, seznam2, seznam3):\n",
    "    '''seřadí výchozí seznam1 podle abecedy, ale bude ignorovat první písmeno'''\n",
    "    for slovo in seznam1:\n",
    "        seznam2.append([slovo[1:], slovo])\n",
    "    seznam2.sort()\n",
    "    for item in seznam2:\n",
    "        seznam3.append(item[1])\n",
    "    seznam3\n",
    "\n",
    "razeni_had(zvirata, dvojice, vysledek)\n",
    "print(vysledek)\n",
    "razeni_had(zvirata, dvojice, vysledek)\n",
    "print(vysledek)"
   ]
  },
  {
   "cell_type": "markdown",
   "metadata": {
    "slideshow": {
     "slide_type": "slide"
    }
   },
   "source": [
    "## Ověření, že funkce funguje"
   ]
  },
  {
   "cell_type": "markdown",
   "metadata": {},
   "source": [
    "Nejsnazší je funkci prostě spustit s různými argumenty a podívat se, zda dělá to, co by dělat měla."
   ]
  },
  {
   "cell_type": "code",
   "execution_count": 7,
   "metadata": {
    "slideshow": {
     "slide_type": "slide"
    }
   },
   "outputs": [],
   "source": [
    "def absolutni_soucet(a, b):\n",
    "    if a < 0:\n",
    "        a = -a\n",
    "    if b < 0:\n",
    "        b = -b\n",
    "    return a + b"
   ]
  },
  {
   "cell_type": "code",
   "execution_count": 8,
   "metadata": {
    "slideshow": {
     "slide_type": "-"
    }
   },
   "outputs": [
    {
     "name": "stdout",
     "output_type": "stream",
     "text": [
      "3\n",
      "300\n",
      "3\n",
      "3\n",
      "102\n"
     ]
    }
   ],
   "source": [
    "print(absolutni_soucet(1, 2))\n",
    "print(absolutni_soucet(100, 200))\n",
    "print(absolutni_soucet(-1, -2))\n",
    "print(absolutni_soucet(-1, 2))\n",
    "print(absolutni_soucet(100, -2))"
   ]
  },
  {
   "cell_type": "markdown",
   "metadata": {
    "slideshow": {
     "slide_type": "slide"
    }
   },
   "source": [
    "## List comprehensions"
   ]
  },
  {
   "cell_type": "markdown",
   "metadata": {},
   "source": [
    "Jedná se o zápis s Pythonu s jehož pomocí se dají jednoduše vytvářet seznamy."
   ]
  },
  {
   "cell_type": "code",
   "execution_count": 9,
   "metadata": {
    "slideshow": {
     "slide_type": "-"
    }
   },
   "outputs": [
    {
     "data": {
      "text/plain": [
       "[0, 1, 4, 9, 16, 25, 36, 49, 64, 81]"
      ]
     },
     "execution_count": 9,
     "metadata": {},
     "output_type": "execute_result"
    }
   ],
   "source": [
    "seznam_mocnin = []\n",
    "\n",
    "for x in range(10):\n",
    "    seznam_mocnin.append(x ** 2)\n",
    "\n",
    "seznam_mocnin"
   ]
  },
  {
   "cell_type": "code",
   "execution_count": 10,
   "metadata": {
    "slideshow": {
     "slide_type": "slide"
    }
   },
   "outputs": [
    {
     "data": {
      "text/plain": [
       "[0, 1, 2, 3, 4, 5, 6, 7, 8, 9]"
      ]
     },
     "execution_count": 10,
     "metadata": {},
     "output_type": "execute_result"
    }
   ],
   "source": [
    "[x for x in range(10)]"
   ]
  },
  {
   "cell_type": "code",
   "execution_count": 11,
   "metadata": {
    "slideshow": {
     "slide_type": "slide"
    }
   },
   "outputs": [
    {
     "data": {
      "text/plain": [
       "[0, 1, 4, 9, 16, 25, 36, 49, 64, 81]"
      ]
     },
     "execution_count": 11,
     "metadata": {},
     "output_type": "execute_result"
    }
   ],
   "source": [
    "[x**2 for x in range(10)]"
   ]
  },
  {
   "cell_type": "code",
   "execution_count": 12,
   "metadata": {
    "slideshow": {
     "slide_type": "slide"
    }
   },
   "outputs": [
    {
     "data": {
      "text/plain": [
       "[0, 4, 16, 36, 64]"
      ]
     },
     "execution_count": 12,
     "metadata": {},
     "output_type": "execute_result"
    }
   ],
   "source": [
    "[x**2 for x in range(10) if x % 2 == 0]"
   ]
  },
  {
   "cell_type": "code",
   "execution_count": 13,
   "metadata": {
    "slideshow": {
     "slide_type": "slide"
    }
   },
   "outputs": [
    {
     "data": {
      "text/plain": [
       "[(0, 0),\n",
       " (1, 1),\n",
       " (2, 4),\n",
       " (3, 9),\n",
       " (4, 16),\n",
       " (5, 25),\n",
       " (6, 36),\n",
       " (7, 49),\n",
       " (8, 64),\n",
       " (9, 81)]"
      ]
     },
     "execution_count": 13,
     "metadata": {},
     "output_type": "execute_result"
    }
   ],
   "source": [
    "[(x, x**2) for x in range(10)]"
   ]
  },
  {
   "cell_type": "code",
   "execution_count": 14,
   "metadata": {
    "slideshow": {
     "slide_type": "slide"
    }
   },
   "outputs": [
    {
     "data": {
      "text/plain": [
       "[[0, 1, 2],\n",
       " [0, 1, 2],\n",
       " [0, 1, 2],\n",
       " [0, 1, 2],\n",
       " [0, 1, 2],\n",
       " [0, 1, 2],\n",
       " [0, 1, 2],\n",
       " [0, 1, 2],\n",
       " [0, 1, 2],\n",
       " [0, 1, 2]]"
      ]
     },
     "execution_count": 14,
     "metadata": {},
     "output_type": "execute_result"
    }
   ],
   "source": [
    "[[y for y in range(3)] for x in range(10)]"
   ]
  },
  {
   "cell_type": "markdown",
   "metadata": {
    "slideshow": {
     "slide_type": "slide"
    }
   },
   "source": [
    "## Tabulka s hracím polem"
   ]
  },
  {
   "cell_type": "markdown",
   "metadata": {
    "slideshow": {
     "slide_type": "slide"
    }
   },
   "source": [
    "### Řešení 1"
   ]
  },
  {
   "cell_type": "code",
   "execution_count": null,
   "metadata": {},
   "outputs": [],
   "source": [
    "def vytvor_tabulku():\n",
    "    zap_tabulka = []\n",
    "\n",
    "    for rada_x in '.', '.', '.', '.', '.', '.', '.', '.', '.', '.':\n",
    "        radek = []\n",
    "        for rada_y in '.', '.', '.', '.', '.', '.', '.', '.', '.', '.':\n",
    "            radek.append(rada_y)\n",
    "        zap_tabulka.append(radek)\n",
    "    return zap_tabulka"
   ]
  },
  {
   "cell_type": "markdown",
   "metadata": {
    "slideshow": {
     "slide_type": "slide"
    }
   },
   "source": [
    "### Řešení 2"
   ]
  },
  {
   "cell_type": "code",
   "execution_count": null,
   "metadata": {},
   "outputs": [],
   "source": [
    "def vytvor_prazdne_herni_pole(r,s):\n",
    "    seznam_radku = []\n",
    "    for a in range(r):\n",
    "        radek = [\".\"]\n",
    "        for b in range(s-1):\n",
    "            radek.append(\".\")\n",
    "        seznam_radku.append(radek)\n",
    "    return seznam_radku"
   ]
  },
  {
   "cell_type": "markdown",
   "metadata": {
    "slideshow": {
     "slide_type": "slide"
    }
   },
   "source": [
    "### Lepší řešení"
   ]
  },
  {
   "cell_type": "code",
   "execution_count": null,
   "metadata": {},
   "outputs": [],
   "source": [
    "def vytvor_tabulku(velikost):\n",
    "    seznam_radku = []\n",
    "    for a in range(velikost):\n",
    "        radek = []\n",
    "        for b in range(velikost):\n",
    "            radek.append(\".\")\n",
    "        seznam_radku.append(radek)\n",
    "    return seznam_radku"
   ]
  },
  {
   "cell_type": "markdown",
   "metadata": {
    "slideshow": {
     "slide_type": "slide"
    }
   },
   "source": [
    "### Lepší a krátké řešení"
   ]
  },
  {
   "cell_type": "code",
   "execution_count": null,
   "metadata": {},
   "outputs": [],
   "source": [
    "def vytvor_tabulku(velikost):\n",
    "    seznam_radku = []\n",
    "    for a in range(velikost):\n",
    "        radek = [\".\"] * velikost\n",
    "        seznam_radku.append(radek)\n",
    "    return seznam_radku"
   ]
  },
  {
   "cell_type": "markdown",
   "metadata": {
    "slideshow": {
     "slide_type": "slide"
    }
   },
   "source": [
    "### Krátké řešení (s pomocí list comprehensions)"
   ]
  },
  {
   "cell_type": "code",
   "execution_count": null,
   "metadata": {},
   "outputs": [],
   "source": [
    "def vytvor_tabulku(velikost):\n",
    "    tabulka = []\n",
    "    for x in range(velikost):\n",
    "        radek = ['.' for x in range(velikost)]\n",
    "        tabulka.append(radek)\n",
    "    return tabulka"
   ]
  },
  {
   "cell_type": "markdown",
   "metadata": {
    "slideshow": {
     "slide_type": "slide"
    }
   },
   "source": [
    "### Nejkratší řešení (je nejlepší?)"
   ]
  },
  {
   "cell_type": "code",
   "execution_count": null,
   "metadata": {},
   "outputs": [],
   "source": [
    "def vytvor_tabulku(velikost):\n",
    "    return [list('.' * velikost) for x in range(velikost)]"
   ]
  },
  {
   "cell_type": "markdown",
   "metadata": {
    "slideshow": {
     "slide_type": "slide"
    }
   },
   "source": [
    "### Je vytvoření kompletní tabulky se všemi hracími políčky vážně potřeba?"
   ]
  },
  {
   "cell_type": "markdown",
   "metadata": {
    "slideshow": {
     "slide_type": "slide"
    }
   },
   "source": [
    "## Had"
   ]
  },
  {
   "cell_type": "code",
   "execution_count": null,
   "metadata": {
    "slideshow": {
     "slide_type": "slide"
    }
   },
   "outputs": [],
   "source": [
    "def velikost_hraciho_pole():\n",
    "    \"\"\"Zjistí od uživatele rozumnou velikost herního pole\"\"\"\n",
    "    while True:\n",
    "        odpoved = input('Zadej velikost pole pro hada: ')\n",
    "        try:\n",
    "            velikost = int(odpoved)\n",
    "        except ValueError:\n",
    "            print('Velikost musí být celé číslo')\n",
    "        else:\n",
    "            if velikost > 5:\n",
    "                break\n",
    "            else:\n",
    "                print('Pole musí být rozumně veliké!')\n",
    "\n",
    "    return velikost"
   ]
  },
  {
   "cell_type": "code",
   "execution_count": 15,
   "metadata": {
    "slideshow": {
     "slide_type": "slide"
    }
   },
   "outputs": [],
   "source": [
    "def vykresli_mapu(velikost, had, ovoce):\n",
    "    \"\"\"Vykreslí herní mapu s ovocem a hadem na správných místech\"\"\"\n",
    "    for x in range(velikost):\n",
    "        for y in range(velikost):\n",
    "            if (x, y) in had:\n",
    "                print('X', end=' ')\n",
    "            elif (x, y) in ovoce:\n",
    "                print('?', end=' ')\n",
    "            else:\n",
    "                print('.', end=' ')\n",
    "        print()"
   ]
  },
  {
   "cell_type": "code",
   "execution_count": 16,
   "metadata": {
    "slideshow": {
     "slide_type": "slide"
    }
   },
   "outputs": [],
   "source": [
    "def posun(velikost, had, ovoce):\n",
    "    \"\"\"Posune hada v určitém směru a zajistí jeho prodloužení při snězení jídla\"\"\"\n",
    "    while True:\n",
    "        smer = input('Zadej smer posunu [s, j, v, z]: ')\n",
    "        smer = smer.lower().strip()\n",
    "        if smer not in ('s', 'j', 'v', 'z'):\n",
    "            print('Nekorektni smer!')\n",
    "        else:\n",
    "            break\n",
    "\n",
    "    hlava = had[-1]\n",
    "    x, y = hlava\n",
    "    if smer == 's':\n",
    "        nova_hlava = x-1, y\n",
    "    elif smer == 'j':\n",
    "        nova_hlava = x+1, y\n",
    "    elif smer == 'v':\n",
    "        nova_hlava = x, y+1\n",
    "    elif smer == 'z':\n",
    "        nova_hlava = x, y-1\n",
    "\n",
    "    if nova_hlava in had:\n",
    "        raise ValueError('GAME OVER! Narazil si sam do sebe')\n",
    "\n",
    "    x, y = nova_hlava\n",
    "\n",
    "    if x < 0 or x > velikost-1 or y < 0 or y > velikost-1:\n",
    "        raise ValueError('GAME OVER! Vyjel si mimo herni pole')\n",
    "\n",
    "    if nova_hlava in ovoce:\n",
    "        ovoce.remove(nova_hlava)\n",
    "    else:\n",
    "        del had[0]\n",
    "\n",
    "    had.append(nova_hlava)\n",
    "    return True"
   ]
  },
  {
   "cell_type": "code",
   "execution_count": 17,
   "metadata": {
    "slideshow": {
     "slide_type": "slide"
    }
   },
   "outputs": [],
   "source": [
    "from random import randrange\n",
    "\n",
    "def pridej_ovoce(velikost, had, ovoce):\n",
    "    \"\"\"Přidá další ovoce na herní plochu mimo souřadnice hada\"\"\"\n",
    "    ovoce.append((randrange(0, velikost), randrange(0, velikost)))\n",
    "    while ovoce[-1] in had:\n",
    "        del ovoce[-1]\n",
    "        ovoce.append((randrange(0, velikost), randrange(0, velikost)))"
   ]
  },
  {
   "cell_type": "code",
   "execution_count": null,
   "metadata": {
    "slideshow": {
     "slide_type": "slide"
    }
   },
   "outputs": [],
   "source": [
    "def hra():\n",
    "    \"\"\"Hlavní části hry spojeny ve finální celek\"\"\"\n",
    "    velikost = velikost_hraciho_pole()\n",
    "\n",
    "    had = [(0, 0), (0, 1), (0, 2)]\n",
    "    ovoce = []\n",
    "    pridej_ovoce(velikost, had, ovoce)\n",
    "\n",
    "    vykresli_mapu(velikost, had, ovoce)\n",
    "\n",
    "    while posun(velikost, had, ovoce):\n",
    "        vykresli_mapu(velikost, had, ovoce)\n",
    "        if not ovoce:\n",
    "            pridej_ovoce(velikost, had, ovoce)"
   ]
  },
  {
   "cell_type": "code",
   "execution_count": null,
   "metadata": {
    "slideshow": {
     "slide_type": "slide"
    }
   },
   "outputs": [],
   "source": [
    "hra()"
   ]
  },
  {
   "cell_type": "markdown",
   "metadata": {
    "slideshow": {
     "slide_type": "slide"
    }
   },
   "source": [
    "## Rubber duck problem solving"
   ]
  },
  {
   "cell_type": "markdown",
   "metadata": {},
   "source": [
    "![Gumová kačenka](https://raw.githubusercontent.com/RubberDuckDebugging/rubberduckdebugging.github.io/master/images/rubberducky.png)\n",
    "\n",
    "[rubberduckdebugging.com](https://rubberduckdebugging.com/)"
   ]
  },
  {
   "cell_type": "markdown",
   "metadata": {
    "slideshow": {
     "slide_type": "-"
    }
   },
   "source": [
    "Jde o techniku řešení problému, při které se svůj problém snažíte vysvětlit někomu (nebo v případě gumové kachny něčemu), kdo programování nemusí vůbec rozumět. Když řešenou problematiku a vaše současné řešení popisujete nahlas, uvědomíte si, co váš program aktuálně dělá a co by dělat měl, což zpravidla vede k vyřešení problému."
   ]
  },
  {
   "cell_type": "markdown",
   "metadata": {
    "slideshow": {
     "slide_type": "slide"
    }
   },
   "source": [
    "## Obecné rady a poznatky"
   ]
  },
  {
   "cell_type": "markdown",
   "metadata": {},
   "source": [
    "## Snažte se!!!"
   ]
  }
 ],
 "metadata": {
  "celltoolbar": "Slideshow",
  "kernelspec": {
   "display_name": "Python 3",
   "language": "python",
   "name": "python3"
  },
  "language_info": {
   "codemirror_mode": {
    "name": "ipython",
    "version": 3
   },
   "file_extension": ".py",
   "mimetype": "text/x-python",
   "name": "python",
   "nbconvert_exporter": "python",
   "pygments_lexer": "ipython3",
   "version": "3.7.0"
  }
 },
 "nbformat": 4,
 "nbformat_minor": 2
}
