{
 "cells": [
  {
   "cell_type": "markdown",
   "metadata": {
    "slideshow": {
     "slide_type": "slide"
    }
   },
   "source": [
    "# Feedback k domácím projektům"
   ]
  },
  {
   "cell_type": "markdown",
   "metadata": {
    "slideshow": {
     "slide_type": "slide"
    }
   },
   "source": [
    "## Zvířátka"
   ]
  },
  {
   "cell_type": "markdown",
   "metadata": {},
   "source": [
    "Najdi chyby, nejasnosti či nepřesnosti v tomto kódu:"
   ]
  },
  {
   "cell_type": "code",
   "execution_count": 3,
   "metadata": {},
   "outputs": [
    {
     "name": "stdout",
     "output_type": "stream",
     "text": [
      "Zadej zvíře: ježek\n",
      "False\n"
     ]
    }
   ],
   "source": [
    "zvire = input(\"Zadej zvíře: \")\n",
    "\n",
    "def je_v_seznamu(zvire):\n",
    "    zvirata = [\"pes\", \"kočka\", \"králík\", \"had\", \"andulka\", \"želva\"]\n",
    "    for jmeno in zvirata: \n",
    "        if zvire in zvirata:\n",
    "            return \"True\"\n",
    "        else:\n",
    "            return \"False\"\n",
    "            \n",
    "print(je_v_seznamu(zvire))\n"
   ]
  },
  {
   "cell_type": "markdown",
   "metadata": {
    "slideshow": {
     "slide_type": "slide"
    }
   },
   "source": [
    "Po úpravě: "
   ]
  },
  {
   "cell_type": "code",
   "execution_count": 4,
   "metadata": {},
   "outputs": [
    {
     "name": "stdout",
     "output_type": "stream",
     "text": [
      "Zadej zvíře: ježek\n",
      "False\n"
     ]
    }
   ],
   "source": [
    "zvirata = [\"pes\", \"kočka\", \"králík\", \"had\", \"andulka\", \"želva\"]\n",
    "zvire = input(\"Zadej zvíře: \")\n",
    "\n",
    "def je_v_seznamu(zvirata, zvire):\n",
    "    if zvire in zvirata:\n",
    "        return True\n",
    "    else:\n",
    "        return False\n",
    "\n",
    "print(je_v_seznamu(zvirata, zvire))"
   ]
  },
  {
   "cell_type": "markdown",
   "metadata": {},
   "source": [
    "Je možné tuto funkci ještě zkrátit a zjednodušit?"
   ]
  },
  {
   "cell_type": "code",
   "execution_count": 8,
   "metadata": {},
   "outputs": [
    {
     "name": "stdout",
     "output_type": "stream",
     "text": [
      "Zadej zvíře: ježek\n",
      "False\n"
     ]
    }
   ],
   "source": [
    "def je_v_seznamu(zvirata, zvire):\n",
    "    return zvire in zvirata\n",
    "\n",
    "zvirata = [\"pes\", \"kočka\", \"králík\", \"had\", \"andulka\", \"želva\"]\n",
    "zvire = input(\"Zadej zvíře: \")\n",
    "print(je_v_seznamu(zvirata, zvire))"
   ]
  },
  {
   "cell_type": "markdown",
   "metadata": {
    "slideshow": {
     "slide_type": "slide"
    }
   },
   "source": [
    "Další podobná funkce:"
   ]
  },
  {
   "cell_type": "code",
   "execution_count": 1,
   "metadata": {},
   "outputs": [
    {
     "ename": "NameError",
     "evalue": "name 'zvirata' is not defined",
     "output_type": "error",
     "traceback": [
      "\u001b[1;31m---------------------------------------------------------------------------\u001b[0m",
      "\u001b[1;31mNameError\u001b[0m                                 Traceback (most recent call last)",
      "\u001b[1;32m<ipython-input-1-6509de98d3ec>\u001b[0m in \u001b[0;36m<module>\u001b[1;34m\u001b[0m\n\u001b[1;32m----> 1\u001b[1;33m \u001b[1;32mdef\u001b[0m \u001b[0mkratke\u001b[0m\u001b[1;33m(\u001b[0m\u001b[0mjmeno\u001b[0m \u001b[1;33m=\u001b[0m \u001b[0mzvirata\u001b[0m\u001b[1;33m)\u001b[0m\u001b[1;33m:\u001b[0m\u001b[1;33m\u001b[0m\u001b[1;33m\u001b[0m\u001b[0m\n\u001b[0m\u001b[0;32m      2\u001b[0m     \u001b[1;32mfor\u001b[0m \u001b[0mi\u001b[0m \u001b[1;32min\u001b[0m \u001b[0mrange\u001b[0m\u001b[1;33m(\u001b[0m\u001b[0mlen\u001b[0m\u001b[1;33m(\u001b[0m\u001b[0mjmeno\u001b[0m\u001b[1;33m)\u001b[0m\u001b[1;33m)\u001b[0m\u001b[1;33m:\u001b[0m\u001b[1;33m\u001b[0m\u001b[1;33m\u001b[0m\u001b[0m\n\u001b[0;32m      3\u001b[0m         \u001b[1;32mif\u001b[0m \u001b[0mlen\u001b[0m\u001b[1;33m(\u001b[0m\u001b[0mjmeno\u001b[0m\u001b[1;33m[\u001b[0m\u001b[0mi\u001b[0m\u001b[1;33m]\u001b[0m\u001b[1;33m)\u001b[0m \u001b[1;33m<\u001b[0m \u001b[1;36m5\u001b[0m\u001b[1;33m:\u001b[0m\u001b[1;33m\u001b[0m\u001b[1;33m\u001b[0m\u001b[0m\n\u001b[0;32m      4\u001b[0m             \u001b[0mprint\u001b[0m\u001b[1;33m(\u001b[0m\u001b[0mjmeno\u001b[0m\u001b[1;33m[\u001b[0m\u001b[0mi\u001b[0m\u001b[1;33m]\u001b[0m\u001b[1;33m)\u001b[0m\u001b[1;33m\u001b[0m\u001b[1;33m\u001b[0m\u001b[0m\n\u001b[0;32m      5\u001b[0m         \u001b[1;32melse\u001b[0m\u001b[1;33m:\u001b[0m\u001b[1;33m\u001b[0m\u001b[1;33m\u001b[0m\u001b[0m\n",
      "\u001b[1;31mNameError\u001b[0m: name 'zvirata' is not defined"
     ]
    }
   ],
   "source": [
    "def kratke(jmeno = zvirata):\n",
    "    for i in range(len(jmeno)):\n",
    "        if len(jmeno[i]) < 5:\n",
    "            print(jmeno[i])\n",
    "        else:\n",
    "            print(end = \"\")\n",
    "    return jmeno\n",
    "\n",
    "zvirata = [\"pes\", \"kočka\", \"králík\", \"had\"]\n",
    "kratke(zvirata)"
   ]
  },
  {
   "cell_type": "markdown",
   "metadata": {
    "slideshow": {
     "slide_type": "slide"
    }
   },
   "source": [
    "A její přehlednější varianta:"
   ]
  },
  {
   "cell_type": "code",
   "execution_count": 9,
   "metadata": {},
   "outputs": [
    {
     "name": "stdout",
     "output_type": "stream",
     "text": [
      "['pes', 'had']\n"
     ]
    }
   ],
   "source": [
    "def kratke(seznam):\n",
    "    novy_seznam = []\n",
    "    for zvire in zvirata:\n",
    "        if len(zvire) < 5:\n",
    "            novy_seznam.append(zvire)\n",
    "    return novy_seznam\n",
    "\n",
    "zvirata = [\"pes\", \"kočka\", \"králík\", \"had\"]\n",
    "print(kratke(zvirata))"
   ]
  },
  {
   "cell_type": "markdown",
   "metadata": {
    "slideshow": {
     "slide_type": "slide"
    }
   },
   "source": [
    "## Básnička"
   ]
  },
  {
   "cell_type": "markdown",
   "metadata": {
    "slideshow": {
     "slide_type": "slide"
    }
   },
   "source": [
    "### Obrácené pořadí veršů"
   ]
  },
  {
   "cell_type": "code",
   "execution_count": 10,
   "metadata": {},
   "outputs": [
    {
     "name": "stdout",
     "output_type": "stream",
     "text": [
      "\n",
      "Anyway the wind blows doesn't really matter to me, to me.\n",
      "Little high, little low,\n",
      "Because I'm easy come, easy go,\n",
      "I'm just a poor boy, I need no sympathy,\n",
      "Look up to the skies and see,\n",
      "Open your eyes,\n",
      "\n",
      "No escape from reality.\n",
      "Caught in a landslide,\n",
      "Is this just fantasy?\n",
      "Is this the real life?\n"
     ]
    }
   ],
   "source": [
    "with open(\"static/basnicka.txt\", encoding=\"utf-8\") as soubor_s_basnickou:\n",
    "    basnicka = soubor_s_basnickou.read()\n",
    "\n",
    "seznam_versu = basnicka.split(\"\\n\")  # Rozdělí básničku na jednotlivé verše (řádky) [seznam]\n",
    "seznam_versu.reverse()  # Obrátí pořadí veršů v seznamu\n",
    "obracena_basnicka = \"\\n\".join(seznam_versu)  # Složí zpět seznam na řetězec a mezi verše vloží \\n\n",
    "print(obracena_basnicka)"
   ]
  },
  {
   "cell_type": "code",
   "execution_count": 11,
   "metadata": {
    "scrolled": true,
    "slideshow": {
     "slide_type": "slide"
    }
   },
   "outputs": [
    {
     "name": "stdout",
     "output_type": "stream",
     "text": [
      "Anyway the wind blows doesn't really matter to me, to me.\n",
      "Little high, little low,\n",
      "Because I'm easy come, easy go,\n",
      "I'm just a poor boy, I need no sympathy,\n",
      "Look up to the skies and see,\n",
      "Open your eyes,\n",
      "\n",
      "No escape from reality.\n",
      "Caught in a landslide,\n",
      "Is this just fantasy?\n",
      "Is this the real life?\n"
     ]
    }
   ],
   "source": [
    "with open(\"static/basnicka.txt\", encoding=\"utf-8\") as soubor_s_basnickou:\n",
    "    seznam_versu = soubor_s_basnickou.readlines()\n",
    "\n",
    "for vers in seznam_versu[::-1]:\n",
    "    print(vers, end=\"\")"
   ]
  },
  {
   "cell_type": "markdown",
   "metadata": {
    "slideshow": {
     "slide_type": "slide"
    }
   },
   "source": [
    "### Obrácené pořadí slov ve verších"
   ]
  },
  {
   "cell_type": "code",
   "execution_count": 12,
   "metadata": {
    "slideshow": {
     "slide_type": "slide"
    }
   },
   "outputs": [
    {
     "name": "stdout",
     "output_type": "stream",
     "text": [
      "life? real the this Is\n",
      "fantasy? just this Is\n",
      "landslide, a in Caught\n",
      "reality. from escape No\n",
      "\n",
      "eyes, your Open\n",
      "see, and skies the to up Look\n",
      "sympathy, no need I boy, poor a just I'm\n",
      "go, easy come, easy I'm Because\n",
      "low, little high, Little\n",
      "me. to me, to matter really doesn't blows wind the Anyway\n",
      "\n"
     ]
    }
   ],
   "source": [
    "with open(\"static/basnicka.txt\", encoding=\"utf-8\") as soubor_s_basnickou:\n",
    "    basnicka = soubor_s_basnickou.read()\n",
    "\n",
    "seznam_versu = basnicka.split(\"\\n\")  # Rozdělí básničku na jednotlivé verše (řádky) [seznam]\n",
    "\n",
    "nova_basnicka = []  # Seznam pro novou básničku, která obrácením pořadí slov vznikne\n",
    "\n",
    "for vers in seznam_versu:  # Pro každý verš v originální básničce\n",
    "    slova = vers.split()  # Rozdělí verš na slova [seznam]\n",
    "    slova.reverse()  # Obrátí pořádí slov\n",
    "    novy_vers = \" \".join(slova)  # Spojí obrázená slova zpět do řetězce\n",
    "    nova_basnicka.append(novy_vers)  # Přidá nový verš do nové básničky\n",
    "\n",
    "obracena_basnicka = \"\\n\".join(nova_basnicka)  # Složí zpět seznam na řetězec a mezi verše vloží \\n\n",
    "print(obracena_basnicka)"
   ]
  },
  {
   "cell_type": "code",
   "execution_count": 13,
   "metadata": {
    "slideshow": {
     "slide_type": "slide"
    }
   },
   "outputs": [
    {
     "name": "stdout",
     "output_type": "stream",
     "text": [
      "life? real the this Is\n",
      "fantasy? just this Is\n",
      "landslide, a in Caught\n",
      "reality. from escape No\n",
      "\n",
      "eyes, your Open\n",
      "see, and skies the to up Look\n",
      "sympathy, no need I boy, poor a just I'm\n",
      "go, easy come, easy I'm Because\n",
      "low, little high, Little\n",
      "me. to me, to matter really doesn't blows wind the Anyway\n"
     ]
    }
   ],
   "source": [
    "with open(\"static/basnicka.txt\", encoding=\"utf-8\") as soubor_s_basnickou:\n",
    "    seznam_versu = soubor_s_basnickou.readlines()\n",
    "\n",
    "for i, vers in enumerate(seznam_versu):\n",
    "    slova = vers.split()\n",
    "    slova.reverse()\n",
    "    seznam_versu[i] = \" \".join(slova)\n",
    "\n",
    "print(\"\\n\".join(seznam_versu))"
   ]
  },
  {
   "cell_type": "markdown",
   "metadata": {
    "slideshow": {
     "slide_type": "slide"
    }
   },
   "source": [
    "### Obrácené pořadí slok"
   ]
  },
  {
   "cell_type": "code",
   "execution_count": 14,
   "metadata": {
    "slideshow": {
     "slide_type": "slide"
    }
   },
   "outputs": [
    {
     "name": "stdout",
     "output_type": "stream",
     "text": [
      "Open your eyes,\n",
      "Look up to the skies and see,\n",
      "I'm just a poor boy, I need no sympathy,\n",
      "Because I'm easy come, easy go,\n",
      "Little high, little low,\n",
      "Anyway the wind blows doesn't really matter to me, to me.\n",
      "\n",
      "Is this the real life?\n",
      "Is this just fantasy?\n",
      "Caught in a landslide,\n",
      "No escape from reality.\n"
     ]
    }
   ],
   "source": [
    "with open(\"static/basnicka.txt\", encoding=\"utf-8\") as soubor_s_basnickou:\n",
    "    basnicka = soubor_s_basnickou.read()\n",
    "\n",
    "seznam_slok = basnicka.split(\"\\n\\n\")  # Rozdělí básničku na jednotlivé sloky [seznam]\n",
    "seznam_slok.reverse()\n",
    "basnicka = \"\\n\".join(seznam_slok)\n",
    "print(basnicka)"
   ]
  },
  {
   "cell_type": "markdown",
   "metadata": {
    "slideshow": {
     "slide_type": "slide"
    }
   },
   "source": [
    "### Slova v náhodném pořadí"
   ]
  },
  {
   "cell_type": "code",
   "execution_count": 3,
   "metadata": {
    "slideshow": {
     "slide_type": "slide"
    }
   },
   "outputs": [
    {
     "name": "stdout",
     "output_type": "stream",
     "text": [
      "me, life? landslide, I this to\n",
      "low, go, eyes, and a Is\n",
      "the boy, easy see, blows to\n",
      "the me. this Because Look sympathy,\n",
      "just I'm easy I'm wind from\n",
      "\n",
      "doesn't fantasy? your escape need Is\n",
      "the to really come, real reality.\n",
      "little high, a poor No\n",
      "Open Caught up in skies\n",
      "Anyway no Little just matter\n",
      "\n"
     ]
    }
   ],
   "source": [
    "from random import shuffle\n",
    "\n",
    "\n",
    "with open(\"static/basnicka.txt\", mode=\"r\", encoding=\"utf-8\") as file:\n",
    "    basnicka = file.read()\n",
    "\n",
    "# Analýza básničky\n",
    "pocet_slok = len(basnicka.split(\"\\n\\n\"))\n",
    "sloky = basnicka.split(\"\\n\")\n",
    "pocet_versu = len(sloky)\n",
    "for vers in sloky:\n",
    "    if not vers:\n",
    "        pocet_versu -= 1\n",
    "\n",
    "# Zásobník slov z původní básně\n",
    "slova = basnicka.split()\n",
    "shuffle(slova)\n",
    "\n",
    "# Tvorba nové básně ze zamíchaných slov\n",
    "basen = []\n",
    "\n",
    "while slova:\n",
    "    for radek in range(pocet_versu):\n",
    "        slovo = slova.pop()\n",
    "        try:\n",
    "            basen[radek].append(slovo)\n",
    "        except IndexError:\n",
    "            basen.append(list())\n",
    "            basen[radek].append(slovo)\n",
    "        if not slova:\n",
    "            break\n",
    "\n",
    "for index, radek in enumerate(basen):\n",
    "    vers = \" \".join(radek)\n",
    "    basen[index] = vers\n",
    "    if (index + 1) % (pocet_versu / pocet_slok) == 0:\n",
    "        basen[index] += \"\\n\"\n",
    "\n",
    "basen = \"\\n\".join(basen)\n",
    "\n",
    "print(basen)\n"
   ]
  },
  {
   "cell_type": "markdown",
   "metadata": {
    "slideshow": {
     "slide_type": "slide"
    }
   },
   "source": [
    "## Rubber duck problem solving"
   ]
  },
  {
   "cell_type": "markdown",
   "metadata": {},
   "source": [
    "![Gumová kačenka](https://raw.githubusercontent.com/RubberDuckDebugging/rubberduckdebugging.github.io/master/images/rubberducky.png)\n",
    "\n",
    "[rubberduckdebugging.com](https://rubberduckdebugging.com/)"
   ]
  },
  {
   "cell_type": "markdown",
   "metadata": {
    "slideshow": {
     "slide_type": "-"
    }
   },
   "source": [
    "Jde o techniku řešení problému, při které se svůj problém snažíte vysvětlit někomu (nebo v případě gumové kachny něčemu), kdo programování nemusí vůbec rozumět. Když řešenou problematiku a vaše současné řešení popisujete nahlas, uvědomíte si, co váš program aktuálně dělá a co by dělat měl, což zpravidla vede k vyřešení problému."
   ]
  }
 ],
 "metadata": {
  "celltoolbar": "Slideshow",
  "kernelspec": {
   "display_name": "Python 3",
   "language": "python",
   "name": "python3"
  },
  "language_info": {
   "codemirror_mode": {
    "name": "ipython",
    "version": 3
   },
   "file_extension": ".py",
   "mimetype": "text/x-python",
   "name": "python",
   "nbconvert_exporter": "python",
   "pygments_lexer": "ipython3",
   "version": "3.8.1"
  }
 },
 "nbformat": 4,
 "nbformat_minor": 2
}
