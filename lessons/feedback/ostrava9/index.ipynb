{
 "cells": [
  {
   "cell_type": "markdown",
   "metadata": {
    "slideshow": {
     "slide_type": "slide"
    }
   },
   "source": [
    "# Feedback k domácím projektům"
   ]
  },
  {
   "cell_type": "markdown",
   "metadata": {},
   "source": [
    "## Úkol 1\n",
    "Doplň funkci tah_pocitace tak, aby brala jako argument symbol, za který má počítač hrát – buď 'x',nebo 'o'. Ověř, že se funkce tah_pocitace umí vyrovnat s jinou délkou hracího pole než 20. Ověř si,že se tah_pocitace chová rozumně když dostane plné hrací pole, nebo pole s délkou 0. Rozumné chování v tomto případě znamená vyvolání rozumné výjimky."
   ]
  },
  {
   "cell_type": "markdown",
   "metadata": {},
   "source": [
    "### Funkce tah_pocitace() před úpravou:"
   ]
  },
  {
   "cell_type": "code",
   "execution_count": 4,
   "metadata": {},
   "outputs": [],
   "source": [
    "def tah_pocitace(herni_pole):\n",
    "    \"\"\"Vrátí herní pole se zaznamenaným tahem počítače.\"\"\"\n",
    "    while True:\n",
    "        cislo_pozice = randrange(20)\n",
    "        if herni_pole[cislo_pozice] == \"-\":\n",
    "            return tah(herni_pole, cislo_pozice, \"o\")"
   ]
  },
  {
   "cell_type": "markdown",
   "metadata": {},
   "source": [
    "### Jedna z možností, jak funkci tah_pocitace() upravit:"
   ]
  },
  {
   "cell_type": "code",
   "execution_count": 5,
   "metadata": {},
   "outputs": [],
   "source": [
    "def tah_pocitace(herni_pole, symbol):\n",
    "    \"\"\"Vrátí herní pole se zaznamenaným tahem počítače.\"\"\"\n",
    "    if len(herni_pole) == 0:\n",
    "        raise ValueError(\"Nelze hrát, herní pole má délku 0\")\n",
    "    if \"-\" not in herni_pole:\n",
    "        raise ValueError(\"Nelze hrát, herní pole je plné\")\n",
    "    while True:\n",
    "        cislo_pozice = randrange(len(herni_pole))\n",
    "        if herni_pole[cislo_pozice] == \"-\":\n",
    "            return tah(herni_pole, cislo_pozice, symbol)"
   ]
  },
  {
   "cell_type": "markdown",
   "metadata": {},
   "source": [
    "## Ukázka testu, zda se umí tah_pocitace() vyrovnat s různou délkou herního pole."
   ]
  },
  {
   "cell_type": "code",
   "execution_count": null,
   "metadata": {},
   "outputs": [],
   "source": [
    "def test_tah_PC_ruzna_delka_pole():\n",
    "    '''\n",
    "    Test funkce tah_pocitace: program se umí vyrovnat s různou délkou hracího\n",
    "    pole = nedojde k chybě, po tahu počítače se nezmění délka hracího pole\n",
    "    a nové hrací pole bude obsahovat 1 znak symbolu \"x\" a zbytek bude prázdný.\n",
    "    '''\n",
    "    for delka_pole in range (1, 100):\n",
    "        pole = '-' * delka_pole\n",
    "        pole = ai.tah_pocitace(pole, 'x')\n",
    "        assert len(pole) == delka_pole\n",
    "        assert pole.count('x') == 1\n",
    "        assert pole.count('-') == delka_pole - 1\n",
    "\n",
    "def test_tah_PC_vyjimky():\n",
    "    '''\n",
    "    Testuje vyvolání vyjímky v případě herního pole nulové délky a herního pole\n",
    "    bez prázdných míst.\n",
    "    '''\n",
    "    pole = ''  # prázné herní pole\n",
    "    with pytest.raises(ValueError):\n",
    "        pole = ai.tah_pocitace(pole, 'x')\n",
    "    \n",
    "    pole = 'xoxoxox'  # pole, kde není kam hrát\n",
    "    with pytest.raises(ValueError):\n",
    "        pole = ai.tah_pocitace(pole, 'x')"
   ]
  },
  {
   "cell_type": "markdown",
   "metadata": {},
   "source": [
    "## Ukázky dalších možných testů"
   ]
  },
  {
   "cell_type": "code",
   "execution_count": null,
   "metadata": {},
   "outputs": [],
   "source": [
    "def test_tah_PC_zapln_pole():\n",
    "    '''\n",
    "    Test funkce tah_pocitace: při opakovaném tahu počítač zaplní celé pole\n",
    "    '''\n",
    "    pole = '----------'\n",
    "    for i in range(10):\n",
    "        pole = ai.tah_pocitace(pole,'o')\n",
    "    assert pole == 'xxxxxxxxxx'\n",
    "\n",
    "    \n",
    "def test_tah_vyjimka():\n",
    "    '''\n",
    "    Test funkce tah: funkce vyvolá výjimku:\n",
    "    --> ValueError - když dostane prázné pole nebo když jako symbol dostane\n",
    "                    více znaků,\n",
    "    --> IndexError - když má zapsat symbol na pozici mimo pole, když jako pozice\n",
    "                    není INT,\n",
    "    --> TypeError - když dostane jako symbol, který má zapsat INT místo STR\n",
    "    '''\n",
    "    with pytest.raises(ValueError):\n",
    "        ai.tah('',0,'x')\n",
    "        ai.tah('---',0,'abc')\n",
    "\n",
    "    with pytest.raises(IndexError):\n",
    "        ai.tah('---',10,'x')\n",
    "        ai.tah('---------','A', 'x')\n",
    "        ai.tah('---------',10.5, 'x')\n",
    "\n",
    "    with pytest.raises(TypeError):\n",
    "        ai.tah('---------',0,5)\n",
    "        ai.tah('---------',0,10.5)\n",
    "\n",
    "\n",
    "def test_tah_PC_ruzna_delka_pole():\n",
    "    '''\n",
    "    Test funkce tah_pocitace: program se umí vyrovnat s různou délkou hracího\n",
    "    pole = nedojde k chybě, po tahu počítače se nezmění délka hracího pole\n",
    "    a nové hrací pole bude obsahovat 1 znak symbolu \"x\" a zbytek bude prázdný.\n",
    "    '''\n",
    "    for delka_pole in range (1, 10000):\n",
    "        pole = ai.tah_pocitace('-'*delka_pole,'o')\n",
    "        assert len(pole) == delka_pole\n",
    "        assert pole.count('x') == 1\n",
    "        assert pole.count('-') == delka_pole - 1"
   ]
  },
  {
   "cell_type": "markdown",
   "metadata": {
    "slideshow": {
     "slide_type": "slide"
    }
   },
   "source": [
    "## Obecné rady a postřehy"
   ]
  },
  {
   "cell_type": "markdown",
   "metadata": {
    "slideshow": {
     "slide_type": "-"
    }
   },
   "source": [
    "* Evergreen = ptejte se!\n",
    "* Dokumentační řetězce se píšou do třech uvozovek a patří na první řádky do těla funkce. Pokud si chcete poznamenat nějakou poznámku na jiném místě, používejte komentáře (#)."
   ]
  }
 ],
 "metadata": {
  "celltoolbar": "Slideshow",
  "kernelspec": {
   "display_name": "Python 3",
   "language": "python",
   "name": "python3"
  },
  "language_info": {
   "codemirror_mode": {
    "name": "ipython",
    "version": 3
   },
   "file_extension": ".py",
   "mimetype": "text/x-python",
   "name": "python",
   "nbconvert_exporter": "python",
   "pygments_lexer": "ipython3",
   "version": "3.8.1"
  }
 },
 "nbformat": 4,
 "nbformat_minor": 4
}
