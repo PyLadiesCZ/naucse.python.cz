{
 "cells": [
  {
   "cell_type": "markdown",
   "metadata": {
    "slideshow": {
     "slide_type": "slide"
    }
   },
   "source": [
    "# Feedback k domácím projektům"
   ]
  },
  {
   "cell_type": "markdown",
   "metadata": {
    "slideshow": {
     "slide_type": "slide"
    }
   },
   "source": [
    "## Importy\n",
    "V domácích projektech po rozdělení piškvorek na několik souborů byl problém s importy a následném volání importovaných funkcí (NameError). Ukázka importu modulu random a použití funkce randrange()."
   ]
  },
  {
   "cell_type": "code",
   "execution_count": 1,
   "metadata": {
    "tags": [
     "raises-exception"
    ]
   },
   "outputs": [
    {
     "ename": "NameError",
     "evalue": "name 'randrange' is not defined",
     "output_type": "error",
     "traceback": [
      "\u001b[0;31m---------------------------------------------------------------------------\u001b[0m",
      "\u001b[0;31mNameError\u001b[0m                                 Traceback (most recent call last)",
      "\u001b[0;32m<ipython-input-1-ce52a365cc9f>\u001b[0m in \u001b[0;36m<module>\u001b[0;34m\u001b[0m\n\u001b[1;32m      1\u001b[0m \u001b[0;32mimport\u001b[0m \u001b[0mrandom\u001b[0m\u001b[0;34m\u001b[0m\u001b[0;34m\u001b[0m\u001b[0m\n\u001b[1;32m      2\u001b[0m \u001b[0;34m\u001b[0m\u001b[0m\n\u001b[0;32m----> 3\u001b[0;31m \u001b[0mnahodne_cislo\u001b[0m \u001b[0;34m=\u001b[0m \u001b[0mrandrange\u001b[0m\u001b[0;34m(\u001b[0m\u001b[0;36m10\u001b[0m\u001b[0;34m)\u001b[0m\u001b[0;34m\u001b[0m\u001b[0;34m\u001b[0m\u001b[0m\n\u001b[0m\u001b[1;32m      4\u001b[0m \u001b[0mprint\u001b[0m\u001b[0;34m(\u001b[0m\u001b[0mnahodne_cislo\u001b[0m\u001b[0;34m)\u001b[0m\u001b[0;34m\u001b[0m\u001b[0;34m\u001b[0m\u001b[0m\n",
      "\u001b[0;31mNameError\u001b[0m: name 'randrange' is not defined"
     ]
    }
   ],
   "source": [
    "import random\n",
    "\n",
    "nahodne_cislo = randrange(10)\n",
    "print(nahodne_cislo)"
   ]
  },
  {
   "cell_type": "markdown",
   "metadata": {},
   "source": [
    "### Jak to opravit?"
   ]
  },
  {
   "cell_type": "code",
   "execution_count": 2,
   "metadata": {},
   "outputs": [
    {
     "name": "stdout",
     "output_type": "stream",
     "text": [
      "2\n"
     ]
    }
   ],
   "source": [
    "from random import randrange\n",
    "\n",
    "nahodne_cislo = randrange(10)\n",
    "print(nahodne_cislo)"
   ]
  },
  {
   "cell_type": "markdown",
   "metadata": {},
   "source": [
    "### Další možnost"
   ]
  },
  {
   "cell_type": "code",
   "execution_count": 3,
   "metadata": {},
   "outputs": [
    {
     "name": "stdout",
     "output_type": "stream",
     "text": [
      "2\n"
     ]
    }
   ],
   "source": [
    "import random\n",
    "\n",
    "nahodne_cislo = random.randrange(10)\n",
    "print(nahodne_cislo)"
   ]
  },
  {
   "cell_type": "markdown",
   "metadata": {},
   "source": [
    "## Úkol 1:\n",
    "Doplň funkci tah_pocitace tak, aby brala jako argument symbol, za který má počítač hrát – buď 'x',nebo 'o'. Ověř, že se funkce tah_pocitace umí vyrovnat s jinou délkou hracího pole než 20. Ověř si,že se tah_pocitace chová rozumně když dostane plné hrací pole, nebo pole s délkou 0. Rozumné chování v tomto případě znamená vyvolání rozumné výjimky."
   ]
  },
  {
   "cell_type": "markdown",
   "metadata": {},
   "source": [
    "### Funkce tah_pocitace() před úpravou:"
   ]
  },
  {
   "cell_type": "code",
   "execution_count": 4,
   "metadata": {},
   "outputs": [],
   "source": [
    "def tah_pocitace(herni_pole):\n",
    "    \"\"\"Vrátí herní pole se zaznamenaným tahem počítače.\"\"\"\n",
    "    while True:\n",
    "        cislo_pozice = randrange(20)\n",
    "        if herni_pole[cislo_pozice] == \"-\":\n",
    "            return tah(herni_pole, cislo_pozice, \"o\")"
   ]
  },
  {
   "cell_type": "markdown",
   "metadata": {},
   "source": [
    "### Jedna z možností, jak funkci tah_pocitace() upravit:"
   ]
  },
  {
   "cell_type": "code",
   "execution_count": 5,
   "metadata": {},
   "outputs": [],
   "source": [
    "def tah_pocitace(herni_pole, symbol):\n",
    "    \"\"\"Vrátí herní pole se zaznamenaným tahem počítače.\"\"\"\n",
    "    if len(herni_pole) == 0:\n",
    "        raise ValueError(\"Nelze hrát, herní pole má délku 0\")\n",
    "    if \"-\" not in herni_pole:\n",
    "        raise ValueError(\"Nelze hrát, herní pole je plné\")\n",
    "    while True:\n",
    "        cislo_pozice = randrange(len(herni_pole))\n",
    "        if herni_pole[cislo_pozice] == \"-\":\n",
    "            return tah(herni_pole, cislo_pozice, symbol)"
   ]
  },
  {
   "cell_type": "markdown",
   "metadata": {},
   "source": [
    "## Ukázka testu, zda se umí tah_pocitace() vyrovnat s různou délkou herního pole."
   ]
  },
  {
   "cell_type": "code",
   "execution_count": 6,
   "metadata": {},
   "outputs": [],
   "source": [
    "def test_tah_PC_ruzna_delka_pole():\n",
    "    '''\n",
    "    Test funkce tah_pocitace: program se umí vyrovnat s různou délkou hracího\n",
    "    pole = nedojde k chybě, po tahu počítače se nezmění délka hracího pole\n",
    "    a nové hrací pole bude obsahovat 1 znak symbolu \"x\" a zbytek bude prázdný.\n",
    "    '''\n",
    "    for delka_pole in range (1, 100):\n",
    "        pole = '-' * delka_pole\n",
    "        pole = ai.tah_pocitace(pole, 'x')\n",
    "        assert len(pole) == delka_pole\n",
    "        assert pole.count('x') == 1\n",
    "        assert pole.count('-') == delka_pole - 1\n",
    "\n",
    "def test_tah_PC_vyjimky():\n",
    "    '''\n",
    "    Testuje vyvolání vyjímky v případě herního pole nulové délky a herního pole\n",
    "    bez prázdných míst.\n",
    "    '''\n",
    "    pole = ''  # prázné herní pole\n",
    "    with pytest.raises(ValueError):\n",
    "        pole = ai.tah_pocitace(pole, 'x')\n",
    "    \n",
    "    pole = 'xoxoxox'  # pole, kde není kam hrát\n",
    "    with pytest.raises(ValueError):\n",
    "        pole = ai.tah_pocitace(pole, 'x')"
   ]
  },
  {
   "cell_type": "markdown",
   "metadata": {
    "slideshow": {
     "slide_type": "slide"
    }
   },
   "source": [
    "## Obecné rady a postřehy"
   ]
  },
  {
   "cell_type": "markdown",
   "metadata": {
    "slideshow": {
     "slide_type": "-"
    }
   },
   "source": [
    "* Evergreen = ptejte se!\n",
    "* Dokumentační řetězce se píšou do třech uvozovek a patří na první řádky do těla funkce. Pokud si chcete poznamenat nějakou poznámku na jiném místě, používejte komentáře (#)."
   ]
  }
 ],
 "metadata": {
  "celltoolbar": "Slideshow",
  "kernelspec": {
   "display_name": "Python 3",
   "language": "python",
   "name": "python3"
  },
  "language_info": {
   "codemirror_mode": {
    "name": "ipython",
    "version": 3
   },
   "file_extension": ".py",
   "mimetype": "text/x-python",
   "name": "python",
   "nbconvert_exporter": "python",
   "pygments_lexer": "ipython3",
   "version": "3.7.6"
  }
 },
 "nbformat": 4,
 "nbformat_minor": 4
}
